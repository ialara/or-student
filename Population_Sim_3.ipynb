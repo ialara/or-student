{
  "nbformat": 4,
  "nbformat_minor": 0,
  "metadata": {
    "colab": {
      "name": "Population Sim 3.ipynb",
      "provenance": [],
      "authorship_tag": "ABX9TyMlDaatRtT7uU84jI/8W0ym",
      "include_colab_link": true
    },
    "kernelspec": {
      "name": "python3",
      "display_name": "Python 3"
    },
    "language_info": {
      "name": "python"
    }
  },
  "cells": [
    {
      "cell_type": "markdown",
      "metadata": {
        "id": "view-in-github",
        "colab_type": "text"
      },
      "source": [
        "<a href=\"https://colab.research.google.com/github/ialara/or-student/blob/main/Population_Sim_3.ipynb\" target=\"_parent\"><img src=\"https://colab.research.google.com/assets/colab-badge.svg\" alt=\"Open In Colab\"/></a>"
      ]
    },
    {
      "cell_type": "code",
      "execution_count": null,
      "metadata": {
        "id": "U2MMr1jcuG12"
      },
      "outputs": [],
      "source": [
        "# Sim #3 Yearly population model with individuals, births, deaths, sim initiation and sim run\n",
        "import numpy as np\n",
        "import matplotlib.pyplot as plt\n",
        "import random #Added"
      ]
    },
    {
      "cell_type": "code",
      "source": [
        "#Constants Added\n",
        "init_start_age = 18\n",
        "init_end_age = 50\n",
        "\n",
        "fertility_start = 18\n",
        "fertility_end = 40\n",
        "baby_odds = 0.25\n",
        "\n",
        "old_person = 60\n",
        "old_death_odds = 0.1"
      ],
      "metadata": {
        "id": "UpJMITKewPi7"
      },
      "execution_count": null,
      "outputs": []
    },
    {
      "cell_type": "code",
      "source": [
        "#Initialization variables\n",
        "year = 0\n",
        "\n",
        "population = np.zeros(10000)\n",
        "population[0] = 50 #Added\n",
        "peopleDictionary = [] #Added\n",
        "\n",
        "class person: #Added\n",
        "    def __init__(self, age):\n",
        "        self.gender = random.randint(0,1)\n",
        "        self.age = age\n",
        "\n",
        "def birth(): #Added\n",
        "    births = 0\n",
        "    for individual in peopleDictionary:\n",
        "        if individual.gender == 1 and \\\n",
        "           individual.age > fertility_start and \\\n",
        "           individual.age < fertility_end and \\\n",
        "           random.uniform(0,1) <= baby_odds:\n",
        "              peopleDictionary.append(person(0))\n",
        "              births += 1\n",
        "              #print(len(peopleDictionary))\n",
        "    return births\n",
        "\n",
        "def begin_sim(): #Added\n",
        "    for individual in range(int(population[0])):\n",
        "        peopleDictionary.append(person(random.randint(init_start_age, init_end_age)))\n",
        "\n",
        "def run_year(): #Added\n",
        "    deaths = 0\n",
        "    births = birth()\n",
        "    for individual in peopleDictionary:\n",
        "        if individual.age > old_person:\n",
        "            if random.uniform(0,1) <= old_death_odds:\n",
        "                peopleDictionary.remove(individual)\n",
        "                deaths += 1\n",
        "        else:\n",
        "            individual.age +=1\n",
        "    return births, deaths\n",
        "\n",
        "random.seed(180159) #Added\n",
        "begin_sim()\n",
        "while population[year] < 100000 and population[year] > 1: #and year < 20:\n",
        "    births, deaths = run_year()\n",
        "    year += 1\n",
        "    population[year] = len(peopleDictionary)\n",
        "    #print('Year:', year, 'births', births, 'deaths', deaths, 'population', population[year])\n",
        "\n",
        "years=np.arange(10000)\n",
        "#plt.xlim([0,50])\n",
        "#plt.ylim([0,200])\n",
        "plt.plot(years[0:year],population[0:year])\n",
        "if population[year] > 100000:\n",
        "  print('Population exceeded 1,000,000 in year', year)\n",
        "\n",
        "else:\n",
        "  print('Zero population in year', year)"
      ],
      "metadata": {
        "id": "RIFd7wE4urNd",
        "outputId": "d32582f9-66c6-482c-8bcd-95fde5fab58c",
        "colab": {
          "base_uri": "https://localhost:8080/",
          "height": 283
        }
      },
      "execution_count": null,
      "outputs": [
        {
          "output_type": "stream",
          "name": "stdout",
          "text": [
            "Population exceeded 1,000,000 in year 117\n"
          ]
        },
        {
          "output_type": "display_data",
          "data": {
            "text/plain": [
              "<Figure size 432x288 with 1 Axes>"
            ],
            "image/png": "[encoded data removed]"
          },
          "metadata": {
            "needs_background": "light"
          }
        }
      ]
    }
  ]
}