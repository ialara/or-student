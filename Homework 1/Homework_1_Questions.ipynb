{
  "nbformat": 4,
  "nbformat_minor": 0,
  "metadata": {
    "colab": {
      "name": "Homework 1 Questions.ipynb",
      "provenance": [],
      "collapsed_sections": []
    },
    "kernelspec": {
      "name": "python3",
      "display_name": "Python 3"
    },
    "language_info": {
      "name": "python"
    }
  },
  "cells": [
    {
      "cell_type": "markdown",
      "source": [
        "# **SIMULATION HOMEWORK 1**\n",
        "### **Due: In class on Friday, May 13, 2022**\n"
      ],
      "metadata": {
        "id": "mxfcOCGBGEfp"
      }
    },
    {
      "cell_type": "markdown",
      "source": [
        "1.\t[14 pts] Please answer the following questions with reference to the article by Mayer: \\\n",
        "a)\tWhat are 3 benefits of live games for the game players? [3 pts]\\\n",
        "b)\tWhat are 3 limitations of live games for the game players? [3 pts]\\\n",
        "c)\tWhat are 3 benefits of live games for those analyzing the play of the game? [3 pts]\\\n",
        "d)\tWhat are 3 limitations of live games for those analyzing the play of the game? [3 pts]\\\n",
        "e)\tWhat kinds of problem are best addressed with live games? [1 pt]\\\n",
        "f)\tWhat kinds of problem are not well addressed with live games? [1 pt] \n"
      ],
      "metadata": {
        "id": "ny6ui_oIF8fy"
      }
    },
    {
      "cell_type": "markdown",
      "source": [
        "Text answer here:"
      ],
      "metadata": {
        "id": "YedZl-EjGRq6"
      }
    },
    {
      "cell_type": "markdown",
      "source": [
        "2.\tBrien Alkire owns a root beer manufacturing plant in a far-off land where the basic monetary unit is the Swanger.  As the CEO, Brien would like to make some long-range projections for his business.  After some forethought about how the business works, Brien asks you to do some calculations to see if anything worthwhile can be gleaned about the future.  Brien observes the following:\\\n",
        "•\tEvery quarter, the business spends 90% of what it collects in profits in the previous quarter.\\\n",
        "•\t2 thousand Swangers plus 8% of the company’s net worth last quarter gets invested each quarter.\\\n",
        "•\tEach quarter’s net worth is 300,000 Swangers plus 185% of the sum of that quarter’s business spending and that quarter’s investments.\\\n",
        "•\tEach quarter’s profits are 20% of that quarter’s net worth.\\\n",
        "•\tRevenue each quarter is 54,000 Swangers plus 70% of the difference between that quarter’s net worth and that quarter’s profits.\\\n",
        "\\\n",
        "a)\tWrite five difference equations to represent this business model.\\\n",
        "b)\tExpress these difference equations in the form   where the elements of   are the business spending, investment, net worth, profits, and revenue in period n,   are the constants in the difference equations, and T is the coefficient matrix for the difference equations.\\\n",
        "c)\tWhat is the equilibrium for business spending, investment, net worth, profits, and revenue? \\\n",
        "d)\tHow would you determine if this equilibrium is stable?\n"
      ],
      "metadata": {
        "id": "bJzQKlit0HsM"
      }
    },
    {
      "cell_type": "markdown",
      "source": [
        "3.\t[3 pts] Consider the Root Beer Game:\\\n",
        "a)\tWhat was one thing about the game that was not “real”?  [1 pt]\\\n",
        "b)\tAs a decision maker in the game, what did you learn? [1 pt]\\\n",
        "c)\tList two ways you would redesign this supply chain to better fill customer demands and reduce costs? [2 pts]"
      ],
      "metadata": {
        "id": "sqeEdc3MGVfj"
      }
    },
    {
      "cell_type": "markdown",
      "source": [
        "\n",
        "Text answers here:"
      ],
      "metadata": {
        "id": "u-BqbjNYGalz"
      }
    },
    {
      "cell_type": "markdown",
      "source": [
        "4. [6 pts] Now consider the factory simulation developed in class.\\\n",
        "a)\tDerive an equation that can be used to determine the quantity to order each period.  This should be a function of inventory/backorders, orders, and/or demands up to that point in time.  Clearly explain this formula and why you think it is preferred to simply ordering what was just demanded. [5 pts]"
      ],
      "metadata": {
        "id": "w64IoC9AJQjx"
      }
    },
    {
      "cell_type": "markdown",
      "source": [
        "Text answer here:"
      ],
      "metadata": {
        "id": "urhqrbddKFpY"
      }
    },
    {
      "cell_type": "markdown",
      "source": [
        "4. b)\tImplement the formula in the Python factory model and calculate the costs for each of the five demands provided and the sum of the costs. [1 pt]"
      ],
      "metadata": {
        "id": "7Hzdt80BNUk5"
      }
    },
    {
      "cell_type": "code",
      "source": [
        "import numpy as np\n",
        "import pandas as pd"
      ],
      "metadata": {
        "id": "1Eu5dDskGnQp"
      },
      "execution_count": null,
      "outputs": []
    },
    {
      "cell_type": "code",
      "source": [
        "url = 'https://github.com/ialara/or-student/blob/main/Data/Demands.csv?raw=true'\n",
        "demands = pd.read_csv(url,index_col=0)"
      ],
      "metadata": {
        "id": "-vLh1L63Gwwf"
      },
      "execution_count": null,
      "outputs": []
    },
    {
      "cell_type": "code",
      "source": [
        "#Define variables\n",
        "resources = np.zeros(35)\n",
        "shipments = np.zeros(35)\n",
        "orders = np.zeros(35)\n",
        "costs = np.zeros(5)\n",
        "\n",
        "def init():\n",
        "  global resources\n",
        "  global shipments\n",
        "  global orders\n",
        "  resources[:5] = 12\n",
        "  shipments[:5] = 4\n",
        "  orders[:5] = 4\n",
        "\n",
        "def One_Week(last_resource, delivery, demand):\n",
        "  resource = last_resource + delivery - demand\n",
        "  if last_resource >= 0:\n",
        "    shipment = min(last_resource+ + delivery, demand)\n",
        "  else:\n",
        "    shipment = min(delivery, -last_resource + demand)\n",
        "\n",
        "  #****Your formula goes here*****\n",
        "  order = demand\n",
        "  \n",
        "  return resource, shipment, order\n",
        "\n",
        "def All_Weeks(demand_index, resources):\n",
        "  for week in range(5, 35):\n",
        "    resources[week], shipments[week], orders[week] = One_Week(resources[week-1], \\\n",
        "        orders[week-2], demands.iloc[demand_index][week])\n",
        "  return resources\n",
        "\n",
        "init()\n",
        "for demand_index in range(5):  \n",
        "  resources = All_Weeks(demand_index, resources)\n",
        "  costs[demand_index] = 0.5*np.sum(resources*(resources>0)) - np.sum(resources*(resources<0))\n",
        "\n",
        "print(costs, np.sum(costs))"
      ],
      "metadata": {
        "id": "K3DX4uocFoYB"
      },
      "execution_count": null,
      "outputs": []
    },
    {
      "cell_type": "markdown",
      "source": [
        "5.\t[16 pts] We will now expand the Factory simulation to simulate the entire four-player supply chain.  We will do this in steps. \\\n",
        "a)\tThe numpy arrays resources, shipments, and orders need to be changed to two-dimensional arrays with the first dimension the player (0 for the factory, 1 for the wholesaler, 2 for the retailer and 4 for the factory) and the second dimension for the week. The init function must also be appropriately changed to include the starting conditions for all four players. Perform these changes. [6 pts]\n",
        "\n",
        "(Note: I have also added the numpy array \"customer\" for the customer satifaction metric.)"
      ],
      "metadata": {
        "id": "hpknmX2xEba_"
      }
    },
    {
      "cell_type": "code",
      "source": [
        "resources = np.zeros(35)\n",
        "shipments = np.zeros(35)\n",
        "orders = np.zeros(35)\n",
        "customer = np.zeros(5)\n",
        "\n",
        "def init():\n",
        "  global resources\n",
        "  global shipments\n",
        "  global orders\n",
        "  resources[:5] = 12\n",
        "  shipments[:5] = 4\n",
        "  orders[:5] = 4"
      ],
      "metadata": {
        "id": "kDtITtKp03yS"
      },
      "execution_count": null,
      "outputs": []
    },
    {
      "cell_type": "markdown",
      "source": [
        "5.\tb)\tWe now add a function to cycle through each player in a given week.  To  simplify passing the resources, shipments, and orders arrays, we make them globals. Your job is to define delivery and demands for each of the players in terms of the arrays shipments, orders, and customer demand. [4 pts]"
      ],
      "metadata": {
        "id": "FU3oo6GoHMLM"
      }
    },
    {
      "cell_type": "code",
      "source": [
        "def All_Players(demand_index, week):\n",
        "  global resources\n",
        "  global shipments\n",
        "  global orders\n",
        "  for player in range(4):\n",
        "    \n",
        "        #Supply the logic for defining delivery and demand for each player\n",
        "        \n",
        "         \n",
        "        \n",
        "        \n",
        "        resources[player][week], shipments[player][week], orders[player][week] = \\\n",
        "          One_Week(resources[player][week-1], delivery, demand)"
      ],
      "metadata": {
        "id": "zWHZ63oXHKrt"
      },
      "execution_count": null,
      "outputs": []
    },
    {
      "cell_type": "markdown",
      "source": [
        "5.\tc)\tSince resources are defined as a global in All_Players, it is unnecessary to include it as an argument or a return value for All_Weeks. I have made these changes to the prior version of the function.\\\n",
        "\\\n",
        "We do need a to record the customer satisfaction for each customer demand in the customer array. This will be equivalent to the cumulative customer backorders. Your job is to add the code to calculate the customer satisfaction for each of the demands.  Put your code in the line noted below. [2 pts]"
      ],
      "metadata": {
        "id": "3OeSHPmNdQ6q"
      }
    },
    {
      "cell_type": "code",
      "source": [
        "def All_Weeks(demand_index):\n",
        "  for week in range(5, 35):\n",
        "    All_Players(demand_index, week)\n",
        "\n",
        "init()\n",
        "for demand_index in range(5):\n",
        "  All_Weeks(demand_index)\n",
        "  costs[demand_index] = 0.5*np.sum(resources*(resources>0)) - np.sum(resources*(resources<0))\n",
        "  \n",
        "  #Supply the equation for the customer satisfaction for demand  specified by demand_index.\n",
        "  \n",
        "\n",
        "print(costs, np.sum(costs))\n",
        "print(customer, np.sum(customer))"
      ],
      "metadata": {
        "id": "I3H8aTpmdVCn"
      },
      "execution_count": null,
      "outputs": []
    },
    {
      "cell_type": "markdown",
      "source": [
        "5.\td)\tChange the order equation in the One_Week function back to \"order = demand\". Supply the results from the two print statements at the bottom of the code. [4 pts]"
      ],
      "metadata": {
        "id": "bqCJIOgsFVLY"
      }
    },
    {
      "cell_type": "markdown",
      "source": [
        ""
      ],
      "metadata": {
        "id": "NInGcVA93R0N"
      }
    },
    {
      "cell_type": "markdown",
      "source": [
        "Text answers here:"
      ],
      "metadata": {
        "id": "PRwciuDbGP-p"
      }
    }
  ]
}