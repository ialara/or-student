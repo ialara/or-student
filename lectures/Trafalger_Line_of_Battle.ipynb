{
  "nbformat": 4,
  "nbformat_minor": 0,
  "metadata": {
    "colab": {
      "name": "Trafalger Line-of-Battle.ipynb",
      "provenance": [],
      "collapsed_sections": [],
      "authorship_tag": "ABX9TyPW/BoQGCvbjvDgCnUQTT1c",
      "include_colab_link": true
    },
    "kernelspec": {
      "name": "python3",
      "display_name": "Python 3"
    },
    "language_info": {
      "name": "python"
    }
  },
  "cells": [
    {
      "cell_type": "markdown",
      "metadata": {
        "id": "view-in-github",
        "colab_type": "text"
      },
      "source": [
        "<a href=\"https://colab.research.google.com/github/ialara/or-student/blob/main/lectures/Trafalger_Line_of_Battle.ipynb\" target=\"_parent\"><img src=\"https://colab.research.google.com/assets/colab-badge.svg\" alt=\"Open In Colab\"/></a>"
      ]
    },
    {
      "cell_type": "code",
      "source": [
        "import numpy as np\n",
        "import matplotlib.pyplot as plt"
      ],
      "metadata": {
        "id": "zIPrFaDuAtEX"
      },
      "execution_count": 1,
      "outputs": []
    },
    {
      "cell_type": "code",
      "execution_count": null,
      "metadata": {
        "id": "hypX9a3JAm1j"
      },
      "outputs": [],
      "source": [
        "blue_attrition = 0.05  #Better trained crews\n",
        "red_attrition = 0.05   #More men and guns\n",
        "\n",
        "def attrition(friendly, enemy, factor): #About every 10 minutes\n",
        "    return max(0,friendly - 0.05*enemy)\n",
        "\n",
        "blue = np.zeros(1000)\n",
        "red = np.zeros(1000)\n",
        "blue[0] = 27    #Brittish ships\n",
        "red[0] = 33     #French/Spanish ships\n",
        "\n",
        "i = 0\n",
        "while blue[i] > 0 and red[i] > 0:\n",
        "    blue[i+1] = attrition(blue[i], red[i], blue_attrition)\n",
        "    red[i+1] = attrition(red[i], blue[i], red_attrition)\n",
        "    i += 1\n",
        "\n",
        "hours = np.arange(0, i)/6\n",
        "print('Completed at:{0:6.3f} hours.'.format((i-1)/6.0))\n",
        "plt.plot(hours, blue[0:i], c='b')\n",
        "plt.plot(hours, red[0:i], c='r')\n",
        "plt.title(\"Trafalger With Line-of-Battle\")\n",
        "plt.xlabel(\"Time (hours)\")\n",
        "plt.ylabel(\"Remaining Ships\")\n",
        "plt.show()"
      ]
    }
  ]
}