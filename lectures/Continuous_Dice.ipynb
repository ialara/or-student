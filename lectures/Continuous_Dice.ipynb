{
  "nbformat": 4,
  "nbformat_minor": 0,
  "metadata": {
    "colab": {
      "name": "Continuous Dice.ipynb",
      "provenance": [],
      "collapsed_sections": [],
      "authorship_tag": "ABX9TyO/woclrBOruh9lLXn2zJBM",
      "include_colab_link": true
    },
    "kernelspec": {
      "name": "python3",
      "display_name": "Python 3"
    },
    "language_info": {
      "name": "python"
    }
  },
  "cells": [
    {
      "cell_type": "markdown",
      "metadata": {
        "id": "view-in-github",
        "colab_type": "text"
      },
      "source": [
        "<a href=\"https://colab.research.google.com/github/ialara/or-student/blob/main/lectures/Continuous_Dice.ipynb\" target=\"_parent\"><img src=\"https://colab.research.google.com/assets/colab-badge.svg\" alt=\"Open In Colab\"/></a>"
      ]
    },
    {
      "cell_type": "code",
      "source": [
        "import numpy as np\n",
        "import random\n",
        "import pylab"
      ],
      "metadata": {
        "id": "0oEAAT9ZL3Wq"
      },
      "execution_count": 22,
      "outputs": []
    },
    {
      "cell_type": "code",
      "execution_count": 31,
      "metadata": {
        "colab": {
          "base_uri": "https://localhost:8080/",
          "height": 346
        },
        "id": "9b9AOPToJea5",
        "outputId": "ac563861-e2bf-4fb8-86db-ad1414a206b5"
      },
      "outputs": [
        {
          "output_type": "stream",
          "name": "stdout",
          "text": [
            "Average of rolling 1 die =  3.4997760506078803,   StDev = 1.4434442329714905\n",
            "Average of rolling 50 die =  3.5010509962385084,   StDev = 0.14363964213343042\n"
          ]
        },
        {
          "output_type": "execute_result",
          "data": {
            "text/plain": [
              "<matplotlib.legend.Legend at 0x7f39e286cb50>"
            ]
          },
          "metadata": {},
          "execution_count": 31
        },
        {
          "output_type": "display_data",
          "data": {
            "text/plain": [
              "<Figure size 432x288 with 1 Axes>"
            ],
            "image/png": "[encoded data removed]"
          },
          "metadata": {
            "needs_background": "light"
          }
        }
      ],
      "source": [
        "from os import removedirs\n",
        "def plot_roles(num_dice, num_roles, num_bins, legend, color, style):\n",
        "    rvs = []\n",
        "    for i in range(num_roles//num_dice):\n",
        "        vals = 0\n",
        "        for j in range(num_dice):\n",
        "            vals += random.uniform(1,6)\n",
        "        rvs.append(vals/float(num_dice))\n",
        "    pylab.hist(rvs, num_bins, color=color, label=legend, weights=[1/len(rvs)]*len(rvs), hatch=style)\n",
        "    return np.mean(rvs), np.std(rvs)\n",
        "  \n",
        "average, std = plot_roles(1, 1000000, 19, '1 die', 'b', '.')\n",
        "print('Average of rolling 1 die = ', str(average)+',   StDev =', std)\n",
        "\n",
        "average, std = plot_roles(100, 1000000, 19, '50 die', 'r', 'x')\n",
        "print('Average of rolling 50 die = ', str(average)+',   StDev =', std)\n",
        "\n",
        "pylab.title('Rolling Continuous Die')\n",
        "pylab.xlabel('Value')\n",
        "pylab.ylabel('Probability')\n",
        "pylab.legend()\n"
      ]
    }
  ]
}