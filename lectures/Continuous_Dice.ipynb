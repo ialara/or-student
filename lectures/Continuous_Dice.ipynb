{
  "nbformat": 4,
  "nbformat_minor": 0,
  "metadata": {
    "colab": {
      "name": "Continuous Dice.ipynb",
      "provenance": [],
      "collapsed_sections": [],
      "authorship_tag": "ABX9TyMEgjKGxRRIw9upxNV+8M0W",
      "include_colab_link": true
    },
    "kernelspec": {
      "name": "python3",
      "display_name": "Python 3"
    },
    "language_info": {
      "name": "python"
    }
  },
  "cells": [
    {
      "cell_type": "markdown",
      "metadata": {
        "id": "view-in-github",
        "colab_type": "text"
      },
      "source": [
        "<a href=\"https://colab.research.google.com/github/ialara/or-student/blob/main/lectures/Continuous_Dice.ipynb\" target=\"_parent\"><img src=\"https://colab.research.google.com/assets/colab-badge.svg\" alt=\"Open In Colab\"/></a>"
      ]
    },
    {
      "cell_type": "code",
      "source": [
        "import numpy as np\n",
        "import random\n",
        "import scipy.stats as st\n",
        "import pylab"
      ],
      "metadata": {
        "id": "0oEAAT9ZL3Wq"
      },
      "execution_count": 3,
      "outputs": []
    },
    {
      "cell_type": "code",
      "execution_count": null,
      "metadata": {
        "id": "9b9AOPToJea5"
      },
      "outputs": [],
      "source": [
        "def plot_roles(total_dice, roles, num_bins, legend, color):\n",
        "    role_averages = []\n",
        "    dice_per_role = total_dice//roles\n",
        "    for i in range(roles):\n",
        "        vals = 0\n",
        "        for j in range(dice_per_role):\n",
        "            vals += random.uniform(1,6)\n",
        "        role_averages.append(vals/float(dice_per_role))\n",
        "    weights=[1/roles]*roles\n",
        "    pylab.hist(role_averages, num_bins, color=color, label=legend, weights=[1/roles]*roles)\n",
        "    return np.mean(role_averages), np.std(role_averages)\n",
        "\n",
        "total_dice = 1000000\n",
        "\n",
        "average, std = plot_roles(total_dice, 1, 19, '1 die/role', 'b')\n",
        "print('Average for 1 die/role = ', str(average)+',   StDev =', std)\n",
        "\n",
        "average, std = plot_roles(total_dice, 1000, 19, '1000 die/role', 'r')\n",
        "print('Average for 1000 die/role = ', str(average)+',   StDev =', std)\n",
        "\n",
        "average, std = plot_roles(total_dice, 1000000, 19, '1000000 die/role', 'g')\n",
        "print('Average for 1000000 die/role = ', str(average)+',   StDev =', std)\n",
        "\n",
        "pylab.title('Rolling Continuous Die')\n",
        "pylab.xlabel('Value')\n",
        "pylab.ylabel('Probability')\n",
        "pylab.legend()"
      ]
    },
    {
      "cell_type": "code",
      "source": [
        "def conf_inv(total_dice, roles, confidence_level):\n",
        "    role_averages = []\n",
        "    dice_per_role = total_dice//roles\n",
        "    for i in range(roles):\n",
        "        vals = 0\n",
        "        for j in range(dice_per_role):\n",
        "            vals += random.expovariate(1)\n",
        "        role_averages.append(vals/float(dice_per_role))\n",
        "    sample_mean = np.mean(role_averages)\n",
        "    sample_std = np.std(role_averages, ddof=1)\n",
        "    print(st.t.interval(alpha=confidence_level, df=roles-1, loc=sample_mean, scale=sample_std))\n",
        "\n",
        "total_dice = 100\n",
        "confidence_level = 0.95\n",
        "num_roles = [1, 2, 4, 10, 25, 50, 100]\n",
        "for roles in num_roles:\n",
        "    conf_inv(total_dice, roles, confidence_level)"
      ],
      "metadata": {
        "id": "7xkjSJkJwxOs"
      },
      "execution_count": null,
      "outputs": []
    }
  ]
}