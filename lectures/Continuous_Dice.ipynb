{
  "nbformat": 4,
  "nbformat_minor": 0,
  "metadata": {
    "colab": {
      "name": "Continuous Dice.ipynb",
      "provenance": [],
      "collapsed_sections": [],
      "authorship_tag": "ABX9TyO/woclrBOruh9lLXn2zJBM",
      "include_colab_link": true
    },
    "kernelspec": {
      "name": "python3",
      "display_name": "Python 3"
    },
    "language_info": {
      "name": "python"
    }
  },
  "cells": [
    {
      "cell_type": "markdown",
      "metadata": {
        "id": "view-in-github",
        "colab_type": "text"
      },
      "source": [
        "<a href=\"https://colab.research.google.com/github/ialara/or-student/blob/main/lectures/Continuous_Dice.ipynb\" target=\"_parent\"><img src=\"https://colab.research.google.com/assets/colab-badge.svg\" alt=\"Open In Colab\"/></a>"
      ]
    },
    {
      "cell_type": "code",
      "source": [
        "import numpy as np\n",
        "import random\n",
        "import pylab"
      ],
      "metadata": {
        "id": "0oEAAT9ZL3Wq"
      },
      "execution_count": null,
      "outputs": []
    },
    {
      "cell_type": "code",
      "execution_count": null,
      "metadata": {
        "id": "9b9AOPToJea5"
      },
      "outputs": [],
      "source": [
        "from os import removedirs\n",
        "def plot_roles(num_dice, num_roles, num_bins, legend, color, style):\n",
        "    rvs = []\n",
        "    for i in range(num_roles//num_dice):\n",
        "        vals = 0\n",
        "        for j in range(num_dice):\n",
        "            vals += random.uniform(1,6)\n",
        "        rvs.append(vals/float(num_dice))\n",
        "    pylab.hist(rvs, num_bins, color=color, label=legend, weights=[1/len(rvs)]*len(rvs), hatch=style)\n",
        "    return np.mean(rvs), np.std(rvs)\n",
        "  \n",
        "average, std = plot_roles(1, 1000000, 19, '1 die', 'b', '.')\n",
        "print('Average of rolling 1 die = ', str(average)+',   StDev =', std)\n",
        "\n",
        "average, std = plot_roles(100, 1000000, 19, '50 die', 'r', 'x')\n",
        "print('Average of rolling 50 die = ', str(average)+',   StDev =', std)\n",
        "\n",
        "pylab.title('Rolling Continuous Die')\n",
        "pylab.xlabel('Value')\n",
        "pylab.ylabel('Probability')\n",
        "pylab.legend()\n"
      ]
    }
  ]
}