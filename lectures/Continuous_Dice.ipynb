{
  "nbformat": 4,
  "nbformat_minor": 0,
  "metadata": {
    "colab": {
      "name": "Continuous Dice.ipynb",
      "provenance": [],
      "collapsed_sections": [],
      "authorship_tag": "ABX9TyOeww3kJy599VM4hG5cnJwC",
      "include_colab_link": true
    },
    "kernelspec": {
      "name": "python3",
      "display_name": "Python 3"
    },
    "language_info": {
      "name": "python"
    }
  },
  "cells": [
    {
      "cell_type": "markdown",
      "metadata": {
        "id": "view-in-github",
        "colab_type": "text"
      },
      "source": [
        "<a href=\"https://colab.research.google.com/github/ialara/or-student/blob/main/lectures/Continuous_Dice.ipynb\" target=\"_parent\"><img src=\"https://colab.research.google.com/assets/colab-badge.svg\" alt=\"Open In Colab\"/></a>"
      ]
    },
    {
      "cell_type": "code",
      "source": [
        "import numpy as np\n",
        "import random\n",
        "import scipy.stats as st\n",
        "import pylab"
      ],
      "metadata": {
        "id": "0oEAAT9ZL3Wq"
      },
      "execution_count": 1,
      "outputs": []
    },
    {
      "cell_type": "code",
      "execution_count": 17,
      "metadata": {
        "id": "9b9AOPToJea5",
        "colab": {
          "base_uri": "https://localhost:8080/",
          "height": 431
        },
        "outputId": "b0dc8f24-41cd-4572-a406-1c451b22c363"
      },
      "outputs": [
        {
          "output_type": "stream",
          "name": "stdout",
          "text": [
            "Average for 1000000 roles with 1.0 dice/role = 3.5001606121177797 , StDev = 1.4435474000884898\n",
            "Average for 100000 roles with 10.0 dice/role = 3.5001606121177793 , StDev = 0.45553986263541296\n",
            "Average for 10000 roles with 100.0 dice/role = 3.5001606121177793 , StDev = 0.14485851931162796\n",
            "Average for 1000 roles with 1000.0 dice/role = 3.5001606121177793 , StDev = 0.044933576830674254\n",
            "Average for 100 roles with 10000.0 dice/role = 3.500160612117778 , StDev = 0.015214747440060267\n",
            "Average for 10 roles with 100000.0 dice/role = 3.500160612117791 , StDev = 0.004508868502862362\n",
            "Average for 1 role with 1,000,000 dice =  3.5001606121177797 ,   StDev = 1.4435474000884898\n"
          ]
        },
        {
          "output_type": "execute_result",
          "data": {
            "text/plain": [
              "<matplotlib.legend.Legend at 0x7f76ea6d0ad0>"
            ]
          },
          "metadata": {},
          "execution_count": 17
        },
        {
          "output_type": "display_data",
          "data": {
            "text/plain": [
              "<Figure size 432x288 with 1 Axes>"
            ],
            "image/png": "[encoded data removed]"
          },
          "metadata": {
            "needs_background": "light"
          }
        }
      ],
      "source": [
        "def plot_roles(dice, roles, num_bins, color):\n",
        "    role_averages = []\n",
        "    dice_per_role = len(dice)//roles\n",
        "    for i in range(roles):\n",
        "        vals = 0\n",
        "        for j in range(dice_per_role):\n",
        "            vals += dice[i*dice_per_role + j]\n",
        "        role_averages.append(vals/float(dice_per_role))\n",
        "    weights=[1/roles]*roles\n",
        "    pylab.hist(role_averages, num_bins, color=color, label=str(dice_per_role)+' dice/role', weights=[1/roles]*roles)\n",
        "    return np.mean(role_averages), np.std(role_averages)\n",
        "\n",
        "total_dice = 1000000\n",
        "roles_array = [1000000, 100000, 10000, 1000, 100, 10,]\n",
        "colors = ['b', 'g','r', 'c', 'm', 'y', 'k']\n",
        "\n",
        "dice = np.random.uniform(1,6,total_dice)\n",
        "for i in range(len(roles_array)):\n",
        "    roles = roles_array[i]\n",
        "    average, std = plot_roles(dice, roles, 19, colors[i])\n",
        "    print('Average for', roles,'roles with', total_dice/roles, 'dice/role =', average, ', StDev =', std)\n",
        "    \n",
        "print('Average for 1 role with 1,000,000 dice = ', np.mean(dice), ',   StDev =', np.std(dice))\n",
        "\n",
        "pylab.title('Rolling Continuous Die')\n",
        "pylab.xlabel('Value')\n",
        "pylab.ylabel('Probability')\n",
        "pylab.legend()"
      ]
    },
    {
      "cell_type": "code",
      "source": [
        "samples = np.random.uniform[1,6,1000000]\n",
        "delta = 1.96*np.std(samples)/np.sqrt(len(samples))"
      ],
      "metadata": {
        "id": "pYtm_K3gDmWe"
      },
      "execution_count": null,
      "outputs": []
    },
    {
      "cell_type": "code",
      "source": [
        "def conf_inv(dice, roles, confidence_level):\n",
        "    role_averages = []\n",
        "    dice_per_role = len(dice)//roles\n",
        "    for i in range(roles):\n",
        "        vals = 0\n",
        "        for j in range(dice_per_role):\n",
        "            vals += dice[i*dice_per_role + j]\n",
        "        role_averages.append(vals/float(dice_per_role))\n",
        "    sample_mean = np.mean(role_averages)\n",
        "    sample_std = np.std(role_averages, ddof=1)\n",
        "    CI_lower, CI_upper = st.t.interval(alpha=confidence_level, df=roles-1, loc=sample_mean, scale=sample_std)\n",
        "    return CI_upper - CI_lower\n",
        "\n",
        "#total_dice = 1000000\n",
        "#roles_array = [1000000, 100000, 10000, 1000, 100, 10]\n",
        "#total_dice = 100\n",
        "#roles_array = [100, 50, 25, 10, 4, 2]\n",
        "total_dice = 20\n",
        "roles_array = [20, 10, 5, 4, 2]\n",
        "confidence_level = 0.95\n",
        "\n",
        "#dice = np.random.uniform(1,6,total_dice)\n",
        "#dice = np.random.exponential(1,total_dice)\n",
        "spins = np.random.randint(1,38,total_dice)\n",
        "dice = 36*(spins==11)\n",
        "print(total_dice, 'total dice')\n",
        "for roles in roles_array:\n",
        "    print('For', roles,'total roles of ', total_dice/roles, 'dice/role: confidence interval width =', \\\n",
        "          conf_inv(dice, roles, confidence_level))\n",
        "    \n",
        "CI_lower, CI_upper = st.t.interval(alpha=confidence_level, df=total_dice-1, loc=np.mean(dice), scale=np.std(dice))\n",
        "print('For 1 role of', total_dice, ' dice: confidence interval width =', CI_upper-CI_lower)"
      ],
      "metadata": {
        "colab": {
          "base_uri": "https://localhost:8080/"
        },
        "id": "7xkjSJkJwxOs",
        "outputId": "eb5cee3f-50cd-48c6-f888-03f209accf98"
      },
      "execution_count": 49,
      "outputs": [
        {
          "output_type": "stream",
          "name": "stdout",
          "text": [
            "20 total dice\n",
            "For 20 total roles of  1.0 dice/role: confidence interval width = 33.697037262233486\n",
            "For 10 total roles of  2.0 dice/role: confidence interval width = 25.752848614292603\n",
            "For 5 total roles of  4.0 dice/role: confidence interval width = 22.349951967667803\n",
            "For 4 total roles of  5.0 dice/role: confidence interval width = 22.913613398046692\n",
            "For 2 total roles of  10.0 dice/role: confidence interval width = 64.6894334323855\n",
            "For 1 role of 20  dice: confidence interval width = 32.843809222435425\n"
          ]
        }
      ]
    }
  ]
}