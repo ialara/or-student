{
  "nbformat": 4,
  "nbformat_minor": 0,
  "metadata": {
    "colab": {
      "name": "Continuous Dice.ipynb",
      "provenance": [],
      "collapsed_sections": [],
      "authorship_tag": "ABX9TyM04kJNDAdjgErAeaBFNfA8",
      "include_colab_link": true
    },
    "kernelspec": {
      "name": "python3",
      "display_name": "Python 3"
    },
    "language_info": {
      "name": "python"
    }
  },
  "cells": [
    {
      "cell_type": "markdown",
      "metadata": {
        "id": "view-in-github",
        "colab_type": "text"
      },
      "source": [
        "<a href=\"https://colab.research.google.com/github/ialara/or-student/blob/main/lectures/Continuous_Dice.ipynb\" target=\"_parent\"><img src=\"https://colab.research.google.com/assets/colab-badge.svg\" alt=\"Open In Colab\"/></a>"
      ]
    },
    {
      "cell_type": "code",
      "source": [
        "import numpy as np\n",
        "import random\n",
        "import scipy.stats as st\n",
        "import pylab"
      ],
      "metadata": {
        "id": "0oEAAT9ZL3Wq"
      },
      "execution_count": 1,
      "outputs": []
    },
    {
      "cell_type": "code",
      "execution_count": null,
      "metadata": {
        "id": "9b9AOPToJea5"
      },
      "outputs": [],
      "source": [
        "def plot_roles(dice, roles, num_bins, color):\n",
        "    role_averages = []\n",
        "    dice_per_role = len(dice)//roles\n",
        "    for i in range(roles):\n",
        "        vals = 0\n",
        "        for j in range(dice_per_role):\n",
        "            vals += dice[i*dice_per_role + j]\n",
        "        role_averages.append(vals/float(dice_per_role))\n",
        "    weights=[1/roles]*roles\n",
        "    pylab.hist(role_averages, num_bins, color=color, label=str(dice_per_role)+' dice/role', weights=[1/roles]*roles)\n",
        "    return np.mean(role_averages), np.std(role_averages,ddof=1)\n",
        "\n",
        "total_dice = 1000000\n",
        "roles_array = [1000000, 100000, 10000, 1000, 100, 10,]\n",
        "colors = ['b', 'g','r', 'c', 'm', 'y', 'k']\n",
        "\n",
        "dice = np.random.uniform(1,6,total_dice)\n",
        "for i in range(len(roles_array)):\n",
        "    roles = roles_array[i]\n",
        "    average, std = plot_roles(dice, roles, 19, colors[i])\n",
        "    print('Average for', roles,'roles with', total_dice/roles, 'dice/role =', average, ', StDev =', std)\n",
        "    \n",
        "print('Average for 1 role with 1,000,000 dice = ', np.mean(dice), ',   StDev =', np.std(dice,ddof=1))\n",
        "\n",
        "pylab.title('Rolling Continuous Die')\n",
        "pylab.xlabel('Value')\n",
        "pylab.ylabel('Probability')\n",
        "pylab.legend()"
      ]
    },
    {
      "cell_type": "code",
      "source": [
        "def conf_inv(dice, roles, confidence_level):\n",
        "    role_averages = []\n",
        "    dice_per_role = len(dice)//roles\n",
        "    for i in range(roles):\n",
        "        vals = 0\n",
        "        for j in range(dice_per_role):\n",
        "            vals += dice[i*dice_per_role + j]\n",
        "        role_averages.append(vals/float(dice_per_role))\n",
        "    sample_mean = np.mean(role_averages)\n",
        "    sample_std = np.std(role_averages, ddof=1)\n",
        "    if sample_std==0:\n",
        "        CI_upper=0\n",
        "        CI_lower=0\n",
        "    else:\n",
        "        CI_lower, CI_upper = st.t.interval(alpha=confidence_level, df=roles-1, loc=sample_mean, scale=sample_std)\n",
        "    return CI_upper - CI_lower\n",
        "\n",
        "total_dice = 1000000\n",
        "roles_array = [1000000, 100000, 10000, 1000, 100, 10]\n",
        "#total_dice = 100\n",
        "#roles_array = [100, 50, 25, 10, 4, 2]\n",
        "#total_dice = 20\n",
        "#roles_array = [20, 10, 5, 4, 2]\n",
        "confidence_level = 0.95\n",
        "\n",
        "dice = np.random.uniform(1,6,total_dice)\n",
        "#dice = np.random.exponential(1,total_dice)\n",
        "#dice = 36*(np.random.randint(1,38,total_dice)==11)\n",
        "print(total_dice, 'total dice')\n",
        "for roles in roles_array:\n",
        "    print('For', roles,'total roles of ', total_dice/roles, 'dice/role: confidence interval width =', \\\n",
        "          conf_inv(dice, roles, confidence_level))\n",
        "\n",
        "CI_lower, CI_upper = st.t.interval(alpha=confidence_level, df=total_dice-1, loc=np.mean(dice), scale=np.std(dice, ddof=1))\n",
        "print('For 1 role of', total_dice, ' dice: confidence interval width =', CI_upper-CI_lower)"
      ],
      "metadata": {
        "id": "7xkjSJkJwxOs"
      },
      "execution_count": null,
      "outputs": []
    },
    {
      "cell_type": "code",
      "source": [
        "def conf_inv(dice, roles, confidence_level):\n",
        "    role_averages = []\n",
        "    dice_per_role = len(dice)//roles\n",
        "    for i in range(roles):\n",
        "        vals = 0\n",
        "        for j in range(dice_per_role):\n",
        "            vals += dice[i*dice_per_role + j]\n",
        "        role_averages.append(vals/float(dice_per_role))\n",
        "    sample_mean = np.mean(role_averages)\n",
        "    sample_std = np.std(role_averages, ddof=1)\n",
        "    if sample_std==0:\n",
        "        CI_upper=0\n",
        "        CI_lower=0\n",
        "    else:\n",
        "        CI_lower, CI_upper = st.t.interval(alpha=confidence_level, df=roles-1, loc=sample_mean, scale=sample_std)\n",
        "    return CI_upper - CI_lower\n",
        "\n",
        "def aver_conf_inv(total_dice, roles_array, confidence_level):\n",
        "    #dice = np.random.uniform(1,6,total_dice)\n",
        "    dice = np.random.exponential(1,total_dice)\n",
        "    #dice = 36*(np.random.randint(1,38,total_dice)==11)\n",
        "    CIs = []\n",
        "    for roles in roles_array:\n",
        "        CIs.append(conf_inv(dice, roles, confidence_level))\n",
        "    return CIs\n",
        "\n",
        "total_dice = 100\n",
        "roles_array = [100, 50, 25, 10, 4, 2]\n",
        "total_dice = 20\n",
        "#roles_array = [20, 10, 5, 4, 2]\n",
        "#confidence_level = 0.95\n",
        "CI_averages = []\n",
        "for i in range(1000):\n",
        "    CI_averages.append(aver_conf_inv(total_dice, roles_array, confidence_level))\n",
        "\n",
        "print('Total dice:', total_dice)\n",
        "print('Roles:',roles_array)\n",
        "print('Means:',np.mean(CI_averages, axis=0))\n",
        "print('Std Devs:',np.std(CI_averages, axis=0))"
      ],
      "metadata": {
        "id": "S7WNeL_tPEYr"
      },
      "execution_count": null,
      "outputs": []
    }
  ]
}