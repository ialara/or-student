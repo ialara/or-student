{
  "nbformat": 4,
  "nbformat_minor": 0,
  "metadata": {
    "colab": {
      "name": "Population Sim 4.ipynb",
      "provenance": [],
      "authorship_tag": "ABX9TyMMrzoRNgZCZSQRt1z0TWx9",
      "include_colab_link": true
    },
    "kernelspec": {
      "name": "python3",
      "display_name": "Python 3"
    },
    "language_info": {
      "name": "python"
    }
  },
  "cells": [
    {
      "cell_type": "markdown",
      "metadata": {
        "id": "view-in-github",
        "colab_type": "text"
      },
      "source": [
        "<a href=\"https://colab.research.google.com/github/ialara/or-student/blob/main/lectures/Population_Sim_4.ipynb\" target=\"_parent\"><img src=\"https://colab.research.google.com/assets/colab-badge.svg\" alt=\"Open In Colab\"/></a>"
      ]
    },
    {
      "cell_type": "code",
      "execution_count": 1,
      "metadata": {
        "id": "U2MMr1jcuG12"
      },
      "outputs": [],
      "source": [
        "# Sim #4 Yearly population model with individuals, births, deaths, sim initiation and sim run\n",
        "import numpy as np\n",
        "import matplotlib.pyplot as plt\n",
        "import random #Added"
      ]
    },
    {
      "cell_type": "code",
      "source": [
        "#Constants Added\n",
        "init_start_age = 18\n",
        "init_end_age = 50\n",
        "\n",
        "fertility_start = 18\n",
        "fertility_end = 40\n",
        "baby_odds = 0.25\n",
        "infant_mortality_reduction = 0.985\n",
        "\n",
        "old_person = 60\n",
        "old_death_odds = 0.1\n",
        "\n",
        "max_population = 100000\n",
        "end_year = 10000"
      ],
      "metadata": {
        "id": "UpJMITKewPi7"
      },
      "execution_count": 5,
      "outputs": []
    },
    {
      "cell_type": "code",
      "source": [
        "#Initialization variables\n",
        "year = 0\n",
        "infant_mortality = 0.5\n",
        "\n",
        "population = np.zeros(10000)\n",
        "population[0] = 50 #Added\n",
        "peopleDictionary = [] #Added\n",
        "\n",
        "class person: #Added\n",
        "    def __init__(self, age):\n",
        "        self.gender = random.randint(0,1)\n",
        "        self.age = age\n",
        "\n",
        "def initialize(): #Added\n",
        "    for individual in range(int(population[0])):\n",
        "        peopleDictionary.append(person(random.randint(init_start_age, init_end_age)))\n",
        "\n",
        "def birth(): #Added\n",
        "    births = 0\n",
        "    for individual in peopleDictionary:\n",
        "        if individual.gender == 1 and \\\n",
        "           individual.age > fertility_start and \\\n",
        "           individual.age < fertility_end and \\\n",
        "           random.uniform(0,1) <= baby_odds * (1 - infant_mortality): #Added\n",
        "              peopleDictionary.append(person(0))\n",
        "              births += 1\n",
        "    return births\n",
        "\n",
        "def death(individual):\n",
        "    died = False\n",
        "    if individual.age > old_person \\\n",
        "        and random.uniform(0,1) <= old_death_odds:\n",
        "                peopleDictionary.remove(individual)\n",
        "                died = True\n",
        "    return died\n",
        "\n",
        "def run_year(): #Added\n",
        "    deaths = 0\n",
        "    births = birth()\n",
        "    for individual in peopleDictionary:\n",
        "        if not(death(individual)):\n",
        "            individual.age +=1\n",
        "        else:\n",
        "            deaths +=1\n",
        "    return births, deaths\n",
        "\n",
        "random.seed(180159) #Added\n",
        "initialize() #Added\n",
        "while population[year] < max_population and population[year] > 1 and year < end_year:\n",
        "    births, deaths = run_year()\n",
        "    year += 1\n",
        "    infant_mortality *= infant_mortality_reduction\n",
        "    population[year] = len(peopleDictionary)\n",
        "    #print('Year:', year, 'births', births, 'deaths', deaths, 'population', population[year])\n",
        "\n",
        "years=np.arange(end_year)\n",
        "#plt.xlim([0,50])\n",
        "#plt.ylim([0,200])\n",
        "plt.plot(years[0:year],population[0:year])\n",
        "if year >= end_year:\n",
        "    print(\"Simulation ended at year\", end_year)\n",
        "elif sum(population) > max_population:\n",
        "  print('Population exceeded\", max_population, \"in year', year)\n",
        "else:\n",
        "  print('Zero population in year', year)"
      ],
      "metadata": {
        "id": "RIFd7wE4urNd",
        "colab": {
          "base_uri": "https://localhost:8080/",
          "height": 282
        },
        "outputId": "35d47654-6f12-432b-8c14-f0685c5a066c"
      },
      "execution_count": 6,
      "outputs": [
        {
          "output_type": "stream",
          "name": "stdout",
          "text": [
            "Population exceeded\", max_population, \"in year 304\n"
          ]
        },
        {
          "output_type": "display_data",
          "data": {
            "text/plain": [
              "<Figure size 432x288 with 1 Axes>"
            ],
            "image/png": "[encoded data removed]"
          },
          "metadata": {
            "needs_background": "light"
          }
        }
      ]
    }
  ]
}