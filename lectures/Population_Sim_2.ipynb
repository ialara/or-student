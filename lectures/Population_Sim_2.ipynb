{
  "nbformat": 4,
  "nbformat_minor": 0,
  "metadata": {
    "colab": {
      "name": "Population Sim 2.ipynb",
      "provenance": [],
      "authorship_tag": "ABX9TyMGDqK9vHiH7gpdGo5rOo1z",
      "include_colab_link": true
    },
    "kernelspec": {
      "name": "python3",
      "display_name": "Python 3"
    },
    "language_info": {
      "name": "python"
    }
  },
  "cells": [
    {
      "cell_type": "markdown",
      "metadata": {
        "id": "view-in-github",
        "colab_type": "text"
      },
      "source": [
        "<a href=\"https://colab.research.google.com/github/ialara/or-student/blob/main/lectures/Population_Sim_2.ipynb\" target=\"_parent\"><img src=\"https://colab.research.google.com/assets/colab-badge.svg\" alt=\"Open In Colab\"/></a>"
      ]
    },
    {
      "cell_type": "code",
      "execution_count": null,
      "metadata": {
        "id": "U2MMr1jcuG12"
      },
      "outputs": [],
      "source": [
        "# Sim #2 Plus plot and recording yearly population\n",
        "import numpy as np\n",
        "import matplotlib.pyplot as plt"
      ]
    },
    {
      "cell_type": "code",
      "source": [
        "#Constants\n",
        "growth_factor = 1.00005\n",
        "\n",
        "max_population = 100000\n",
        "end_year = 10000\n",
        "\n",
        "#Initialize variables\n",
        "daily_population = 50\n",
        "day = 0\n",
        "year = 0\n",
        "\n",
        "population=np.zeros(end_year) #Added\n",
        "\n",
        "population[0] = daily_population\n",
        "while daily_population < max_population:\n",
        "  daily_population *= growth_factor\n",
        "  day += 1\n",
        "  if day == 365:\n",
        "    population[year] = daily_population #Added\n",
        "    day = 0\n",
        "    year += 1\n",
        "\n",
        "years=np.arange(end_year) #Added\n",
        "#plt.xlim([0,50]) #Added\n",
        "#plt.ylim([0,200]) #Added\n",
        "plt.plot(years[0:year],population[0:year]) #Added\n",
        "print('Year: %5d, Day:  %3d, Population: %8.1f' % (year, day, daily_population))"
      ],
      "metadata": {
        "id": "RIFd7wE4urNd"
      },
      "execution_count": null,
      "outputs": []
    }
  ]
}