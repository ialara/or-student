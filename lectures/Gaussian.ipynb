{
  "nbformat": 4,
  "nbformat_minor": 0,
  "metadata": {
    "colab": {
      "name": "Gaussian.ipynb",
      "provenance": [],
      "collapsed_sections": [],
      "authorship_tag": "ABX9TyPrUEmC2VQ+wlPtxbBDh6Ao",
      "include_colab_link": true
    },
    "kernelspec": {
      "name": "python3",
      "display_name": "Python 3"
    },
    "language_info": {
      "name": "python"
    }
  },
  "cells": [
    {
      "cell_type": "markdown",
      "metadata": {
        "id": "view-in-github",
        "colab_type": "text"
      },
      "source": [
        "<a href=\"https://colab.research.google.com/github/ialara/or-student/blob/main/lectures/Gaussian.ipynb\" target=\"_parent\"><img src=\"https://colab.research.google.com/assets/colab-badge.svg\" alt=\"Open In Colab\"/></a>"
      ]
    },
    {
      "cell_type": "code",
      "source": [
        "import random\n",
        "import pylab"
      ],
      "metadata": {
        "id": "0oEAAT9ZL3Wq"
      },
      "execution_count": 2,
      "outputs": []
    },
    {
      "cell_type": "code",
      "execution_count": null,
      "metadata": {
        "id": "9b9AOPToJea5"
      },
      "outputs": [],
      "source": [
        "rv, num_samples = [], 1000000\n",
        "\n",
        "for i in range(num_samples):\n",
        "    rv.append(random.gauss(0,100))\n",
        "\n",
        "v = pylab.hist(rv, bins=100, weights=[1/num_samples]*len(rv))\n",
        "bin_size = v[1][1]-v[1][0]\n",
        "\n",
        "pylab.xlabel(\"x\")\n",
        "pylab.ylabel(\"Relative Frequency\")\n",
        "\n",
        "lower = int(49.5-1.96*bin_size-0.5)\n",
        "upper = int(49.5+1.96*bin_size+0.5)\n",
        "print(\"Fraction within two standard deviations of the mean = \", sum(v[0][lower:upper]))"
      ]
    }
  ]
}