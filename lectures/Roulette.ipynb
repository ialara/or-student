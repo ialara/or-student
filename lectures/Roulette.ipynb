{
  "nbformat": 4,
  "nbformat_minor": 0,
  "metadata": {
    "colab": {
      "name": "Roulette.ipynb",
      "provenance": [],
      "collapsed_sections": [],
      "authorship_tag": "ABX9TyPLPXt6gAqXbJSNBr/hl7Bs",
      "include_colab_link": true
    },
    "kernelspec": {
      "name": "python3",
      "display_name": "Python 3"
    },
    "language_info": {
      "name": "python"
    }
  },
  "cells": [
    {
      "cell_type": "markdown",
      "metadata": {
        "id": "view-in-github",
        "colab_type": "text"
      },
      "source": [
        "<a href=\"https://colab.research.google.com/github/ialara/or-student/blob/main/lectures/Roulette.ipynb\" target=\"_parent\"><img src=\"https://colab.research.google.com/assets/colab-badge.svg\" alt=\"Open In Colab\"/></a>"
      ]
    },
    {
      "cell_type": "code",
      "source": [
        "import numpy as np\n",
        "import random\n",
        "import pylab"
      ],
      "metadata": {
        "id": "0oEAAT9ZL3Wq"
      },
      "execution_count": 22,
      "outputs": []
    },
    {
      "cell_type": "code",
      "execution_count": null,
      "metadata": {
        "id": "9b9AOPToJea5"
      },
      "outputs": [],
      "source": [
        "def plot_spins(num_rvs, num_spins, lucky_num, num_bins, legend, color, style):\n",
        "    rvs = []\n",
        "    for i in range(num_spins//num_rvs):\n",
        "        vals = 0\n",
        "        for j in range(num_rvs):\n",
        "            if random.randint(1,38) == lucky_num:\n",
        "                vals += 36\n",
        "            else:\n",
        "                vals -= 1\n",
        "        rvs.append(vals/float(num_rvs))\n",
        "    pylab.hist(rvs, num_bins, color=color, label=legend, weights=[1/len(rvs)]*len(rvs), hatch=style)\n",
        "    return np.mean(rvs), np.std(rvs)\n",
        "  \n",
        "#average, std = plot_spins(1, 1000000, 11, 19, '1 rvs', 'b', '.')\n",
        "#print('AoA with 1 rv/average = ', str(average)+',   StDev =', std)\n",
        "\n",
        "num_rvs = 100\n",
        "average, std = plot_spins(num_rvs, 1000000, 11, 19, str(num_rvs)+' rvs', 'r', 'x')\n",
        "print('AoA with '+str(num_rvs)+' rvs/average = ', str(average)+',   StDev =', std)\n",
        "\n",
        "pylab.title('Rolling Continuous Die')\n",
        "pylab.xlabel('Value')\n",
        "pylab.ylabel('Probability')\n",
        "pylab.legend()\n"
      ]
    }
  ]
}