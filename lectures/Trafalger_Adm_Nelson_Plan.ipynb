{
  "nbformat": 4,
  "nbformat_minor": 0,
  "metadata": {
    "colab": {
      "name": "Trafalger Adm Nelson Plan.ipynb",
      "provenance": [],
      "collapsed_sections": [],
      "authorship_tag": "ABX9TyOxN7ozo98vwd0N5SdTvS5U",
      "include_colab_link": true
    },
    "kernelspec": {
      "name": "python3",
      "display_name": "Python 3"
    },
    "language_info": {
      "name": "python"
    }
  },
  "cells": [
    {
      "cell_type": "markdown",
      "metadata": {
        "id": "view-in-github",
        "colab_type": "text"
      },
      "source": [
        "<a href=\"https://colab.research.google.com/github/ialara/or-student/blob/main/lectures/Trafalger_Adm_Nelson_Plan.ipynb\" target=\"_parent\"><img src=\"https://colab.research.google.com/assets/colab-badge.svg\" alt=\"Open In Colab\"/></a>"
      ]
    },
    {
      "cell_type": "code",
      "execution_count": 24,
      "metadata": {
        "id": "98XN6ydayDh4"
      },
      "outputs": [],
      "source": [
        "import numpy as np\n",
        "import matplotlib.pyplot as plt"
      ]
    },
    {
      "cell_type": "code",
      "source": [
        "blue_attrition = 0.05  #Better trained crews\n",
        "red_attrition = 0.05   #More men and guns\n",
        "\n",
        "def attrition(friendly, enemy, factor): #About every 10 minutes\n",
        "    return max(0,friendly - 0.05*enemy)\n",
        "\n",
        "blue = []\n",
        "red = []\n",
        "blue = np.append(blue, 13)    #Brittish ships\n",
        "red = np.append(red, 3)       #French/Spanish ships\n",
        "\n",
        "blue_reinf = np.zeros(100)\n",
        "red_reinf = np.zeros(100)\n",
        "blue_reinf[6] = 14  #Time 1 hour\n",
        "red_reinf[6] = 17   #Time 1 hour\n",
        "red_reinf[22] = 13  #Time 3 hour 40 min\n",
        "\n",
        "i = 0\n",
        "while (blue[i] > 0 and red[i] > 0) or i <= 22:\n",
        "    blue[i] = blue[i] + blue_reinf[i]\n",
        "    red[i] = red[i] + red_reinf[i]    \n",
        "    blue = np.append(blue, attrition(blue[i], red[i], blue_attrition))\n",
        "    red = np.append(red, attrition(red[i], blue[i], red_attrition))\n",
        "    i += 1\n",
        "\n",
        "hours = np.arange(0, i)/6\n",
        "print('Completed at:{0:6.3f} hours.'.format((i-1)/6.0))\n",
        "plt.plot(hours, blue[0:i], c='b')\n",
        "plt.plot(hours, red[0:i], c='r')\n",
        "plt.title(\"Trafalger With Admiral Nelson's Strategy\")\n",
        "plt.xlabel(\"Time (hours)\")\n",
        "plt.ylabel(\"Remaining Ships\")\n",
        "plt.show()"
      ],
      "metadata": {
        "id": "EdJ6mCc9GwZc"
      },
      "execution_count": null,
      "outputs": []
    }
  ]
}