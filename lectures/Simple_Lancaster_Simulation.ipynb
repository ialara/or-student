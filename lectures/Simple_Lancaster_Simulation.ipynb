{
  "nbformat": 4,
  "nbformat_minor": 0,
  "metadata": {
    "colab": {
      "name": "Simple Lancaster Simulation.ipynb",
      "provenance": [],
      "collapsed_sections": [],
      "authorship_tag": "ABX9TyPMwn2bWTjh/zygAbKp9UIU",
      "include_colab_link": true
    },
    "kernelspec": {
      "name": "python3",
      "display_name": "Python 3"
    },
    "language_info": {
      "name": "python"
    }
  },
  "cells": [
    {
      "cell_type": "markdown",
      "metadata": {
        "id": "view-in-github",
        "colab_type": "text"
      },
      "source": [
        "<a href=\"https://colab.research.google.com/github/ialara/or-student/blob/main/lectures/Simple_Lancaster_Simulation.ipynb\" target=\"_parent\"><img src=\"https://colab.research.google.com/assets/colab-badge.svg\" alt=\"Open In Colab\"/></a>"
      ]
    },
    {
      "cell_type": "code",
      "execution_count": 2,
      "metadata": {
        "id": "98XN6ydayDh4"
      },
      "outputs": [],
      "source": [
        "import numpy as np\n",
        "import matplotlib.pyplot as plt"
      ]
    },
    {
      "cell_type": "code",
      "source": [
        "def period(blue, red): #About every 10 minutes\n",
        "    return max(0,blue - 0.05*red), max(0,red - 0.05*blue)\n",
        "\n",
        "blue_force = np.zeros(1000)\n",
        "red_force = np.zeros(1000)\n",
        "blue_force[0] = 27\n",
        "red_force[0] = 33\n",
        "iter = 24\n",
        "\n",
        "i = 0\n",
        "while i < iter:\n",
        "    blue_force[i+1], red_force[i+1] = period(blue_force[i], red_force[i])\n",
        "    i += 1\n",
        "\n",
        "periods = np.arange(0, i/10.0, 1/6)\n",
        "print('Completed at: ', i/10.0, 'hours')\n",
        "plt.plot(blue_force[0:i], c='b')\n",
        "plt.plot(red_force[0:i], c='r')\n",
        "plt.title(\"Trafalger With Line-of-Battle\")\n",
        "plt.xlabel(\"Time (Number of 10-min periods)\")\n",
        "plt.ylabel(\"Remaining Ships\")\n",
        "plt.show()"
      ],
      "metadata": {
        "id": "wC_z0a-1yriI"
      },
      "execution_count": null,
      "outputs": []
    },
    {
      "cell_type": "code",
      "source": [
        "def period(blue, red):\n",
        "    return max(0,blue - 0.05*red), max(0,red - 0.05*blue)\n",
        "\n",
        "blue_force = np.zeros(1000)\n",
        "red_force = np.zeros(1000)\n",
        "blue_force[0] = 13\n",
        "red_force[0] = 3\n",
        "blue_reinf = np.zeros(1000)\n",
        "red_reinf = np.zeros(1000)\n",
        "blue_reinf[6] = 14\n",
        "red_reinf[6] = 17\n",
        "red_reinf[22] = 13\n",
        "iter = 40\n",
        "\n",
        "i = 0\n",
        "while i < iter:\n",
        "    blue_force[i] = blue_force[i] + blue_reinf[i]\n",
        "    red_force[i] = red_force[i] + red_reinf[i]\n",
        "    blue_force[i+1], red_force[i+1] = period(blue_force[i], red_force[i])\n",
        "    i += 1\n",
        "\n",
        "hours = np.arange(i)\n",
        "print('Completed at: ', i/10.0, 'hours')\n",
        "plt.plot(blue_force[0:i], c='b')\n",
        "plt.plot(red_force[0:i], c='r')\n",
        "plt.title(\"Trafalger With Admiral Nelson's Strategy\")\n",
        "plt.xlabel(\"Time (Number of 10-min periods)\")\n",
        "plt.ylabel(\"Remaining Ships\")\n",
        "plt.show()"
      ],
      "metadata": {
        "id": "EdJ6mCc9GwZc"
      },
      "execution_count": null,
      "outputs": []
    }
  ]
}