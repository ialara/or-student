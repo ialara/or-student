{
  "nbformat": 4,
  "nbformat_minor": 0,
  "metadata": {
    "colab": {
      "name": "Lanchester With Reinforcements.ipynb",
      "provenance": [],
      "collapsed_sections": [],
      "authorship_tag": "ABX9TyMaOvCOqpeDPCnZh5iR3W0f",
      "include_colab_link": true
    },
    "kernelspec": {
      "name": "python3",
      "display_name": "Python 3"
    },
    "language_info": {
      "name": "python"
    }
  },
  "cells": [
    {
      "cell_type": "markdown",
      "metadata": {
        "id": "view-in-github",
        "colab_type": "text"
      },
      "source": [
        "<a href=\"https://colab.research.google.com/github/ialara/or-student/blob/main/lectures/Lanchester_With_Reinforcements.ipynb\" target=\"_parent\"><img src=\"https://colab.research.google.com/assets/colab-badge.svg\" alt=\"Open In Colab\"/></a>"
      ]
    },
    {
      "cell_type": "code",
      "execution_count": 7,
      "metadata": {
        "id": "98XN6ydayDh4"
      },
      "outputs": [],
      "source": [
        "import numpy as np\n",
        "import matplotlib.pyplot as plt"
      ]
    },
    {
      "cell_type": "code",
      "source": [
        "def attrition(friendly, enemy, factor): \n",
        "    return max(0,friendly - factor*enemy)\n",
        "\n",
        "def reinforcements(period, forces, reinf, force_ratio, blocks, thresholds):\n",
        "    activated = [0, 0] #reinforcements called up\n",
        "    for iside, side in enumerate(sides):\n",
        "        reinforce_details = ' '\n",
        "        neg_red = 2*iside-1\n",
        "        if blocks[iside][0] > 0 and np.sum(reinf[iside][max(0,period-blocks[iside][2]):period]) == 0:\n",
        "            if force_ratio*neg_red >= thresholds[iside][0]*neg_red:\n",
        "                reinforce_details = 'Force Ratio: {0:5.3f} {1:4.1f} '.format(force_ratio, thresholds[iside][0])\n",
        "            if forces[iside][period] <= thresholds[iside][1]:\n",
        "                reinforce_details = reinforce_details + 'Engaged: {0:5.3f} {1:4.1f}'.format(forces[iside][period], thresholds[iside][1])\n",
        "        if reinforce_details != ' ':\n",
        "            #print(side+' reinforces at', period, reinforce_details)\n",
        "            blocks[iside][0] -= 1\n",
        "            activated[iside] = blocks[iside][1]\n",
        "    return blocks, activated"
      ],
      "metadata": {
        "id": "HcBjKaVYaHlv"
      },
      "execution_count": 8,
      "outputs": []
    },
    {
      "cell_type": "code",
      "source": [
        "red = []\n",
        "red = np.append(red, 1500)\n",
        "red_reinf = []\n",
        "\n",
        "blue = []\n",
        "blue = np.append(blue, 839)\n",
        "blue_reinf = []\n",
        "\n",
        "sides = ['red', 'blue']\n",
        "blocks = [[5, 300, 70], [5, 300, 70]]\n",
        "reinforce_thresholds = [[2.5, 0.8*red[0]],[4.0, 0.8*blue[0]]]\n",
        "withdraw_thresholds = [[1.5, 0.7*red[0]],[10.0, 0.7*blue[0]]]\n",
        "\n",
        "period = 0\n",
        "while red[period] > 0 and blue[period] > 0:\n",
        "    FR = red[period]/blue[period]\n",
        "    #Reinforcements\n",
        "    blocks, activated = reinforcements(period, (red, blue), (red_reinf, blue_reinf), FR, blocks, reinforce_thresholds)\n",
        "    red_reinf = np.append(red_reinf, activated[0])\n",
        "    blue_reinf = np.append(blue_reinf, activated[1])\n",
        "    #Add prior reinforcements, if any\n",
        "    if period >=70:\n",
        "        blue[period] += blue_reinf[period-70]\n",
        "        red[period] += red_reinf[period-70]\n",
        "    #Atrrition calculation\n",
        "    blue = np.append(blue, attrition(blue[period], red[period], 1/2048))\n",
        "    red = np.append(red, attrition(red[period], blue[period], 1/512))\n",
        "\n",
        "    period += 1\n",
        "    \n",
        "periods = np.arange(0, period)\n",
        "plt.plot(periods, blue[0:period], c='b')\n",
        "plt.plot(periods, red[0:period], c='r')\n",
        "plt.title(\"Dewar Simulation\")\n",
        "plt.xlabel(\"Periods\")\n",
        "plt.ylabel(\"Remaining Forces\")\n",
        "plt.ylim([0, 1.1*np.max((red, blue))])\n",
        "plt.show()"
      ],
      "metadata": {
        "id": "xmV-nXxzZgjS"
      },
      "execution_count": null,
      "outputs": []
    }
  ]
}