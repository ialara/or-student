{
  "nbformat": 4,
  "nbformat_minor": 0,
  "metadata": {
    "colab": {
      "name": "integrate sin.ipynb",
      "provenance": [],
      "authorship_tag": "ABX9TyNpuRF6SRoPMZzhSmGjF+nH",
      "include_colab_link": true
    },
    "kernelspec": {
      "name": "python3",
      "display_name": "Python 3"
    },
    "language_info": {
      "name": "python"
    }
  },
  "cells": [
    {
      "cell_type": "markdown",
      "metadata": {
        "id": "view-in-github",
        "colab_type": "text"
      },
      "source": [
        "<a href=\"https://colab.research.google.com/github/ialara/or-student/blob/main/lectures/integrate_sin.ipynb\" target=\"_parent\"><img src=\"https://colab.research.google.com/assets/colab-badge.svg\" alt=\"Open In Colab\"/></a>"
      ]
    },
    {
      "cell_type": "code",
      "source": [
        "import numpy as np"
      ],
      "metadata": {
        "id": "6yQ5lwjuxFVK"
      },
      "execution_count": 50,
      "outputs": []
    },
    {
      "cell_type": "code",
      "source": [
        "x_lower = 0\n",
        "x_upper = np.pi\n",
        "y_lower = 0\n",
        "y_upper = 1\n",
        "samples = 10\n",
        "\n",
        "def darts(x, y):\n",
        "    return y <= np.sin(x)\n",
        "\n",
        "x = np.random.uniform(x_lower, x_upper, samples)\n",
        "y = np.random.uniform(y_lower, y_upper, samples)\n",
        "results = np.zeros(samples)\n",
        "results = darts(x, y)\n",
        "\n",
        "print((x_upper-x_lower)*(y_upper-y_lower)*sum(results)/samples)"
      ],
      "metadata": {
        "id": "cVvm8F91hHDr"
      },
      "execution_count": null,
      "outputs": []
    },
    {
      "cell_type": "code",
      "execution_count": null,
      "metadata": {
        "id": "xjsfaw5Cw0Ts"
      },
      "outputs": [],
      "source": [
        "x_lower = 0\n",
        "x_upper = np.pi\n",
        "samples = 10\n",
        "\n",
        "def y_function(x):\n",
        "    return np.sin(x)\n",
        "\n",
        "x = np.random.uniform(x_lower, x_upper, samples)\n",
        "y = y_function(x)\n",
        "\n",
        "print((x_upper-x_lower)*sum(y)/samples)"
      ]
    },
    {
      "cell_type": "code",
      "source": [
        "import matplotlib.pyplot as plt"
      ],
      "metadata": {
        "id": "rUToh1vWxS3t"
      },
      "execution_count": 76,
      "outputs": []
    },
    {
      "cell_type": "code",
      "source": [
        "x_lower = 0\n",
        "x_upper = np.pi\n",
        "samples_set = [10, 20, 40, 80, 160]\n",
        "sample_means = np.zeros(0)\n",
        "\n",
        "def y_function(x):\n",
        "    return np.sin(x)\n",
        "\n",
        "def sampling(samples):\n",
        "    x = np.random.uniform(x_lower, x_upper, samples)\n",
        "    y = y_function(x)\n",
        "    return (x_upper-x_lower)*np.mean(y)\n",
        "\n",
        "for samples in samples_set:\n",
        "    sample_means = np.append(sample_means, sampling(samples))\n",
        "\n",
        "plt.plot(samples_set, sample_means)"
      ],
      "metadata": {
        "id": "I_Jajl2txmJE"
      },
      "execution_count": null,
      "outputs": []
    },
    {
      "cell_type": "code",
      "source": [
        "x_lower = 0\n",
        "x_upper = np.pi\n",
        "samples_set = [10, 20, 40, 80, 160]\n",
        "reps = 100\n",
        "rep_means = np.zeros((reps,len(samples_set)))\n",
        "averages = np.zeros(0)\n",
        "\n",
        "def y_function(x):\n",
        "    return np.sin(x)\n",
        "\n",
        "def sampling(samples):\n",
        "    x = np.random.uniform(x_lower, x_upper, samples)\n",
        "    y = y_function(x)\n",
        "    return (x_upper-x_lower)*np.mean(y)\n",
        "\n",
        "def replications(rep):\n",
        "    sample_means = np.zeros(0)\n",
        "    for samples in samples_set:\n",
        "        sample_means = np.append(sample_means, sampling(samples))\n",
        "    return sample_means\n",
        "\n",
        "for rep in range(reps):\n",
        "    rep_means[rep] = replications(rep)\n",
        "\n",
        "plt.boxplot(rep_means)\n",
        "plt.xticks(list(range(1,len(samples_set)+1)),samples_set)  "
      ],
      "metadata": {
        "id": "i-qySrr0x13J"
      },
      "execution_count": null,
      "outputs": []
    }
  ]
}