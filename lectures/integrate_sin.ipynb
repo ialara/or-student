{
  "nbformat": 4,
  "nbformat_minor": 0,
  "metadata": {
    "colab": {
      "name": "integrate sin.ipynb",
      "provenance": [],
      "authorship_tag": "ABX9TyPQWboEHWWl3QoNHCFnRiyn",
      "include_colab_link": true
    },
    "kernelspec": {
      "name": "python3",
      "display_name": "Python 3"
    },
    "language_info": {
      "name": "python"
    }
  },
  "cells": [
    {
      "cell_type": "markdown",
      "metadata": {
        "id": "view-in-github",
        "colab_type": "text"
      },
      "source": [
        "<a href=\"https://colab.research.google.com/github/ialara/or-student/blob/main/lectures/integrate_sin.ipynb\" target=\"_parent\"><img src=\"https://colab.research.google.com/assets/colab-badge.svg\" alt=\"Open In Colab\"/></a>"
      ]
    },
    {
      "cell_type": "code",
      "source": [
        "import numpy as np"
      ],
      "metadata": {
        "id": "6yQ5lwjuxFVK"
      },
      "execution_count": 5,
      "outputs": []
    },
    {
      "cell_type": "code",
      "execution_count": null,
      "metadata": {
        "id": "xjsfaw5Cw0Ts"
      },
      "outputs": [],
      "source": [
        "x_lower = 0\n",
        "x_upper = np.pi\n",
        "samples = 10\n",
        "\n",
        "def y_function(x):\n",
        "    return np.sin(x)\n",
        "\n",
        "x = np.random.uniform(x_lower, x_upper, samples)\n",
        "y = y_function(x)\n",
        "\n",
        "\n",
        "print((x_upper-x_lower)*sum(y)/samples)"
      ]
    },
    {
      "cell_type": "code",
      "source": [
        "import numpy as np\n",
        "import matplotlib.pyplot as plt"
      ],
      "metadata": {
        "id": "rUToh1vWxS3t"
      },
      "execution_count": 8,
      "outputs": []
    },
    {
      "cell_type": "code",
      "source": [
        "x_lower = 0\n",
        "x_upper = np.pi\n",
        "samples_set = [10, 20, 40, 80, 160]\n",
        "samples_results = []\n",
        "\n",
        "def y_function(x):\n",
        "    return np.sin(x)\n",
        "\n",
        "def sampling():\n",
        "    for samples in samples_set:\n",
        "        x = np.random.uniform(x_lower, x_upper, samples)\n",
        "        y = y_function(x)\n",
        "        samples_results.append((x_upper-x_lower)*sum(y)/samples - 2)\n",
        "\n",
        "sampling()\n",
        "plt.plot(samples_set, samples_results)"
      ],
      "metadata": {
        "id": "I_Jajl2txmJE"
      },
      "execution_count": null,
      "outputs": []
    },
    {
      "cell_type": "code",
      "source": [
        "x_lower = 0\n",
        "x_upper = np.pi\n",
        "AoA = [] #average of averages\n",
        "reps = 1000\n",
        "reps_results = []\n",
        "samples_set = [10, 20, 40, 80, 160]\n",
        "\n",
        "def y_function(x):\n",
        "    return np.sin(x)\n",
        "\n",
        "def sampling():\n",
        "    samples_results = []\n",
        "    for samples in samples_set:\n",
        "        x = np.random.uniform(x_lower, x_upper, samples)\n",
        "        y = y_function(x)\n",
        "        samples_results.append((x_upper-x_lower)*sum(y)/samples)\n",
        "    return samples_results\n",
        "\n",
        "for rep in range(reps):\n",
        "    reps_results.append(sampling())\n",
        "\n",
        "AoA = np.sum(np.array(reps_results), axis=0)/reps\n",
        "plt.plot(samples_set, AoA)"
      ],
      "metadata": {
        "id": "i-qySrr0x13J"
      },
      "execution_count": null,
      "outputs": []
    }
  ]
}