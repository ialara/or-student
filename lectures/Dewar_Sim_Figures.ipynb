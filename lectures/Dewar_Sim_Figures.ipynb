{
  "nbformat": 4,
  "nbformat_minor": 0,
  "metadata": {
    "colab": {
      "name": "Dewar Sim Figures.ipynb",
      "provenance": [],
      "collapsed_sections": [],
      "authorship_tag": "ABX9TyNQtFBPX4k0idQ2TH6teAP5",
      "include_colab_link": true
    },
    "kernelspec": {
      "name": "python3",
      "display_name": "Python 3"
    },
    "language_info": {
      "name": "python"
    }
  },
  "cells": [
    {
      "cell_type": "markdown",
      "metadata": {
        "id": "view-in-github",
        "colab_type": "text"
      },
      "source": [
        "<a href=\"https://colab.research.google.com/github/ialara/or-student/blob/main/lectures/Dewar_Sim_Figures.ipynb\" target=\"_parent\"><img src=\"https://colab.research.google.com/assets/colab-badge.svg\" alt=\"Open In Colab\"/></a>"
      ]
    },
    {
      "cell_type": "code",
      "execution_count": 1,
      "metadata": {
        "id": "98XN6ydayDh4"
      },
      "outputs": [],
      "source": [
        "import numpy as np\n",
        "import matplotlib.pyplot as plt"
      ]
    },
    {
      "cell_type": "code",
      "source": [
        "def attrition(friendly, enemy, factor): \n",
        "    return max(0,friendly - factor*enemy)\n",
        "\n",
        "def reinforcements(period, forces, reinf, force_ratio, blocks, thresholds):\n",
        "    activated = [0, 0] #reinforcements called up\n",
        "    for iside, side in enumerate(sides):\n",
        "        reinforce_details = ' '\n",
        "        neg_red = 2*iside-1\n",
        "        if blocks[iside][0] > 0 and np.sum(reinf[iside][max(0,period-blocks[iside][2]):period]) == 0:\n",
        "            if force_ratio*neg_red >= thresholds[iside][0]*neg_red:\n",
        "                reinforce_details = 'Force Ratio: {0:5.3f} {1:4.1f} '.format(force_ratio, thresholds[iside][0])\n",
        "            if forces[iside][period] <= thresholds[iside][1]:\n",
        "                reinforce_details = reinforce_details + 'Engaged: {0:5.3f} {1:4.1f}'.format(forces[iside][period], thresholds[iside][1])\n",
        "        if reinforce_details != ' ':\n",
        "            #print(side+' reinforces at', period, reinforce_details)\n",
        "            blocks[iside][0] -= 1\n",
        "            activated[iside] = blocks[iside][1]\n",
        "    return blocks, activated\n",
        "\n",
        "def withdrawn(period, forces, force_ratio, thresholds):\n",
        "    withdraw = [False, '']\n",
        "    for iside, side in enumerate(sides):\n",
        "        withdraw_details = ' '\n",
        "        neg_red = 2*iside-1 \n",
        "        if force_ratio*neg_red >= thresholds[iside][0]*neg_red:\n",
        "            withdraw_details = 'Force Ratio: {0:5.3f} {1:4.1f} '.format(force_ratio, thresholds[iside][0])\n",
        "        if forces[iside][period] <= thresholds[iside][1]:\n",
        "            withdraw_details = withdraw_details + 'Engaged: {0:5.3f} {1:4.1f}'.format(forces[iside][period], thresholds[iside][1])\n",
        "        if withdraw_details != ' ':\n",
        "            if withdraw[0]: withdraw[1] += ' & '\n",
        "            withdraw[0] = True\n",
        "            withdraw[1] += side\n",
        "            #print(side+' withdraws at', period, withdraw_details)\n",
        "    return withdraw"
      ],
      "metadata": {
        "id": "D3lYqHo82-H0"
      },
      "execution_count": 2,
      "outputs": []
    },
    {
      "cell_type": "code",
      "source": [
        "def Dewar_Sim(init_red, init_blue):\n",
        "    red = []\n",
        "    red = np.append(red, init_red)\n",
        "    red_reinf = []\n",
        "\n",
        "    blue = []\n",
        "    blue = np.append(blue, init_blue)\n",
        "    blue_reinf = []\n",
        "\n",
        "    blocks = [[5, 300, 70], [5, 300, 70]]\n",
        "    reinforce_thresholds = [[2.5, 0.8*red[0]],[4.0, 0.8*blue[0]]]\n",
        "    withdraw_thresholds = [[1.5, 0.7*red[0]],[10.0, 0.7*blue[0]]]\n",
        "\n",
        "    period = 0\n",
        "    FR = red[0]/blue[0]\n",
        "    withdraw = withdrawn(period, (red, blue), FR, withdraw_thresholds)\n",
        "    while not(withdraw[0]):\n",
        "        #Reinforcements\n",
        "        blocks, activated = reinforcements(period, (red, blue), (red_reinf, blue_reinf), FR, blocks, reinforce_thresholds)\n",
        "        red_reinf = np.append(red_reinf, activated[0])\n",
        "        blue_reinf = np.append(blue_reinf, activated[1])\n",
        "        #Add prior reinforcements, if any\n",
        "        if period >=70:\n",
        "            blue[period] += blue_reinf[period-70]\n",
        "            red[period] += red_reinf[period-70]\n",
        "        #Atrrition calculation\n",
        "        blue = np.append(blue, attrition(blue[period], red[period], 1/2048))\n",
        "        red = np.append(red, attrition(red[period], blue[period], 1/512))\n",
        "\n",
        "        period += 1\n",
        "        FR = red[period]/blue[period]\n",
        "        withdraw = withdrawn(period, (red, blue), FR, withdraw_thresholds)\n",
        "\n",
        "    return withdraw[1]"
      ],
      "metadata": {
        "id": "EdJ6mCc9GwZc"
      },
      "execution_count": 5,
      "outputs": []
    },
    {
      "cell_type": "code",
      "source": [
        "winner = []\n",
        "sides = ['red', 'blue']\n",
        "#Figure 1\n",
        "#for red in range(1500,3500,10):\n",
        "#    winner = np.append(winner, Dewar_Sim(red, 839)=='blue')\n",
        "#Figure 2\n",
        "for red in range(700,1800,1):\n",
        "    winner = np.append(winner, Dewar_Sim(red, 500)=='blue')\n",
        "\n",
        "red_forces = np.arange(1500, 3500, 10)\n",
        "plt.plot(winner, c='k')\n",
        "plt.title(\"Dewar Simulation: Blue Forces = 839\")\n",
        "plt.xlabel(\"Red Forces\")\n",
        "plt.ylabel(\"Winner\")\n",
        "plt.yticks((0.0, 1.0), ('Blue', 'Red'))\n",
        "plt.show()"
      ],
      "metadata": {
        "id": "QqaqRwPSSERZ",
        "outputId": "50916a6d-2543-498a-a618-256c607559e5",
        "colab": {
          "base_uri": "https://localhost:8080/",
          "height": 295
        }
      },
      "execution_count": 6,
      "outputs": [
        {
          "output_type": "display_data",
          "data": {
            "text/plain": [
              "<Figure size 432x288 with 1 Axes>"
            ],
            "image/png": "[encoded data removed]"
          },
          "metadata": {
            "needs_background": "light"
          }
        }
      ]
    }
  ]
}