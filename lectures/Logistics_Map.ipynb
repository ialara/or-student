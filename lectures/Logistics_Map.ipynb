{
  "nbformat": 4,
  "nbformat_minor": 0,
  "metadata": {
    "colab": {
      "name": "Logistics Map.ipynb",
      "provenance": [],
      "collapsed_sections": [],
      "authorship_tag": "ABX9TyPdHxN5UK9oG4BNoX+B5RlA",
      "include_colab_link": true
    },
    "kernelspec": {
      "name": "python3",
      "display_name": "Python 3"
    },
    "language_info": {
      "name": "python"
    }
  },
  "cells": [
    {
      "cell_type": "markdown",
      "metadata": {
        "id": "view-in-github",
        "colab_type": "text"
      },
      "source": [
        "<a href=\"https://colab.research.google.com/github/ialara/or-student/blob/main/lectures/Logistics_Map.ipynb\" target=\"_parent\"><img src=\"https://colab.research.google.com/assets/colab-badge.svg\" alt=\"Open In Colab\"/></a>"
      ]
    },
    {
      "cell_type": "code",
      "source": [
        "import numpy as np\n",
        "import matplotlib.pyplot as plt"
      ],
      "metadata": {
        "id": "ZBz01lOqA31N"
      },
      "execution_count": 2,
      "outputs": []
    },
    {
      "cell_type": "code",
      "source": [
        "iterations = 20\n",
        "x = np.zeros(iterations+1)\n",
        "x[0] = 0.5\n",
        "a = 2.5\n",
        "\n",
        "def LogisticsMap(x, a):\n",
        "    return a*x*(1-x)\n",
        "\n",
        "def iterate(iterations, x, a):\n",
        "    for iteration in range(iterations):\n",
        "        x[iteration+1] = LogisticsMap(x[iteration], a)\n",
        "    return x\n",
        "\n",
        "fig, ax = plt.subplots()\n",
        "plt.plot(np.arange(iterations+1), iterate(iterations, x, a))"
      ],
      "metadata": {
        "id": "SO2fRyKeBKY3"
      },
      "execution_count": null,
      "outputs": []
    },
    {
      "cell_type": "code",
      "source": [
        "fig, ax = plt.subplots()\n",
        "\n",
        "ax.plot(x[:-1], x[1:], '.k')\n",
        "ax.set_xlabel(r'$x_{n-1}$')\n",
        "ax.set_ylabel(r'$x_n$')\n",
        "ax.set_title('Return Plot')\n",
        "\n",
        "plt.show()"
      ],
      "metadata": {
        "id": "EQPSe17BMMKK"
      },
      "execution_count": null,
      "outputs": []
    },
    {
      "cell_type": "code",
      "source": [
        "iterations = 1000\n",
        "x = np.zeros(iterations+1)\n",
        "x[0] = 0.5\n",
        "a_array = np.arange(1,3.9, 0.1)\n",
        "\n",
        "def LogisticsMap(x, a):\n",
        "    return a*x*(1-x)\n",
        "\n",
        "def iterate(iterations, x, a):\n",
        "    for iteration in range(iterations):\n",
        "        x[iteration+1] = LogisticsMap(x[iteration], a)\n",
        "    return x\n",
        "\n",
        "for a in a_array:\n",
        "    plt.scatter(np.repeat(a, iterations-99), iterate(iterations, x, a)[100:iterations+1], s=0.0005, c='r')\n",
        "\n",
        "plt.show()"
      ],
      "metadata": {
        "id": "tqvQqYD7OfA6"
      },
      "execution_count": null,
      "outputs": []
    }
  ]
}