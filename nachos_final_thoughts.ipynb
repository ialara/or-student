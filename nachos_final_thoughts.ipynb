{
  "nbformat": 4,
  "nbformat_minor": 0,
  "metadata": {
    "colab": {
      "name": "nachos_final_thoughts.ipynb",
      "provenance": [],
      "authorship_tag": "ABX9TyMp0WWeDojY948Aw6PXtK7s",
      "include_colab_link": true
    },
    "kernelspec": {
      "name": "python3",
      "display_name": "Python 3"
    },
    "language_info": {
      "name": "python"
    }
  },
  "cells": [
    {
      "cell_type": "markdown",
      "metadata": {
        "id": "view-in-github",
        "colab_type": "text"
      },
      "source": [
        "<a href=\"https://colab.research.google.com/github/ialara/or-student/blob/main/nachos_final_thoughts.ipynb\" target=\"_parent\"><img src=\"https://colab.research.google.com/assets/colab-badge.svg\" alt=\"Open In Colab\"/></a>"
      ]
    },
    {
      "cell_type": "markdown",
      "source": [
        "# Nacho's Final Thoughts\n",
        "\n",
        "Here is a collection of a few ideas that I think might be helpful for your final. They are generally arranged in what I believe is the order of most to least important.\n",
        "\n",
        "* Remember that the final is likely to extend concepts and models you've already seen in homeworks, class notebooks, or TA sessions. Don't be afraid to reference these notebooks!\n",
        "  * HW1: Root Beer game, difference equations, equilibria, eigenvalues, stability\n",
        "  * HW2: Loan payoff, coin flipping game, population simulation\n",
        "  * HW3: Monte Carlo integration, \"logistic map,\" chaotic dynamical systems (iteration plot, return map, bifurcation diagram), rabbits and foxes\n",
        "  * HW4: Lanchester equations / Dewar model <br /> <br />\n",
        "  *  TA sessions: `craps` (dice game, box plots), `plots` (`pyplot` overview, simple iteration plots, return plots, and phase maps, **with definitions**), `classes_dicts` (overview of classes and dictionaries), `HW3_Solutions` (you know what these are)\n",
        "  * Lecture notebooks: chaos game, Lanchester equations, Dewar simulations, artificial societies, Lorenz system, Mandelbrot sets, population, Monte carlo integration methods)\n",
        "* Bart often provides a lot of useful information in the text of the problem. Read it (all) carefully, and if it's still ambiguous -- send him an email and ask! **`In the face of ambiguity, refuse the temptation to guess.`**\n",
        "* Skim the entire exam before jumping into code. Not only will that help with the above, but it will also help you be judicious with your time. **`Now is better than never. But never is often better than *right* now.`**\n",
        "\n",
        "## On the topic of Python...\n",
        "* Import only what you need, and import only once (per notebook). No harm in grabbing all of `numpy` (`import numpy as np`), but you probably don't need all of `math`, maybe just `from math import pi`.\n",
        "* At the start of your notebook (only once _per notebook_ is necessary), create your `numpy.random.default_rng()` instance. If you want to use a random seed (for testing, or if asked to do so in the problem), pass it as the first argument, like `default_rng(42)`.\n",
        "* Code small, test small. Functions are free, use them where they help. _My personal style_ is to try and write several small, self-contained functions that build on each other, rather than one function to do it all.  That way, your \"high level\" code is easy to understand, e.g. `if dart_in_domain() and z <= func(): <...>`, and your low-level code is simple to check, test, and modify. **`Simple is better than complex. Complex is better than complicated.`**\n",
        "* On the same note, variable names are free. Make them meaningful, even if it means a little more typing. Remember, code is read more than it is written (and code will be read by your grader!). **`Readability counts.`**\n",
        "* Try to avoid `global` variables, especially ones you declare inside functions. They are vulnerable to \"side effects\" (where functions change something in the program beyond what the function returns), and they introduce code dependencies which can lead to sneaky and nefarious bugs. Often, the same can be accomplished by simply declaring the variable outside of the function, then passing it as an argument to the function, and/or updating it by assigning the variable back to a call to the modifying function.(e.g. `<other returns>, x = do_something(<other arguments>, x)`) **`If the implementation is hard to explain, it's a bad idea.`**\n",
        "* Documentation is your friend. Use it! **`There should be one-- and preferably only one --obvious way to do it.`**\n",
        "* Comments are our friend. Write them! **`Explicit is better than implicit.`**\n",
        "* Don't worry about coming up with the fastest, slickest, or most keystroke-efficient code. Focus on code that makes sense to you, and breaks the problem down logically. **`Practicality beats purity. If the implementation is easy to explain, it may be a good idea.`**\n",
        "\n",
        "## On the topic of speed...\n",
        "If you're dealing with large (tens of thousands+) numbers of operations, the following tips may drastically speed up your code:\n",
        "* Setting values of pre-sized arrays is _much_ faster than appending in a loop. That is, try using `x[i] = v` instead of `x = np.append(x, v)`.\n",
        "* If you do append, keep in mind it is an in-place operation for `list`s, but it is **not** an in-place operation for `np.array`s. That is, `mylist.append('val')` updates the original `mylist` by itself; `arr.append(v)` **does not** update `arr`. (To do so, you want `arr = np.append(arr, v)`.)\n",
        "* Most Python functions can be _vectorized_, meaning they can operate elementwise on vectors of values as well as scalars. `return a*x` will return a single value if given scalars for `a` and `x`, but a vector of values if given vectors for `a` and `x`, that is $[a_0x_0 \\: a_1x_1 \\: a_2x_2 \\cdots a_nx_n]'$. This will often save you the need to do a \"double,\" or nested, for-loop. **`Flat is better than nested.`**\n",
        "  * But always **TEST** to make sure this math is doing what you want! Code small, test small. **`Errors should never pass silently.`**\n",
        "\n",
        "## On the topic of types...\n",
        "\n",
        "We've covered several different parts of Python, and used several different types of variables. I summarize some of them below\n",
        "\n",
        "| Type | Example | Useful for | Watch out for |\n",
        "| ---- | ------- | --------- | ------------- |\n",
        "| `int`,`float` | `x = 5` <br /> `y = rng.random()` | * Representing numbers! | * Endpoint treatments, e.g. `range(a, b)` does not include `b`. |\n",
        "| `str` | `x = 'hello'` | * Representing descriptions, words, labels, outcomes, etc. | * Quotation confusion. If you use single quotes `'`, escape literal apostrophes (`'It\\'s a nice day.'`). Or, just use double quotes `\"`. <br /> * Formatting, concatenation, and conversion. Remember, you can use string formatting methods to handle this (`'I am {} years old, my name is {}.format(age, name)'`). |\n",
        "| `list` | `x = []` <br /> `y = ['apples','bananas']` <br /> `z = [a**2 for a in range(5)]` | * Collecting variables of different types <br /> * Easily passing a sequence to iterate over, or create an array | * In-place appends <br /> * Slow operations |\n",
        "| `numpy.array` | `x = np.array([1,2,3])` <br /> `y = np.zeros(3)` <br /> `z = np.array(['Heads', 'Tails'])` | * Performing many numerical operations <br /> * Handling sequences of the same type <br /> * Vectorizing functions <br /> * Improving speed of iteration (assign to pre-sized array instead of appending)| * Copies rather than in-place operations (specifically for `np.append`) <br /> * Dimensionality (`arr.shape`) <br /> * Linear algebra performing as intended |\n",
        "| `dict` | `w = {}` <br /> `x = {'John': 7, 'Chris': 5}` <br /> `y = dict()` <br /> `z = {k: v for k, v in zip(keys, values)}` | * Referencing by key instead of numerical index <br /> * Mapping (immutable) keys to (mutable) values <br /> * Checking if `key in mydict`, and easily assigning new keys like `mydict[newkey] = newval`. | * Trying to use mutable keys <br /> * Trying to access, assign, or reference with numerical index <br /> * Accessing `list` values incorrectly (i.e., the **correct** way is `mydict[key][list_index]`, **not** `mydict[key, listindex]`) |\n",
        "| `function` | `def x(arg): return arg + 5` <br /> `np.mean()` | * Representing flexible, repeatable operations | * Always returning something <br /> * Checking what you return <br /> * Avoiding side effects | \n",
        "| `class` | `class Car: <...>` | * Representing a real-world (or abstract) object, with methods and instance variables. `mycar = Car(...)` | * Using `self` where appropriate <br /> * Having a valid constructor (`__init()__`). <br /> * Working with objects (instances), not the class itself. |\n",
        "| `tuple` | `tup = next(zip(a_vals, b_vals))` <br /> `return x, y, z` | * Representing $n$-dimensional \"pairs\" of values. <br /> * \"Zipping\" different sequences together, element-by-element <br /> * Returning multiple values from a function <br /> * Creating a `dict` through dictionary comprehension | * Unpacking (if a function returns a tuple, make sure you unpack into the same number of variables). <br /> * Confusing with a `list` or `numpy.array`"
      ],
      "metadata": {
        "id": "foSOpmpeEizj"
      }
    },
    {
      "cell_type": "code",
      "execution_count": 1,
      "metadata": {
        "colab": {
          "base_uri": "https://localhost:8080/"
        },
        "id": "d-g2pIQxEhwH",
        "outputId": "911eba43-d76f-4e6f-d2f7-a4071dde529e"
      },
      "outputs": [
        {
          "output_type": "stream",
          "name": "stdout",
          "text": [
            "The Zen of Python, by Tim Peters\n",
            "\n",
            "Beautiful is better than ugly.\n",
            "Explicit is better than implicit.\n",
            "Simple is better than complex.\n",
            "Complex is better than complicated.\n",
            "Flat is better than nested.\n",
            "Sparse is better than dense.\n",
            "Readability counts.\n",
            "Special cases aren't special enough to break the rules.\n",
            "Although practicality beats purity.\n",
            "Errors should never pass silently.\n",
            "Unless explicitly silenced.\n",
            "In the face of ambiguity, refuse the temptation to guess.\n",
            "There should be one-- and preferably only one --obvious way to do it.\n",
            "Although that way may not be obvious at first unless you're Dutch.\n",
            "Now is better than never.\n",
            "Although never is often better than *right* now.\n",
            "If the implementation is hard to explain, it's a bad idea.\n",
            "If the implementation is easy to explain, it may be a good idea.\n",
            "Namespaces are one honking great idea -- let's do more of those!\n"
          ]
        }
      ],
      "source": [
        "import this"
      ]
    },
    {
      "cell_type": "markdown",
      "source": [
        "## On the topic of friendship...\n",
        "\n",
        "This class did not come with a license. Nothing expires, you don't need to renew your membership now that the class is done. Please feel free to keep in touch with Bart and me -- we're excited to see all of the amazing code yet to come on your Python journey!\n",
        "\n",
        "Speaking of which, you've got this one! And remember...\n",
        "\n",
        "![airplane-good-luck](https://memegenerator.net/img/instances/43811786.jpg)"
      ],
      "metadata": {
        "id": "WKCObE37Yayv"
      }
    }
  ]
}