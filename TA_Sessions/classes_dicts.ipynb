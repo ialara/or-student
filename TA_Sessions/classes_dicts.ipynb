{
  "nbformat": 4,
  "nbformat_minor": 0,
  "metadata": {
    "colab": {
      "name": "classes_dicts.ipynb",
      "provenance": [],
      "toc_visible": true,
      "include_colab_link": true
    },
    "kernelspec": {
      "name": "python3",
      "display_name": "Python 3"
    },
    "language_info": {
      "name": "python"
    }
  },
  "cells": [
    {
      "cell_type": "markdown",
      "metadata": {
        "id": "view-in-github",
        "colab_type": "text"
      },
      "source": [
        "<a href=\"https://colab.research.google.com/github/ialara/or-student/blob/main/TA_Sessions/classes_dicts.ipynb\" target=\"_parent\"><img src=\"https://colab.research.google.com/assets/colab-badge.svg\" alt=\"Open In Colab\"/></a>"
      ]
    },
    {
      "cell_type": "markdown",
      "source": [
        "#### Operations Research - Simulation\n",
        "#### Bart Bennett / Ignacio Lara\n",
        "#### Spring 2022\n",
        "<hr />\n",
        "\n",
        "# Classes and Dictionaries\n",
        "<div>\n",
        "<img src='https://i.pinimg.com/originals/b7/5c/53/b75c53ceb9f17f544dd617b8dc7c4a73.jpg' />\n",
        "</div>\n",
        "\n",
        "## Object-Oriented?\n",
        "\n",
        "Python is an object-oriented (OO) language, but what does that mean? Most modern programs have an OO architecture, in which the \"world\" is modeled in terms of self-contained objects. Objects have certain characteristics or \"nouns,\" called _data attributes_, and certain capabilities or \"verbs,\" called _methods_. Coding in an OO language involves creating (or _instantiating_) the objects you need, then doing what you want by calling methods of objects and querying and assigning instance variables to or from other objects.\n",
        "\n",
        "In contrast, a programming paradigm known as _procedural_ programming simply presents a set of instructions or routines which are executed by the computer in order. One example of procedural programming is found in Stata do files.\n",
        "\n",
        "## Ok, so what's a class?\n",
        "\n",
        "In the simplest sense, classes are \"object blueprints,\" they define the _template_ or instructions for how to produce a certain kind of object. If you wanted to represent your specific pet in Python, the `Dog` or `Cat` class might have properties like `name`, `age`, or `weight`. It might also have methods like `bark()`, `fetch()`, or `sleep()`. So if your pet Fido was a 5 year old dog weighing 40 pounds, you could create a `fido` _object_ by calling the `Dog` _class_, and giving it the relevant values for its data attributes.\n",
        "\n",
        "### The `__init__()` method: an object's DNA\n",
        "Every class needs an `__init__()` method, which is automatically called when you try to instantiate a new object of the class. Without the `__init__()`, you'll only get an empty object - nobody's home. Note that this is a built-in function name, and it is surrounded by a double underscore `__` on each side. Think of it as DNA, it contains the instructions that will automatically run each time an object is instantiated, and can be used to set some data attributes right away. For our `Dog` class, the `__init__()` method might accept three arguments in addition to the special word `self`, which we'll explain later. So the `Dog` class' `__init__()` function might look something like\n",
        "```\n",
        "def __init__(self, name, age, weight):\n",
        "    self.name = name\n",
        "    self.age = age\n",
        "    self.weight = weight\n",
        "```\n",
        "Now, any time you try to create a `Dog`, you will assign the data attributes of `name`, `age` and `weight` automatically.\n",
        "\n",
        "### Got it, but what about `self`?\n",
        "\n",
        "When you're working inside a class definition, `self` is what distinguishes the specific instantiation of the object from the class itself. For example, classes can also have class variables, which belong to all instances of the class. One such class variable for our `Dog` class could be `legs = 4`. If your poor dog encountered tragedy and you needed to amputate a paw, you might include a method in the `Dog` class called `amputate_paw()`. But you wouldn't want to reduce the number of legs shared by _all_ dogs: only your specific instantiation. The `amputate_paw()` function would then include something like `self.legs = legs - 1`.\n",
        "\n",
        "Technically, you don't have to use the word `self` to do this, Python will treat whatever the first argument is as the reference to the current instance. But this is another one of those conventions that border on unwritten Python law...you will surely confuse the community (and more than likely yourself) if you stray from using `self` to refer to the current instance.\n",
        "\n",
        "## Enough reading, let's code\n",
        "\n",
        "Ok, here's how you would create a simple `Car` class. Any guesses as to what the first word would be?"
      ],
      "metadata": {
        "id": "MN4fuv-W59hn"
      }
    },
    {
      "cell_type": "code",
      "source": [
        "class Car:\n",
        "    \"\"\"A 4-wheeled road vehicle\"\"\"\n",
        "    wheels = 4\n",
        "    \n",
        "    def __init__(self, model, color, doors=4, miles=0):\n",
        "        self.model = model\n",
        "        self.color = color\n",
        "        self.doors = doors\n",
        "        self.miles = miles\n",
        "\n",
        "    def repaint_car(self, new_color):\n",
        "        self.color = new_color\n",
        "    \n",
        "    def drive(self, num_miles):\n",
        "        self.miles += num_miles"
      ],
      "metadata": {
        "id": "Sl2Nvpxl0UwS"
      },
      "execution_count": 1,
      "outputs": []
    },
    {
      "cell_type": "markdown",
      "source": [
        "Notice that a class definition starts with the word `class`, and by convention, classes are defined in proper case. There are no `()`, just the name, followed by a colon `:`. \n",
        "\n",
        "The text in triple quotes `\"\"\"` is the _docstring_, a simple but useful description of what the class represents. If you forget a class specification and don't want to (or can't) scroll back up to the definition, you can use a builtin property called `__doc__` to return this docstring.\n",
        "\n",
        "`wheels` is a class variable, all cars have 4 wheels.\n",
        "\n",
        "Then we get to the all-important `__init__()`. You can see that we will automatically create four instance data attributes, including two that are optional (so they will be assigned default values if values are not given when we instantiate an object of the `Car` class). \n",
        "\n",
        "Lastly, there are two other methods: we can take the car to the shop and get it painted to a new color, and we can drive it an arbitrary number of miles.\n",
        "\n",
        "Let's say you wanted to represent your nifty Honda Civic. It's sky blue, brand new off the lot. By convention, objects are written in lowercase, like other variables."
      ],
      "metadata": {
        "id": "5KjcXkZU1uXd"
      }
    },
    {
      "cell_type": "code",
      "source": [
        "# Help! I forgot what a Car class is supposed to represent\n",
        "print(Car.__doc__)\n",
        "civic = Car('Honda Civic', 'Sky blue')\n",
        "print('The car has {} doors and {} miles on it.'.format(civic.doors, civic.miles))\n"
      ],
      "metadata": {
        "id": "C165QaJu5_48",
        "colab": {
          "base_uri": "https://localhost:8080/"
        },
        "outputId": "9d4e5b2a-f1c5-4ec1-b076-876924d7a69b"
      },
      "execution_count": 2,
      "outputs": [
        {
          "output_type": "stream",
          "name": "stdout",
          "text": [
            "A 4-wheeled road vehicle\n",
            "The car has 4 doors and 0 miles on it.\n"
          ]
        }
      ]
    },
    {
      "cell_type": "markdown",
      "source": [
        "Boom! Calling `Car(...)` is how we instantiate a new `Car` object. It calls the `__init__()` function of the `Car` class, and assigns initial values to our data attributes.\n",
        "\n",
        "Note that you can access instance data attributes of the `civic` object by using `civic.<attr>`. If you remember, Python expects the first argument of class methods to refer to the current instance, so every time the computer sees `self` in this case, it substitutes the reference for `civic`. You can also access class variables this way:"
      ],
      "metadata": {
        "id": "17ezsg3i7rDc"
      }
    },
    {
      "cell_type": "code",
      "source": [
        "print('My {} is a car, so it has {} wheels'.format(civic.model, civic.wheels))"
      ],
      "metadata": {
        "colab": {
          "base_uri": "https://localhost:8080/"
        },
        "id": "BT1cIwZQ8qm_",
        "outputId": "5e9ec479-8d65-422e-b797-27e3d527ae50"
      },
      "execution_count": 3,
      "outputs": [
        {
          "output_type": "stream",
          "name": "stdout",
          "text": [
            "My Honda Civic is a car, so it has 4 wheels\n"
          ]
        }
      ]
    },
    {
      "cell_type": "markdown",
      "source": [
        "How would we call some methods? Let's say we don't like sky blue after all, and we want to change our car to maraschino cherry. But the paint shop is 20 miles away. Then we'll get hungry, so we'll stop by McDonald's on our way home, for a return leg of 25 miles (we live in a pretty desolate town):"
      ],
      "metadata": {
        "id": "nvcVOXi-80ZG"
      }
    },
    {
      "cell_type": "code",
      "source": [
        "# Drive to paint shop\n",
        "civic.drive(20)\n",
        "# Get the paint job\n",
        "civic.repaint_car('maraschino cherry')\n",
        "print('Same Civic, new chic! I\\'m now {}, with {} on the odometer.'.format(civic.color, civic.miles))\n",
        "# Go back home, stopping by some McD's!\n",
        "civic.drive(25)\n",
        "print('Safe and sound, but how about that depreciation baby? {} on the clock!'.format(civic.miles))"
      ],
      "metadata": {
        "colab": {
          "base_uri": "https://localhost:8080/"
        },
        "id": "yBD9L_Bw91GJ",
        "outputId": "bcb09c90-773c-487b-f1b5-46081a12df8b"
      },
      "execution_count": 4,
      "outputs": [
        {
          "output_type": "stream",
          "name": "stdout",
          "text": [
            "Same Civic, new chic! I'm now maraschino cherry, with 20 on the odometer.\n",
            "Safe and sound, but how about that depreciation baby? 45 on the clock!\n"
          ]
        }
      ]
    },
    {
      "cell_type": "markdown",
      "source": [
        "### Not all Civics are alike, but you might think they are!\n",
        "\n",
        "One word of caution here...remember that `civic` is a variable that represents the `Car` object we created. Specifically, `civic` is a variable that holds a _reference_ (or \"pointer\") to the location in computer memory where the object is stored. **Objects can have multiple references**, meaning that something like `my_friends_civic = civic` does NOT create a \"copy\" of your Civic. Instead, it creates a second name for the _same_ object. Don't believe me? Take a look:"
      ],
      "metadata": {
        "id": "dDHrYo7q-OxL"
      }
    },
    {
      "cell_type": "code",
      "source": [
        "my_friends_civic = civic\n",
        "\n",
        "# He goes for a road trip!\n",
        "my_friends_civic.drive(150)\n",
        "# But what happened to mine?\n",
        "print('My FRIEND has {} miles on his car, \\\n",
        "but MY car has a much lower mileage, just {}!'.format(my_friends_civic.miles, civic.miles))\n"
      ],
      "metadata": {
        "colab": {
          "base_uri": "https://localhost:8080/"
        },
        "id": "Be9rw-Ru_7o2",
        "outputId": "a0393316-5b14-4e3c-b1b1-dc79efbd1c47"
      },
      "execution_count": 5,
      "outputs": [
        {
          "output_type": "stream",
          "name": "stdout",
          "text": [
            "My FRIEND has 195 miles on his car, but MY car has a much lower mileage, just 195!\n"
          ]
        }
      ]
    },
    {
      "cell_type": "markdown",
      "source": [
        "### One final note...your car can be special!\n",
        "\n",
        "Objects can have instance attributes assigned after their creation, just like other variables in Python. For example, let's say you wanted to include your license plate. You could also technically avoid the two methods we wrote, and just change the data attributes directly. Just follow the same syntax:"
      ],
      "metadata": {
        "id": "YeOu2urc6SHB"
      }
    },
    {
      "cell_type": "code",
      "source": [
        "civic.plate = '2C00L4U'\n",
        "\n",
        "print('Yes officer, my plate is {}'.format(civic.plate))\n",
        "\n",
        "# Cheat the odometer!!\n",
        "civic.miles = 0\n",
        "\n",
        "print('What do you mean used? My car has {} miles!'.format(civic.miles))\n",
        "\n",
        "print('That wasn\\'t me, it was my friend\\'s civic! My plate is {}'.format(my_friends_civic.plate))"
      ],
      "metadata": {
        "colab": {
          "base_uri": "https://localhost:8080/"
        },
        "id": "QNhJnZy86gB_",
        "outputId": "7b6ef849-435b-4586-8e1b-bba3a4088356"
      },
      "execution_count": 6,
      "outputs": [
        {
          "output_type": "stream",
          "name": "stdout",
          "text": [
            "Yes officer, my plate is 2C00L4U\n",
            "What do you mean used? My car has 0 miles!\n",
            "That wasn't me, it was my friend's civic! My plate is 2C00L4U\n"
          ]
        }
      ]
    },
    {
      "cell_type": "markdown",
      "source": [
        "Don't forget, objects are _stored_ in computer memory, and _referenced_ with variables. An object can have multiple references!\n",
        "\n",
        "For more on classes, check out the [documentation](https://docs.python.org/3/tutorial/classes.html).\n",
        "\n",
        "## Dictionaries\n",
        "\n",
        "What makes human language dictionaries useful? They work because we want to know some information (the definition) for a specific word. We don't know where that word falls if we were to alphabetize the entire language, we know the word itself. In other words (ha, punny), we want to know the definitional `value` associated with a certain `key` word.\n",
        "\n",
        "Python dictionaries, or `dict`s, work in the exact same way - they map `key`s to `value`s. Rather than having to keep track of numerical indices, all you have to do is ask the `dict` to find the given `key`. \n",
        "\n",
        "### Immutable keys, mutable values\n",
        "\n",
        "What does immutable mean? Not mutable, duh!\n",
        "\n",
        "Oh, what does mutable mean? A mutable data type is one whose value can be changed after it is created. For example, if I created the list `mylist = ['apples', 'oranges', 'bananas']`, and then I called `mylist.append('mangoes')`, I have _changed_ the value of `mylist` after creating it. In Python, `list`s are mutable. \n",
        "\n",
        "In contrast, `int`s are immutable. 5 is always 5, so if I do something like `x = 5`, followed by `x += 1`, I have simply _moved the pointer_ that `x` refers to from a location in memory representing 5, to a location in memory representing 6. The distinction is subtle, but important. Above, `mylist` pointed to a list object, and when we changed the list object, `mylist` stayed pointing at the object; it was the object itself that changed. On the other hand, when we did `x += 1`, the _reference_ of `x` itself is what changed, 5 is still 5. In Python, `int`s, `string`s, and `tuple`s (of `int`s, `string`s, or other `tuple`s) are immutable.\n",
        "\n",
        "So, all that to say: `dict`s need immutable keys, but can have mutable values. We create a dictionary by using curly braces `{ }`:"
      ],
      "metadata": {
        "id": "gfH81n3T7aPU"
      }
    },
    {
      "cell_type": "code",
      "source": [
        "friend_scores = {'John': 5,\n",
        "                 'Chris': 3,\n",
        "                 'Dave': 9,\n",
        "                 'Michael': 4}\n",
        "\n",
        "friend_scores['John']"
      ],
      "metadata": {
        "colab": {
          "base_uri": "https://localhost:8080/"
        },
        "id": "icqOUjH1BOqE",
        "outputId": "ab370cd0-0dd6-42f5-ce92-1337abeed1d9"
      },
      "execution_count": 7,
      "outputs": [
        {
          "output_type": "execute_result",
          "data": {
            "text/plain": [
              "5"
            ]
          },
          "metadata": {},
          "execution_count": 7
        }
      ]
    },
    {
      "cell_type": "markdown",
      "source": [
        "In our dictionary of `friend_scores` (how much we like our friends), the _keys_ are the friend names, and the _values_ are the scores. If we forget, we can access the keys of a dictionary with the `.keys()` method:"
      ],
      "metadata": {
        "id": "xpRPVUBYl77I"
      }
    },
    {
      "cell_type": "code",
      "source": [
        "friend_scores.keys()"
      ],
      "metadata": {
        "colab": {
          "base_uri": "https://localhost:8080/"
        },
        "id": "6llk6zvBmJaO",
        "outputId": "ac1d3068-e675-4c5c-a600-00ea864c50a9"
      },
      "execution_count": 10,
      "outputs": [
        {
          "output_type": "execute_result",
          "data": {
            "text/plain": [
              "dict_keys(['John', 'Chris', 'Dave', 'Michael'])"
            ]
          },
          "metadata": {},
          "execution_count": 10
        }
      ]
    },
    {
      "cell_type": "markdown",
      "source": [
        "We can check if our dictionary has a certain entry by asking if the _key_ is `in` the dictionary:"
      ],
      "metadata": {
        "id": "wRZKBbOemUNC"
      }
    },
    {
      "cell_type": "code",
      "source": [
        "print('John' in friend_scores)\n",
        "print('Darnell' in friend_scores)"
      ],
      "metadata": {
        "colab": {
          "base_uri": "https://localhost:8080/"
        },
        "id": "DggLgRysmTYb",
        "outputId": "085e65fd-05f5-4432-f1c4-aaa17d2acca7"
      },
      "execution_count": 11,
      "outputs": [
        {
          "output_type": "stream",
          "name": "stdout",
          "text": [
            "True\n",
            "False\n"
          ]
        }
      ]
    },
    {
      "cell_type": "markdown",
      "source": [
        "Trying to access a _value_ for a _key_ that doesn't exist throws an error, specifically a (rightly-named) `KeyError`:"
      ],
      "metadata": {
        "id": "VnD8Pio8mh68"
      }
    },
    {
      "cell_type": "code",
      "source": [
        "friend_scores['Darnell']"
      ],
      "metadata": {
        "colab": {
          "base_uri": "https://localhost:8080/",
          "height": 165
        },
        "id": "6Ooz9V8bmmGM",
        "outputId": "ff449a32-9c5a-4f79-9b96-93ec97fe5bd8"
      },
      "execution_count": 12,
      "outputs": [
        {
          "output_type": "error",
          "ename": "KeyError",
          "evalue": "ignored",
          "traceback": [
            "\u001b[0;31m---------------------------------------------------------------------------\u001b[0m",
            "\u001b[0;31mKeyError\u001b[0m                                  Traceback (most recent call last)",
            "\u001b[0;32m<ipython-input-12-3e0c67b3bdc6>\u001b[0m in \u001b[0;36m<module>\u001b[0;34m()\u001b[0m\n\u001b[0;32m----> 1\u001b[0;31m \u001b[0mfriend_scores\u001b[0m\u001b[0;34m[\u001b[0m\u001b[0;34m'Darnell'\u001b[0m\u001b[0;34m]\u001b[0m\u001b[0;34m\u001b[0m\u001b[0;34m\u001b[0m\u001b[0m\n\u001b[0m",
            "\u001b[0;31mKeyError\u001b[0m: 'Darnell'"
          ]
        }
      ]
    },
    {
      "cell_type": "markdown",
      "source": [
        "But we can easily add a new entry, let's say we became friends with Darnell and we like him 8 much:"
      ],
      "metadata": {
        "id": "dMBSJjbbnTlv"
      }
    },
    {
      "cell_type": "code",
      "source": [
        "friend_scores['Darnell'] = 8\n",
        "'Darnell' in friend_scores"
      ],
      "metadata": {
        "id": "cKGiNYfhBde8",
        "colab": {
          "base_uri": "https://localhost:8080/"
        },
        "outputId": "75c9912d-87a3-4989-90c7-bc87a5d0581c"
      },
      "execution_count": 13,
      "outputs": [
        {
          "output_type": "execute_result",
          "data": {
            "text/plain": [
              "True"
            ]
          },
          "metadata": {},
          "execution_count": 13
        }
      ]
    },
    {
      "cell_type": "markdown",
      "source": [
        "### Comprende?\n",
        "\n",
        "Just like we can use list comprehensions as a compact way to generate lists, e.g. `[i for i in range(10)]`, we can also use _dictionary comprehensions_ to succintly create a dictionary. If lists are defined with square brackets `[]`, and list comprehensions are contained within square brackets, and dictionaries are defined with curly braces `{}`, then...\n",
        "\n",
        "**dictionary comprehensions are contained within curly braces** `{}`:"
      ],
      "metadata": {
        "id": "ELCTAL-EmydA"
      }
    },
    {
      "cell_type": "code",
      "source": [
        "names = ['John', 'Chris', 'Dave']\n",
        "scores = [5, 3, 9]\n",
        "\n",
        "mydict = {name: score for name, score in zip(names, scores)}\n",
        "\n",
        "mydict"
      ],
      "metadata": {
        "colab": {
          "base_uri": "https://localhost:8080/"
        },
        "id": "NbH9seQ4Bcpd",
        "outputId": "b445e619-5279-4a78-d926-bc45dcace5bb"
      },
      "execution_count": 15,
      "outputs": [
        {
          "output_type": "execute_result",
          "data": {
            "text/plain": [
              "{'Chris': 3, 'Dave': 9, 'John': 5}"
            ]
          },
          "metadata": {},
          "execution_count": 15
        }
      ]
    },
    {
      "cell_type": "markdown",
      "source": [
        "#### Zip it!\n",
        "\n",
        "Note, the `zip()` function is a nifty way to create pairs (or more generally, tuples), from two or more sequences. It can also work in the other way, creating separate sequences from a sequence of tuples (there's no `unzip()` function...just like a real zipper, you unzip with `zip()`).\n",
        "\n",
        "Think you got it? Here's what `zip` did in the example above:"
      ],
      "metadata": {
        "id": "pS21GLpcnqAb"
      }
    },
    {
      "cell_type": "code",
      "source": [
        "tup_list = [tup for tup in zip(names, scores)]\n",
        "tup_list"
      ],
      "metadata": {
        "colab": {
          "base_uri": "https://localhost:8080/"
        },
        "id": "SnvAIa38oHYZ",
        "outputId": "e9246f53-0f71-4eb0-c086-c2b67b6d78dc"
      },
      "execution_count": 18,
      "outputs": [
        {
          "output_type": "execute_result",
          "data": {
            "text/plain": [
              "[('John', 5), ('Chris', 3), ('Dave', 9)]"
            ]
          },
          "metadata": {},
          "execution_count": 18
        }
      ]
    },
    {
      "cell_type": "markdown",
      "source": [
        "To \"unzip\" `tup_list` back into separate sequences of `names` and `scores`, we call `zip()` again, _almost_ identically:"
      ],
      "metadata": {
        "id": "AlQP9CxBoPzU"
      }
    },
    {
      "cell_type": "code",
      "source": [
        "names, scores = zip(*tup_list)\n",
        "\n",
        "print(names)\n",
        "print(scores)"
      ],
      "metadata": {
        "colab": {
          "base_uri": "https://localhost:8080/"
        },
        "id": "iINgvqVFoeFS",
        "outputId": "588fd62d-fc31-44ca-b1d9-af9a111ee984"
      },
      "execution_count": 27,
      "outputs": [
        {
          "output_type": "stream",
          "name": "stdout",
          "text": [
            "('John', 'Chris', 'Dave')\n",
            "(5, 3, 9)\n"
          ]
        }
      ]
    },
    {
      "cell_type": "markdown",
      "source": [
        "For the interested reader, the asterisk `*` as used here is known as the **unpacking operator**. Have fun looking that up, there's even a double-asterisk `**`!\n",
        "\n",
        "### Listful Thinking\n",
        "\n",
        "Like we said before, dictionaries can have mutable values. Those values could even be lists, which are accessed like normal. Let's say we were gathering up a record of our friends' favorite foods:"
      ],
      "metadata": {
        "id": "xucJFFyupOAo"
      }
    },
    {
      "cell_type": "code",
      "source": [
        "friend_foods = {'John': ['burgers', 'hot dogs'],\n",
        "                'Chris': ['pizza', 'pasta']}"
      ],
      "metadata": {
        "id": "I5-7yUd9BlGi"
      },
      "execution_count": 37,
      "outputs": []
    },
    {
      "cell_type": "code",
      "source": [
        "friend_foods['John'][1]"
      ],
      "metadata": {
        "colab": {
          "base_uri": "https://localhost:8080/",
          "height": 35
        },
        "id": "BMqJerGUB3Ai",
        "outputId": "feb71530-ecfe-407c-a2d5-d838bf31e0e7"
      },
      "execution_count": 30,
      "outputs": [
        {
          "output_type": "execute_result",
          "data": {
            "text/plain": [
              "'hot dogs'"
            ],
            "application/vnd.google.colaboratory.intrinsic+json": {
              "type": "string"
            }
          },
          "metadata": {},
          "execution_count": 30
        }
      ]
    },
    {
      "cell_type": "markdown",
      "source": [
        "However, one thing you can't do is use the \"combined\" indexing method like you can with 2d numpy arrays. In this case, Python thinks you're trying to look for a _key_ that is a _tuple_. How do I know? Because we get a `KeyError`!"
      ],
      "metadata": {
        "id": "sWSTW0drpr_V"
      }
    },
    {
      "cell_type": "code",
      "source": [
        "friend_foods['John', 1]"
      ],
      "metadata": {
        "colab": {
          "base_uri": "https://localhost:8080/",
          "height": 165
        },
        "id": "7jWWMry1B8PC",
        "outputId": "f392eac2-74d8-4f1b-ce96-2756392b168f"
      },
      "execution_count": 31,
      "outputs": [
        {
          "output_type": "error",
          "ename": "KeyError",
          "evalue": "ignored",
          "traceback": [
            "\u001b[0;31m---------------------------------------------------------------------------\u001b[0m",
            "\u001b[0;31mKeyError\u001b[0m                                  Traceback (most recent call last)",
            "\u001b[0;32m<ipython-input-31-05c3a3fdc91b>\u001b[0m in \u001b[0;36m<module>\u001b[0;34m()\u001b[0m\n\u001b[0;32m----> 1\u001b[0;31m \u001b[0mfriend_foods\u001b[0m\u001b[0;34m[\u001b[0m\u001b[0;34m'John'\u001b[0m\u001b[0;34m,\u001b[0m \u001b[0;36m1\u001b[0m\u001b[0;34m]\u001b[0m\u001b[0;34m\u001b[0m\u001b[0;34m\u001b[0m\u001b[0m\n\u001b[0m",
            "\u001b[0;31mKeyError\u001b[0m: ('John', 1)"
          ]
        }
      ]
    },
    {
      "cell_type": "markdown",
      "source": [
        "### Time to go...\n",
        "\n",
        "Lastly, there are a few different methods to remove entries from a dictionary. The first question is: **do you want to do something with the entry you're about to delete?** If yes, then there are methods that will delete the entry, _and return_ the entry to you. If you just want it gone, there are methods to do that too.\n",
        "\n",
        "Here are some of the more common methods:\n",
        "* `clear()`: removes all items (does not return anything)\n",
        "* `del mydict[a:b]`: removes an item or multiple items, specified by an _index_ or a _slice_ (does not return anything)\n",
        "* `pop()`: removes an item, specified by _key_, and returns the _value_\n",
        "* `popitem()`: removes **the item that was last inserted**, and returns **both** the _key_ and the _value_\n",
        "\n",
        "Example time:"
      ],
      "metadata": {
        "id": "rjeSoGRQqNRM"
      }
    },
    {
      "cell_type": "code",
      "source": [
        "# Tell John his favorite foods are useless - \n",
        "# delete him until he comes up with new favorite foods \n",
        "# and show him the disgusting choices he originally had:\n",
        "\n",
        "print(friend_foods)\n",
        "\n",
        "bad_friend = 'John'\n",
        "banished_foods = friend_foods.pop(bad_friend)\n",
        "\n",
        "print('\\nUnacceptable {}!! You will be banished for liking {}, come back when you have better taste!\\n'.format(bad_friend, banished_foods))\n",
        "\n",
        "print(friend_foods)\n",
        "\n",
        "# Restore the dictionary so that we can run this cell repeatedly\n",
        "friend_foods[bad_friend] = banished_foods"
      ],
      "metadata": {
        "colab": {
          "base_uri": "https://localhost:8080/"
        },
        "id": "Mxl3h7sIrNgf",
        "outputId": "6e25ef8e-b588-41d6-c6fe-a729940c4e84"
      },
      "execution_count": 40,
      "outputs": [
        {
          "output_type": "stream",
          "name": "stdout",
          "text": [
            "{'Chris': ['pizza', 'pasta'], 'John': ['burgers', 'hot dogs']}\n",
            "\n",
            "Unacceptable John!! You will be banished for liking ['burgers', 'hot dogs'], come back when you have better taste!\n",
            "\n",
            "{'Chris': ['pizza', 'pasta']}\n"
          ]
        }
      ]
    },
    {
      "cell_type": "code",
      "source": [
        "# Banish a random friend, and display what they liked!\n",
        "\n",
        "banished_entry = friend_foods.popitem()\n",
        "\n",
        "print('Guess who is the most recently updated friend? This one: {}!!'.format(banished_entry))\n",
        "\n",
        "# Restore the dictionary so that we can run this cell repeatedly\n",
        "k, v = banished_entry\n",
        "\n",
        "friend_foods[k] = v"
      ],
      "metadata": {
        "colab": {
          "base_uri": "https://localhost:8080/"
        },
        "id": "KGR5ITi6rv-O",
        "outputId": "51da7756-853d-4975-fb58-5493f35d4e3d"
      },
      "execution_count": 55,
      "outputs": [
        {
          "output_type": "stream",
          "name": "stdout",
          "text": [
            "Guess who is the most recently updated friend? This one: ('John', ['burgers', 'hot dogs'])!!\n"
          ]
        }
      ]
    },
    {
      "cell_type": "code",
      "source": [
        "# No more friends!\n",
        "\n",
        "friend_foods.clear()\n",
        "\n",
        "print(friend_foods)"
      ],
      "metadata": {
        "colab": {
          "base_uri": "https://localhost:8080/"
        },
        "id": "Tsi3f8ePtUja",
        "outputId": "b1008187-8edb-45d4-f2ba-8eee1ba12b6c"
      },
      "execution_count": 56,
      "outputs": [
        {
          "output_type": "stream",
          "name": "stdout",
          "text": [
            "{}\n"
          ]
        }
      ]
    }
  ]
}