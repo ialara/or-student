{
  "nbformat": 4,
  "nbformat_minor": 0,
  "metadata": {
    "colab": {
      "name": "Population Sim 1.ipynb",
      "provenance": [],
      "authorship_tag": "ABX9TyOSPRNw/of34bcB8LWjG+il",
      "include_colab_link": true
    },
    "kernelspec": {
      "name": "python3",
      "display_name": "Python 3"
    },
    "language_info": {
      "name": "python"
    }
  },
  "cells": [
    {
      "cell_type": "markdown",
      "metadata": {
        "id": "view-in-github",
        "colab_type": "text"
      },
      "source": [
        "<a href=\"https://colab.research.google.com/github/ialara/or-student/blob/main/Population_Sim_1.ipynb\" target=\"_parent\"><img src=\"https://colab.research.google.com/assets/colab-badge.svg\" alt=\"Open In Colab\"/></a>"
      ]
    },
    {
      "cell_type": "code",
      "execution_count": null,
      "metadata": {
        "id": "U2MMr1jcuG12"
      },
      "outputs": [],
      "source": [
        "# Sim #1 Simple population model\n",
        "#Constants\n",
        "growth_factor = 1.00005\n",
        "\n",
        "#Varible initialization\n",
        "daily_population = 50\n",
        "day = 0\n",
        "year = 0\n",
        "\n",
        "while daily_population < 1000000:\n",
        "  daily_population *= growth_factor\n",
        "  day += 1\n",
        "  if day == 365:\n",
        "    print('Year: %3d, Population: %7.1f' % (year, daily_population))\n",
        "    day = 0\n",
        "    year += 1\n",
        "print('Year: %3d, Day:  %3d, Population: %7.1f' % (year, day, daily_population))"
      ]
    }
  ]
}