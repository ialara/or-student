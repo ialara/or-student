{
  "nbformat": 4,
  "nbformat_minor": 0,
  "metadata": {
    "colab": {
      "name": "Homework_4_Questions.ipynb",
      "provenance": [],
      "collapsed_sections": [],
      "include_colab_link": true
    },
    "kernelspec": {
      "name": "python3",
      "display_name": "Python 3"
    },
    "language_info": {
      "name": "python"
    }
  },
  "cells": [
    {
      "cell_type": "markdown",
      "metadata": {
        "id": "view-in-github",
        "colab_type": "text"
      },
      "source": [
        "<a href=\"https://colab.research.google.com/github/ialara/or-student/blob/main/Homework%204/Homework_4_Questions.ipynb\" target=\"_parent\"><img src=\"https://colab.research.google.com/assets/colab-badge.svg\" alt=\"Open In Colab\"/></a>"
      ]
    },
    {
      "cell_type": "markdown",
      "source": [
        "# SIMULATION HOMEWORK 4\n",
        "\n",
        "## Due: To Nacho on Monday, June 6, 2022\n",
        "\n",
        "## Name: **Your name here**\n",
        "\n",
        "## Overall score: **??** / 35 pts"
      ],
      "metadata": {
        "id": "WUZYZOak1nrM"
      }
    },
    {
      "cell_type": "markdown",
      "source": [
        "This homework will be a little different from the other three.  You job will be to recreate the figures in the *Non-Monotonicity, Chaos, and Combat Modeling* and *A Study of Non-Monotonicity and Randomnes in Combat Models*.  Modify as needed the code below that I showed in class for each of the problems. Provide your code with each problem, discuss what you changed, and the result."
      ],
      "metadata": {
        "id": "Ap2m-MsjDuX5"
      }
    },
    {
      "cell_type": "markdown",
      "source": [
        "#### 1.\t[5 points] Recreate Figure 3 from *Non-Monotonicity, Chaos, and Combat Modeling*.  Note that the parameters for their figures are given in Table B.1 on page 52. Make sure the increments in initial force strengths are 10 (not 1 or prepare for a loooong wait). Even with increments of 10, it took about 15 minutes on my computer to calculate all of the points. Use a circular marker with size 1 in your plot so you can see the monotonicities."
      ],
      "metadata": {
        "id": "dWa4DHKk1xY7"
      }
    },
    {
      "cell_type": "markdown",
      "source": [
        "Put description of changes here."
      ],
      "metadata": {
        "id": "wQZU7ts-FXHg"
      }
    },
    {
      "cell_type": "code",
      "source": [
        "Put code and results here"
      ],
      "metadata": {
        "id": "qiDirl6p4_Vh"
      },
      "execution_count": null,
      "outputs": []
    },
    {
      "cell_type": "markdown",
      "source": [
        "The following table summarizes the parameter variations for figures 1-6 in *A Study of Non-Monotonicity and Randomness in Combat Models*.\n",
        "\n",
        "| Parameter | Figure 1  | Figure 2 | Figure 3 | Figure 4 | Figure 5 | Figure 6 |\n",
        "| --------  | -------- | -------- | -------- | -------- | -------- | ------ |\n",
        "| Red force ratio reinforcement threshold | 2.5 | $U(2.375, 2.625)$ | $U(2, 3)$ | 2.5 | 2.5 | $U(2, 3)$ |\n",
        "| Red force strength reinforcement threshold | 0.8 | $U(0.76, 0.84)$ | $U(0.64, 0.96)$ | 0.8 | 0.8 | $U(0.64, 0.96)$ |\n",
        "| Blue force ratio reinforcement threshold | 4 | $U(3.8, 4.2)$ | $U(3.2, 4.8)$ | 4 | 4 | $U(3.2, 4.8)$ |\n",
        "| Blue force strength reinforcement threshold | 0.8 | $U(0.76, 0.84)$ | $U(0.64, 0.96)$ | 0.8 | 0.8 | $U(0.64, 0.96)$ |\n",
        "| Red force ratio withdraw threshold | 1.5 | $U(1.425, 1.575)$ | $U(1.2, 1.8)$ | 1.5 | 1.5 | $U(1.2, 1.8)$ |\n",
        "| Red force strength withdraw threshold | 0.7 | $U(0.665, 0.735)$ | $U(0.56, 0.84)$ | 0.7 | 0.7 | $U(0.56, 0.84)$ |\n",
        "| Blue force ratio withdraw threshold | 10 | $U(9.5, 10.5)$ | $U(8, 12)$ | 10 | 10 | $U(8, 12)$ |\n",
        "| Blue force strength withdraw threshold | 0.7 | $U(0.665, 0.735)$ | $U(0.56, 0.84)$ | 0.7 | 0.7 | $U(0.56, 0.84)$ |\n",
        "| Red attrition factor threshold | 2048 | 2048 | 2048 | $N(2048, 4.525)$ | $N(2048, 45.255)$ | $N(2048, 45.255)$ |\n",
        "| Blue attrition factor threshold | 512 | 512 | 512 | $N(512, 2.263)$ | $N(512, 22.627)$ | $N(512, 22.627)$ |\n",
        "\n",
        "Replicate Figure 1-6 from Tom Lucas’ A Study of Non-Monotonicity and Randomness in Combat Models.  The initial blue forces are 500.  The initial red forces vary from 500 to 3,000 in steps of 10. To reduce the time required to produce these plots from “crazy long” to just “very long,” use 100 replications rather than the 1,000 that Tom used. Use the values or distributions for the parameters associated with each figure as give in the table below. Your figures, of course, will have greater variance, but should have an overall trend that replicates his figures, except for figure 5.  I don’t know how he got that figure, but my calculations yield something different.  Caution!  It took me between 30 and 60 minutes to create each of these figures.  So, after you hit the “run” button, do OJT, answer email, talk to your family or friends, check your social media, put on a good movie, etc."
      ],
      "metadata": {
        "id": "DwUXxqJp5Cwz"
      }
    },
    {
      "cell_type": "markdown",
      "source": [
        "#### 2.\t[5 points] Recreate Figure 1."
      ],
      "metadata": {
        "id": "gZEqxBg2PK_h"
      }
    },
    {
      "cell_type": "markdown",
      "source": [
        "Put description of changes here."
      ],
      "metadata": {
        "id": "hd6MksSQPCsV"
      }
    },
    {
      "cell_type": "code",
      "source": [
        "Put code and results here"
      ],
      "metadata": {
        "id": "YfJHzR_o5HMw"
      },
      "execution_count": null,
      "outputs": []
    },
    {
      "cell_type": "markdown",
      "source": [
        "#### 3. [5 points] Recreate Figure 2."
      ],
      "metadata": {
        "id": "3LskwyqHXKn0"
      }
    },
    {
      "cell_type": "markdown",
      "source": [
        "Put description of changes here."
      ],
      "metadata": {
        "id": "kK7bY65cW7UB"
      }
    },
    {
      "cell_type": "code",
      "source": [
        "Put code and results here"
      ],
      "metadata": {
        "id": "Ofprf4XgWyHO"
      },
      "execution_count": null,
      "outputs": []
    },
    {
      "cell_type": "markdown",
      "source": [
        "#### 4. [5 points] Recreate Figure 3."
      ],
      "metadata": {
        "id": "UHi_RzRsXOOX"
      }
    },
    {
      "cell_type": "markdown",
      "source": [
        "Put description of changes here."
      ],
      "metadata": {
        "id": "ZU2ecL4sW6x9"
      }
    },
    {
      "cell_type": "code",
      "source": [
        "Put code and results here"
      ],
      "metadata": {
        "id": "KhzioKwNWx7e"
      },
      "execution_count": null,
      "outputs": []
    },
    {
      "cell_type": "markdown",
      "source": [
        "#### 5. [5 points] Recreate Figure 4."
      ],
      "metadata": {
        "id": "d2UPCA6hXTSC"
      }
    },
    {
      "cell_type": "markdown",
      "source": [
        "Put description of changes here."
      ],
      "metadata": {
        "id": "JtkL7QRmW6g-"
      }
    },
    {
      "cell_type": "code",
      "source": [
        "Put code and results here"
      ],
      "metadata": {
        "id": "w_EkBnliWu6e"
      },
      "execution_count": null,
      "outputs": []
    },
    {
      "cell_type": "markdown",
      "source": [
        "#### 6. [5 points] Recreate Figure 5."
      ],
      "metadata": {
        "id": "gtmTFGe6Xb0k"
      }
    },
    {
      "cell_type": "markdown",
      "source": [
        "Put description of changes here."
      ],
      "metadata": {
        "id": "bZBn2ewBW6P1"
      }
    },
    {
      "cell_type": "code",
      "source": [
        "Put code and results here"
      ],
      "metadata": {
        "id": "qTo9GrJgWte1"
      },
      "execution_count": null,
      "outputs": []
    },
    {
      "cell_type": "markdown",
      "source": [
        "#### 7. [5 points] Recreate Figure 6."
      ],
      "metadata": {
        "id": "oLwP_KhkXe3f"
      }
    },
    {
      "cell_type": "markdown",
      "source": [
        "Put description of changes here."
      ],
      "metadata": {
        "id": "Z4G7heWJW56m"
      }
    },
    {
      "cell_type": "code",
      "source": [
        "Put code and results here"
      ],
      "metadata": {
        "id": "6jdfYzoeWtL5"
      },
      "execution_count": null,
      "outputs": []
    }
  ]
}