{
  "nbformat": 4,
  "nbformat_minor": 0,
  "metadata": {
    "colab": {
      "name": "Copy of Homework_4_Questions.ipynb",
      "provenance": [],
      "collapsed_sections": [],
      "include_colab_link": true
    },
    "kernelspec": {
      "name": "python3",
      "display_name": "Python 3"
    },
    "language_info": {
      "name": "python"
    }
  },
  "cells": [
    {
      "cell_type": "markdown",
      "metadata": {
        "id": "view-in-github",
        "colab_type": "text"
      },
      "source": [
        "<a href=\"https://colab.research.google.com/github/ialara/or-student/blob/main/Homework%204/HW_4_Solutions_nacho.ipynb\" target=\"_parent\"><img src=\"https://colab.research.google.com/assets/colab-badge.svg\" alt=\"Open In Colab\"/></a>"
      ]
    },
    {
      "cell_type": "markdown",
      "source": [
        "# SIMULATION HOMEWORK 4\n",
        "\n",
        "## Due: To Nacho on Monday, June 6, 2022\n",
        "\n",
        "## Name: **Answer Key**\n",
        "\n",
        "## Overall score: **??** / 35 pts"
      ],
      "metadata": {
        "id": "WUZYZOak1nrM"
      }
    },
    {
      "cell_type": "markdown",
      "source": [
        "This homework will be a little different from the other three.  You job will be to recreate the figures in the *Non-Monotonicity, Chaos, and Combat Modeling* and *A Study of Non-Monotonicity and Randomnes in Combat Models*.  Modify as needed the code below that I showed in class for each of the problems. Provide your code with each problem, discuss what you changed, and the result.\n",
        "\n",
        "## Nacho's notes\n",
        "* The changes are always made inside the `one_*_battle()` functions. The plotting code is the same for each of the Lucas figures.\n",
        "* Each figure (really each call to `find_blue_win_probs()`) took me about 1.5 - 6.5 minutes to generate. The later figures (with more randomness) took closer to 6.5; the earlier took closer to 1.5.\n",
        "* Any time you see `np.abs(i-1)`, I'm using it to refer to the \"other\" side. That math turns `0 -> 1` and `1 -> 0`.\n",
        "* I developed this code independently from Bart's version; I use dictionaries. Nonetheless, I'm providing this as an alternative formulation, and it is the code I used to compare my graphs against yours :)."
      ],
      "metadata": {
        "id": "Ap2m-MsjDuX5"
      }
    },
    {
      "cell_type": "markdown",
      "source": [
        "#### 1.\t[5 points] Recreate Figure 3 from *Non-Monotonicity, Chaos, and Combat Modeling*.  Note that the parameters for their figures are given in Table B.1 on page 52. Make sure the increments in initial force strengths are 10 (not 1 or prepare for a loooong wait). Even with increments of 10, it took about 15 minutes on my computer to calculate all of the points. Use a circular marker with size 1 in your plot so you can see the monotonicities."
      ],
      "metadata": {
        "id": "dWa4DHKk1xY7"
      }
    },
    {
      "cell_type": "markdown",
      "source": [
        "Put description of changes here."
      ],
      "metadata": {
        "id": "wQZU7ts-FXHg"
      }
    },
    {
      "cell_type": "code",
      "source": [
        "import numpy as np\n",
        "import matplotlib.pyplot as plt"
      ],
      "metadata": {
        "id": "Md4cgDbQGByj"
      },
      "execution_count": 1,
      "outputs": []
    },
    {
      "cell_type": "code",
      "source": [
        "## Parameters\n",
        "r0 = 2000\n",
        "b0 = 839\n",
        "\n",
        "b_attrit_coef = 1/2048\n",
        "r_attrit_coef = 1/512\n",
        "\n",
        "b_reinf_fr = 4\n",
        "r_reinf_fr = 2.5\n",
        "b_reinf_pct = 0.8\n",
        "r_reinf_pct = 0.8\n",
        "\n",
        "reinf_size = 300\n",
        "reinf_batches = 5\n",
        "reinf_delay = 70\n",
        "\n",
        "b_withdraw_fr = 10\n",
        "r_withdraw_fr = 1.5\n",
        "b_withdraw_pct = 0.7\n",
        "r_withdraw_pct = 0.7\n",
        "\n",
        "\n",
        "def threshold_exceeded(fr, pct, fr_thresh, pct_thresh, is_max = False):\n",
        "    if is_max: # x >= y equivalent to -x <= -y\n",
        "        fr *= -1\n",
        "        fr_thresh *= -1\n",
        "\n",
        "    return fr <= fr_thresh or pct < pct_thresh\n",
        "\n",
        "def reinfs_pending(d):\n",
        "    return 'reinfs_arrive' in d\n",
        "\n",
        "\n",
        "\n",
        "\n",
        "def one_battle(r0=r0, b0=b0):\n",
        "    red = {'init_strength': r0,\n",
        "       'attrit_coef': r_attrit_coef,\n",
        "       'reinf_fr': r_reinf_fr,\n",
        "       'reinf_pct': r_reinf_pct,\n",
        "       'reinf_size': reinf_size,\n",
        "       'reinf_batches': reinf_batches,\n",
        "       'reinf_delay': reinf_delay,\n",
        "       'withdraw_fr': r_withdraw_fr,\n",
        "       'withdraw_pct': r_withdraw_pct}\n",
        "\n",
        "    blue = {'init_strength': b0,\n",
        "       'attrit_coef': b_attrit_coef,\n",
        "       'reinf_fr': b_reinf_fr,\n",
        "       'reinf_pct': b_reinf_pct,\n",
        "       'reinf_size': reinf_size,\n",
        "       'reinf_batches': reinf_batches,\n",
        "       'reinf_delay': reinf_delay,\n",
        "       'withdraw_fr': b_withdraw_fr,\n",
        "       'withdraw_pct': b_withdraw_pct}\n",
        "\n",
        "    sides = np.array([red, blue])\n",
        "    period = 0\n",
        "    battle_ongoing = True\n",
        "    for s in sides:\n",
        "        s['curr_strength'] = s['init_strength']\n",
        "    ## Paper describes order:\n",
        "    ## Call for reinforcements > Reinforce units > Check for withdrawal > Attrit\n",
        "    while battle_ongoing:\n",
        "        fr_red_to_blue = sides[0]['curr_strength'] / sides[1]['curr_strength']\n",
        "        for i, s in enumerate(sides):\n",
        "            pct = s['curr_strength']/s['init_strength']\n",
        "            ## Determine if reinforcements are needed\n",
        "            if s['reinf_batches'] > 0 and not reinfs_pending(s) and \\\n",
        "                    threshold_exceeded(fr_red_to_blue, pct, s['reinf_fr'], \n",
        "                                       s['reinf_pct'], is_max = i):\n",
        "                s['reinf_batches'] -= 1\n",
        "                s['reinfs_arrive'] = period + s['reinf_delay']\n",
        "                assert reinfs_pending(s), 'Reinforcements are not pending'\n",
        "\n",
        "            ## Add reinforcements\n",
        "            if reinfs_pending(s) and period >= s['reinfs_arrive']:\n",
        "                s['curr_strength'] += s['reinf_size']\n",
        "                del s['reinfs_arrive']\n",
        "                assert not reinfs_pending(s), 'Reinforcements are still pending'\n",
        "\n",
        "            ## Check for withdrawal\n",
        "            if threshold_exceeded(fr_red_to_blue, pct, s['withdraw_fr'], \n",
        "                                  s['withdraw_pct'], is_max=i):\n",
        "                battle_ongoing = False\n",
        "                loser = i\n",
        "                break\n",
        "            \n",
        "            ## Attrit\n",
        "            if battle_ongoing:\n",
        "                s['curr_strength'] -= s['attrit_coef']*sides[np.abs(i-1)]['curr_strength'] # 1 -> 0; 0 -> 1\n",
        "\n",
        "        period += 1\n",
        "\n",
        "    return loser\n",
        "\n",
        "one_battle(2000)\n",
        "        \n"
      ],
      "metadata": {
        "id": "qiDirl6p4_Vh",
        "colab": {
          "base_uri": "https://localhost:8080/"
        },
        "outputId": "e9424ef6-4a8a-4806-cd48-a2f984490c44"
      },
      "execution_count": 2,
      "outputs": [
        {
          "output_type": "execute_result",
          "data": {
            "text/plain": [
              "0"
            ]
          },
          "metadata": {},
          "execution_count": 2
        }
      ]
    },
    {
      "cell_type": "code",
      "source": [
        "r0s = np.arange(10, 2851, 10)\n",
        "b0s = np.arange(10, 1001, 10)\n",
        "\n",
        "# Combinations where red wins\n",
        "rs, bs = zip(*[(r0, b0) for r0 in r0s for b0 in b0s if one_battle(r0, b0) == 1])\n",
        "\n",
        "fig, ax = plt.subplots()\n",
        "\n",
        "ax.plot(rs, bs, 'or', markersize=1, label='Red wins')\n",
        "ax.set_xlabel(r'$R_0$')\n",
        "ax.set_ylabel(r'$B_0$')\n",
        "\n",
        "fig.legend() \n",
        "fig.show()"
      ],
      "metadata": {
        "colab": {
          "base_uri": "https://localhost:8080/",
          "height": 313
        },
        "id": "pwCCq-czOecw",
        "outputId": "2723fc9e-7eea-4c9b-b40b-410cb66c8841"
      },
      "execution_count": 3,
      "outputs": [
        {
          "output_type": "display_data",
          "data": {
            "text/plain": [
              "<Figure size 432x288 with 1 Axes>"
            ],
            "image/png": "[encoded data removed]"
          },
          "metadata": {
            "needs_background": "light"
          }
        }
      ]
    },
    {
      "cell_type": "markdown",
      "source": [
        "The following table summarizes the parameter variations for figures 1-6 in *A Study of Non-Monotonicity and Randomness in Combat Models*.\n",
        "\n",
        "| Parameter | Figure 1  | Figure 2 | Figure 3 | Figure 4 | Figure 5 | Figure 6 |\n",
        "| --------  | -------- | -------- | -------- | -------- | -------- | ------ |\n",
        "| Red force ratio reinforcement threshold | 2.5 | $U(2.375, 2.625)$ | $U(2, 3)$ | 2.5 | 2.5 | $U(2, 3)$ |\n",
        "| Red force strength reinforcement threshold | 0.8 | $U(0.76, 0.84)$ | $U(0.64, 0.96)$ | 0.8 | 0.8 | $U(0.64, 0.96)$ |\n",
        "| Blue force ratio reinforcement threshold | 4 | $U(3.8, 4.2)$ | $U(3.2, 4.8)$ | 4 | 4 | $U(3.2, 4.8)$ |\n",
        "| Blue force strength reinforcement threshold | 0.8 | $U(0.76, 0.84)$ | $U(0.64, 0.96)$ | 0.8 | 0.8 | $U(0.64, 0.96)$ |\n",
        "| Red force ratio withdraw threshold | 1.5 | $U(1.425, 1.575)$ | $U(1.2, 1.8)$ | 1.5 | 1.5 | $U(1.2, 1.8)$ |\n",
        "| Red force strength withdraw threshold | 0.7 | $U(0.665, 0.735)$ | $U(0.56, 0.84)$ | 0.7 | 0.7 | $U(0.56, 0.84)$ |\n",
        "| Blue force ratio withdraw threshold | 10 | $U(9.5, 10.5)$ | $U(8, 12)$ | 10 | 10 | $U(8, 12)$ |\n",
        "| Blue force strength withdraw threshold | 0.7 | $U(0.665, 0.735)$ | $U(0.56, 0.84)$ | 0.7 | 0.7 | $U(0.56, 0.84)$ |\n",
        "| Red attrition factor threshold | 2048 | 2048 | 2048 | $N(2048, 4.525)$ | $N(2048, 45.255)$ | $N(2048, 45.255)$ |\n",
        "| Blue attrition factor threshold | 512 | 512 | 512 | $N(512, 2.263)$ | $N(512, 22.627)$ | $N(512, 22.627)$ |\n",
        "\n",
        "Replicate Figure 1-6 from Tom Lucas’ A Study of Non-Monotonicity and Randomness in Combat Models.  The initial blue forces are 500.  The initial red forces vary from 500 to 3,000 in steps of 10. To reduce the time required to produce these plots from “crazy long” to just “very long,” use 100 replications rather than the 1,000 that Tom used. Use the values or distributions for the parameters associated with each figure as give in the table below. Your figures, of course, will have greater variance, but should have an overall trend that replicates his figures, except for figure 5.  I don’t know how he got that figure, but my calculations yield something different.  Caution!  It took me between 30 and 60 minutes to create each of these figures.  So, after you hit the “run” button, do OJT, answer email, talk to your family or friends, check your social media, put on a good movie, etc."
      ],
      "metadata": {
        "id": "DwUXxqJp5Cwz"
      }
    },
    {
      "cell_type": "markdown",
      "source": [
        "#### 2.\t[5 points] Recreate Figure 1."
      ],
      "metadata": {
        "id": "gZEqxBg2PK_h"
      }
    },
    {
      "cell_type": "markdown",
      "source": [
        "Put description of changes here."
      ],
      "metadata": {
        "id": "hd6MksSQPCsV"
      }
    },
    {
      "cell_type": "code",
      "source": [
        "## Parameters\n",
        "r0 = 2000\n",
        "b0 = 839\n",
        "\n",
        "b_attrit_coef = 1/2048\n",
        "r_attrit_coef = 1/512\n",
        "\n",
        "b_reinf_fr = 4\n",
        "r_reinf_fr = 2.5\n",
        "b_reinf_pct = 0.8\n",
        "r_reinf_pct = 0.8\n",
        "\n",
        "reinf_size = 300\n",
        "reinf_batches = 5\n",
        "reinf_delay = 70\n",
        "\n",
        "b_withdraw_fr = 10\n",
        "r_withdraw_fr = 1.5\n",
        "b_withdraw_pct = 0.7\n",
        "r_withdraw_pct = 0.7\n",
        "\n",
        "def one_battle(r0=r0, b0=b0):\n",
        "    red = {'init_strength': r0,\n",
        "       'attrit_coef': r_attrit_coef,\n",
        "       'reinf_fr': r_reinf_fr,\n",
        "       'reinf_pct': r_reinf_pct,\n",
        "       'reinf_size': reinf_size,\n",
        "       'reinf_batches': reinf_batches,\n",
        "       'reinf_delay': reinf_delay,\n",
        "       'withdraw_fr': r_withdraw_fr,\n",
        "       'withdraw_pct': r_withdraw_pct}\n",
        "\n",
        "    blue = {'init_strength': b0,\n",
        "       'attrit_coef': b_attrit_coef,\n",
        "       'reinf_fr': b_reinf_fr,\n",
        "       'reinf_pct': b_reinf_pct,\n",
        "       'reinf_size': reinf_size,\n",
        "       'reinf_batches': reinf_batches,\n",
        "       'reinf_delay': reinf_delay,\n",
        "       'withdraw_fr': b_withdraw_fr,\n",
        "       'withdraw_pct': b_withdraw_pct}\n",
        "\n",
        "    sides = np.array([red, blue])\n",
        "    period = 0\n",
        "    battle_ongoing = True\n",
        "    for s in sides:\n",
        "        s['curr_strength'] = s['init_strength']\n",
        "    ## Paper describes order:\n",
        "    ## Call for reinforcements > Reinforce units > Check for withdrawal > Attrit\n",
        "    while battle_ongoing:\n",
        "        fr_red_to_blue = sides[0]['curr_strength'] / sides[1]['curr_strength']\n",
        "        for i, s in enumerate(sides):\n",
        "            pct = s['curr_strength']/s['init_strength']\n",
        "            ## Determine if reinforcements are needed\n",
        "            if s['reinf_batches'] > 0 and not reinfs_pending(s) and \\\n",
        "                    threshold_exceeded(fr_red_to_blue, pct, s['reinf_fr'], \n",
        "                                       s['reinf_pct'], is_max = i):\n",
        "                s['reinf_batches'] -= 1\n",
        "                s['reinfs_arrive'] = period + s['reinf_delay']\n",
        "                assert reinfs_pending(s), 'Reinforcements are not pending'\n",
        "\n",
        "            ## Add reinforcements\n",
        "            if reinfs_pending(s) and period >= s['reinfs_arrive']:\n",
        "                s['curr_strength'] += s['reinf_size']\n",
        "                del s['reinfs_arrive']\n",
        "                assert not reinfs_pending(s), 'Reinforcements are still pending'\n",
        "\n",
        "            ## Check for withdrawal\n",
        "            if threshold_exceeded(fr_red_to_blue, pct, s['withdraw_fr'], \n",
        "                                  s['withdraw_pct'], is_max=i):\n",
        "                battle_ongoing = False\n",
        "                loser = i\n",
        "                break\n",
        "            \n",
        "            ## Attrit\n",
        "            if battle_ongoing:\n",
        "                s['curr_strength'] -= s['attrit_coef']*sides[np.abs(i-1)]['curr_strength'] # 1 -> 0; 0 -> 1\n",
        "\n",
        "        period += 1\n",
        "\n",
        "    return loser\n",
        "\n",
        "one_battle(2000)\n",
        "        \n"
      ],
      "metadata": {
        "colab": {
          "base_uri": "https://localhost:8080/"
        },
        "outputId": "75b875e8-9939-4e08-9b4b-93489ac5bb7b",
        "id": "vXY58Z0gzW0g"
      },
      "execution_count": 4,
      "outputs": [
        {
          "output_type": "execute_result",
          "data": {
            "text/plain": [
              "0"
            ]
          },
          "metadata": {},
          "execution_count": 4
        }
      ]
    },
    {
      "cell_type": "code",
      "source": [
        "r0s = np.arange(800, 1801, 10)\n",
        "b0 = 500\n",
        "reps = 100\n",
        "\n",
        "def find_blue_win_probs(r0s, b0, battle_func, reps):\n",
        "    blue_win_probs = np.empty_like(r0s, dtype=float)\n",
        "    for i, r0 in enumerate(r0s):\n",
        "        losers = np.array([battle_func(r0, b0) for _ in range(reps)])\n",
        "        winners = np.abs(losers - 1) # 1 -> 0; 0 -> 1\n",
        "        blue_win_probs[i] = np.mean(winners)\n",
        "\n",
        "    return blue_win_probs\n",
        "\n",
        "blue_win_probs = find_blue_win_probs(r0s, b0, one_battle, reps)"
      ],
      "metadata": {
        "id": "o4335IJ0fyiw"
      },
      "execution_count": 5,
      "outputs": []
    },
    {
      "cell_type": "code",
      "source": [
        "fig, ax = plt.subplots()\n",
        "\n",
        "ax.plot(r0s, blue_win_probs, 'o-', markersize=1)\n",
        "ax.set_xlabel('RFIE')\n",
        "ax.set_ylabel('Blue win probability (B0 = {})'.format(b0))\n",
        "ax.set_ylim(-0.02, 1.02)\n",
        "\n",
        "fig.show()"
      ],
      "metadata": {
        "colab": {
          "base_uri": "https://localhost:8080/",
          "height": 279
        },
        "id": "I23PCiDr3kRN",
        "outputId": "701dd8c6-e83f-42d7-9918-53cccea8765e"
      },
      "execution_count": 6,
      "outputs": [
        {
          "output_type": "display_data",
          "data": {
            "text/plain": [
              "<Figure size 432x288 with 1 Axes>"
            ],
            "image/png": "[encoded data removed]"
          },
          "metadata": {
            "needs_background": "light"
          }
        }
      ]
    },
    {
      "cell_type": "markdown",
      "source": [
        "#### 3. [5 points] Recreate Figure 2."
      ],
      "metadata": {
        "id": "3LskwyqHXKn0"
      }
    },
    {
      "cell_type": "markdown",
      "source": [
        "The constant parameter values are commented out, and the `red` and `blue` dictionary entries are changed to reflect the random values."
      ],
      "metadata": {
        "id": "kK7bY65cW7UB"
      }
    },
    {
      "cell_type": "code",
      "source": [
        "from numpy.random import default_rng\n",
        "\n",
        "rng = default_rng()\n",
        "\n",
        "## Parameters\n",
        "r0 = 2000\n",
        "b0 = 839\n",
        "\n",
        "b_attrit_coef = 1/2048\n",
        "r_attrit_coef = 1/512\n",
        "\n",
        "# b_reinf_fr = 4\n",
        "# r_reinf_fr = 2.5\n",
        "# b_reinf_pct = 0.8\n",
        "# r_reinf_pct = 0.8\n",
        "\n",
        "reinf_size = 300\n",
        "reinf_batches = 5\n",
        "reinf_delay = 70\n",
        "\n",
        "# b_withdraw_fr = 10\n",
        "# r_withdraw_fr = 1.5\n",
        "# b_withdraw_pct = 0.7\n",
        "# r_withdraw_pct = 0.7\n",
        "\n",
        "def one_random_battle(r0=r0, b0=b0):\n",
        "    red = {'init_strength': r0,\n",
        "       'attrit_coef': r_attrit_coef,\n",
        "       'reinf_fr': rng.uniform(2.375, 2.625),\n",
        "       'reinf_pct': rng.uniform(0.76, 0.84),\n",
        "       'reinf_size': reinf_size,\n",
        "       'reinf_batches': reinf_batches,\n",
        "       'reinf_delay': reinf_delay,\n",
        "       'withdraw_fr': rng.uniform(1.425, 1.575),\n",
        "       'withdraw_pct': rng.uniform(0.665, 0.735)}\n",
        "\n",
        "    blue = {'init_strength': b0,\n",
        "       'attrit_coef': b_attrit_coef,\n",
        "       'reinf_fr': rng.uniform(3.8, 4.2),\n",
        "       'reinf_pct': rng.uniform(0.76, 0.84),\n",
        "       'reinf_size': reinf_size,\n",
        "       'reinf_batches': reinf_batches,\n",
        "       'reinf_delay': reinf_delay,\n",
        "       'withdraw_fr': rng.uniform(9.5, 10.5),\n",
        "       'withdraw_pct': rng.uniform(0.665, 0.735)}\n",
        "\n",
        "    sides = np.array([red, blue])\n",
        "    period = 0\n",
        "    battle_ongoing = True\n",
        "    for s in sides:\n",
        "        s['curr_strength'] = s['init_strength']\n",
        "    ## Paper describes order:\n",
        "    ## Call for reinforcements > Reinforce units > Check for withdrawal > Attrit\n",
        "    while battle_ongoing:\n",
        "        fr_red_to_blue = sides[0]['curr_strength'] / sides[1]['curr_strength']\n",
        "        for i, s in enumerate(sides):\n",
        "            pct = s['curr_strength']/s['init_strength']\n",
        "            ## Determine if reinforcements are needed\n",
        "            if s['reinf_batches'] > 0 and not reinfs_pending(s) and \\\n",
        "                    threshold_exceeded(fr_red_to_blue, pct, s['reinf_fr'], \n",
        "                                       s['reinf_pct'], is_max = i):\n",
        "                s['reinf_batches'] -= 1\n",
        "                s['reinfs_arrive'] = period + s['reinf_delay']\n",
        "                assert reinfs_pending(s), 'Reinforcements are not pending'\n",
        "\n",
        "            ## Add reinforcements\n",
        "            if reinfs_pending(s) and period >= s['reinfs_arrive']:\n",
        "                s['curr_strength'] += s['reinf_size']\n",
        "                del s['reinfs_arrive']\n",
        "                assert not reinfs_pending(s), 'Reinforcements are still pending'\n",
        "\n",
        "            ## Check for withdrawal\n",
        "            if threshold_exceeded(fr_red_to_blue, pct, s['withdraw_fr'], \n",
        "                                  s['withdraw_pct'], is_max=i):\n",
        "                battle_ongoing = False\n",
        "                loser = i\n",
        "                break\n",
        "            \n",
        "            ## Attrit\n",
        "            if battle_ongoing:\n",
        "                s['curr_strength'] -= s['attrit_coef']*sides[np.abs(i-1)]['curr_strength'] # 1 -> 0; 0 -> 1\n",
        "\n",
        "        period += 1\n",
        "\n",
        "    return loser"
      ],
      "metadata": {
        "id": "Ofprf4XgWyHO"
      },
      "execution_count": 7,
      "outputs": []
    },
    {
      "cell_type": "code",
      "source": [
        "r0s = np.arange(500, 3001, 10)\n",
        "b0 = 500\n",
        "reps = 100\n",
        "\n",
        "blue_win_probs = find_blue_win_probs(r0s, b0, one_random_battle, reps)\n",
        "\n",
        "fig, ax = plt.subplots()\n",
        "\n",
        "ax.plot(r0s, blue_win_probs, 'o-', markersize=1)\n",
        "ax.set_xlabel('RFIE')\n",
        "ax.set_ylabel('Blue win probability (B0 = {})'.format(b0))\n",
        "ax.set_ylim(-0.02, 1.02)\n",
        "\n",
        "fig.show()"
      ],
      "metadata": {
        "colab": {
          "base_uri": "https://localhost:8080/",
          "height": 279
        },
        "id": "OuRraphGlcIv",
        "outputId": "bd7a65d8-c604-49e5-866b-199623592195"
      },
      "execution_count": 8,
      "outputs": [
        {
          "output_type": "display_data",
          "data": {
            "text/plain": [
              "<Figure size 432x288 with 1 Axes>"
            ],
            "image/png": "[encoded data removed]"
          },
          "metadata": {
            "needs_background": "light"
          }
        }
      ]
    },
    {
      "cell_type": "markdown",
      "source": [
        "#### 4. [5 points] Recreate Figure 3."
      ],
      "metadata": {
        "id": "UHi_RzRsXOOX"
      }
    },
    {
      "cell_type": "markdown",
      "source": [
        "Same as Figure 2, except new values for the random variables."
      ],
      "metadata": {
        "id": "ZU2ecL4sW6x9"
      }
    },
    {
      "cell_type": "code",
      "source": [
        "## Parameters\n",
        "r0 = 2000\n",
        "b0 = 839\n",
        "\n",
        "b_attrit_coef = 1/2048\n",
        "r_attrit_coef = 1/512\n",
        "\n",
        "# b_reinf_fr = 4\n",
        "# r_reinf_fr = 2.5\n",
        "# b_reinf_pct = 0.8\n",
        "# r_reinf_pct = 0.8\n",
        "\n",
        "reinf_size = 300\n",
        "reinf_batches = 5\n",
        "reinf_delay = 70\n",
        "\n",
        "# b_withdraw_fr = 10\n",
        "# r_withdraw_fr = 1.5\n",
        "# b_withdraw_pct = 0.7\n",
        "# r_withdraw_pct = 0.7\n",
        "\n",
        "def one_random_battle(r0=r0, b0=b0):\n",
        "    red = {'init_strength': r0,\n",
        "       'attrit_coef': r_attrit_coef,\n",
        "       'reinf_fr': rng.uniform(2, 3),\n",
        "       'reinf_pct': rng.uniform(0.64, 0.96),\n",
        "       'reinf_size': reinf_size,\n",
        "       'reinf_batches': reinf_batches,\n",
        "       'reinf_delay': reinf_delay,\n",
        "       'withdraw_fr': rng.uniform(1.2, 1.8),\n",
        "       'withdraw_pct': rng.uniform(0.56, 0.84)}\n",
        "\n",
        "    blue = {'init_strength': b0,\n",
        "       'attrit_coef': b_attrit_coef,\n",
        "       'reinf_fr': rng.uniform(3.2, 4.8),\n",
        "       'reinf_pct': rng.uniform(0.64, 0.96),\n",
        "       'reinf_size': reinf_size,\n",
        "       'reinf_batches': reinf_batches,\n",
        "       'reinf_delay': reinf_delay,\n",
        "       'withdraw_fr': rng.uniform(8, 12),\n",
        "       'withdraw_pct': rng.uniform(0.56, 0.84)}\n",
        "\n",
        "    sides = np.array([red, blue])\n",
        "    period = 0\n",
        "    battle_ongoing = True\n",
        "    for s in sides:\n",
        "        s['curr_strength'] = s['init_strength']\n",
        "    ## Paper describes order:\n",
        "    ## Call for reinforcements > Reinforce units > Check for withdrawal > Attrit\n",
        "    while battle_ongoing:\n",
        "        fr_red_to_blue = sides[0]['curr_strength'] / sides[1]['curr_strength']\n",
        "        for i, s in enumerate(sides):\n",
        "            pct = s['curr_strength']/s['init_strength']\n",
        "            ## Determine if reinforcements are needed\n",
        "            if s['reinf_batches'] > 0 and not reinfs_pending(s) and \\\n",
        "                    threshold_exceeded(fr_red_to_blue, pct, s['reinf_fr'], \n",
        "                                       s['reinf_pct'], is_max = i):\n",
        "                s['reinf_batches'] -= 1\n",
        "                s['reinfs_arrive'] = period + s['reinf_delay']\n",
        "                assert reinfs_pending(s), 'Reinforcements are not pending'\n",
        "\n",
        "            ## Add reinforcements\n",
        "            if reinfs_pending(s) and period >= s['reinfs_arrive']:\n",
        "                s['curr_strength'] += s['reinf_size']\n",
        "                del s['reinfs_arrive']\n",
        "                assert not reinfs_pending(s), 'Reinforcements are still pending'\n",
        "\n",
        "            ## Check for withdrawal\n",
        "            if threshold_exceeded(fr_red_to_blue, pct, s['withdraw_fr'], \n",
        "                                  s['withdraw_pct'], is_max=i):\n",
        "                battle_ongoing = False\n",
        "                loser = i\n",
        "                break\n",
        "            \n",
        "            ## Attrit\n",
        "            if battle_ongoing:\n",
        "                s['curr_strength'] -= s['attrit_coef']*sides[np.abs(i-1)]['curr_strength'] # 1 -> 0; 0 -> 1\n",
        "\n",
        "        period += 1\n",
        "\n",
        "    return loser"
      ],
      "metadata": {
        "id": "KhzioKwNWx7e"
      },
      "execution_count": 9,
      "outputs": []
    },
    {
      "cell_type": "code",
      "source": [
        "r0s = np.arange(500, 3001, 10)\n",
        "b0 = 500\n",
        "reps = 100\n",
        "\n",
        "blue_win_probs = find_blue_win_probs(r0s, b0, one_random_battle, reps)"
      ],
      "metadata": {
        "id": "zQvAAaw5uP71"
      },
      "execution_count": 10,
      "outputs": []
    },
    {
      "cell_type": "code",
      "source": [
        "fig, ax = plt.subplots()\n",
        "\n",
        "ax.plot(r0s, blue_win_probs, 'o-', markersize=1)\n",
        "ax.set_xlabel('RFIE')\n",
        "ax.set_ylabel('Blue win probability (B0 = {})'.format(b0))\n",
        "ax.set_ylim(-0.02, 1.02)\n",
        "\n",
        "fig.show()"
      ],
      "metadata": {
        "colab": {
          "base_uri": "https://localhost:8080/",
          "height": 279
        },
        "id": "9U00eMQ4wSLA",
        "outputId": "dfe08977-2f7e-40a5-e533-e75fd99182cc"
      },
      "execution_count": 11,
      "outputs": [
        {
          "output_type": "display_data",
          "data": {
            "text/plain": [
              "<Figure size 432x288 with 1 Axes>"
            ],
            "image/png": "[encoded data removed]"
          },
          "metadata": {
            "needs_background": "light"
          }
        }
      ]
    },
    {
      "cell_type": "markdown",
      "source": [
        "#### 5. [5 points] Recreate Figure 4."
      ],
      "metadata": {
        "id": "d2UPCA6hXTSC"
      }
    },
    {
      "cell_type": "markdown",
      "source": [
        "Restoring the constants from Figure 1. Changing the attrition code to use the Dewar equation as the mean, and 10% of that as the standard deviation, to obtain a random value for the number attrited each time step per side."
      ],
      "metadata": {
        "id": "cNP89pp_SkDF"
      }
    },
    {
      "cell_type": "code",
      "source": [
        "## Parameters\n",
        "r0 = 2000\n",
        "b0 = 839\n",
        "\n",
        "b_attrit_coef = 1/2048\n",
        "r_attrit_coef = 1/512\n",
        "\n",
        "b_reinf_fr = 4\n",
        "r_reinf_fr = 2.5\n",
        "b_reinf_pct = 0.8\n",
        "r_reinf_pct = 0.8\n",
        "\n",
        "reinf_size = 300\n",
        "reinf_batches = 5\n",
        "reinf_delay = 70\n",
        "\n",
        "b_withdraw_fr = 10\n",
        "r_withdraw_fr = 1.5\n",
        "b_withdraw_pct = 0.7\n",
        "r_withdraw_pct = 0.7\n",
        "\n",
        "def one_attrition_battle(r0=r0, b0=b0):\n",
        "    red = {'init_strength': r0,\n",
        "       'attrit_coef': r_attrit_coef,\n",
        "       'reinf_fr': r_reinf_fr,\n",
        "       'reinf_pct': r_reinf_pct,\n",
        "       'reinf_size': reinf_size,\n",
        "       'reinf_batches': reinf_batches,\n",
        "       'reinf_delay': reinf_delay,\n",
        "       'withdraw_fr': r_withdraw_fr,\n",
        "       'withdraw_pct': r_withdraw_pct}\n",
        "\n",
        "    blue = {'init_strength': b0,\n",
        "       'attrit_coef': b_attrit_coef,\n",
        "       'reinf_fr': b_reinf_fr,\n",
        "       'reinf_pct': b_reinf_pct,\n",
        "       'reinf_size': reinf_size,\n",
        "       'reinf_batches': reinf_batches,\n",
        "       'reinf_delay': reinf_delay,\n",
        "       'withdraw_fr': b_withdraw_fr,\n",
        "       'withdraw_pct': b_withdraw_pct}\n",
        "\n",
        "    sides = np.array([red, blue])\n",
        "    period = 0\n",
        "    battle_ongoing = True\n",
        "    for s in sides:\n",
        "        s['curr_strength'] = s['init_strength']\n",
        "\n",
        "    ## Paper describes order:\n",
        "    ## Call for reinforcements > Reinforce units > Check for withdrawal > Attrit\n",
        "    while battle_ongoing:\n",
        "        fr_red_to_blue = sides[0]['curr_strength'] / sides[1]['curr_strength']\n",
        "        for i, s in enumerate(sides):\n",
        "            pct = s['curr_strength']/s['init_strength']\n",
        "            ## Determine if reinforcements are needed\n",
        "            if s['reinf_batches'] > 0 and not reinfs_pending(s) and \\\n",
        "                    threshold_exceeded(fr_red_to_blue, pct, s['reinf_fr'], \n",
        "                                       s['reinf_pct'], is_max = i):\n",
        "                s['reinf_batches'] -= 1\n",
        "                s['reinfs_arrive'] = period + s['reinf_delay']\n",
        "                assert reinfs_pending(s), 'Reinforcements are not pending'\n",
        "\n",
        "            ## Add reinforcements\n",
        "            if reinfs_pending(s) and period >= s['reinfs_arrive']:\n",
        "                s['curr_strength'] += s['reinf_size']\n",
        "                del s['reinfs_arrive']\n",
        "                assert not reinfs_pending(s), 'Reinforcements are still pending'\n",
        "\n",
        "            ## Check for withdrawal\n",
        "            if threshold_exceeded(fr_red_to_blue, pct, s['withdraw_fr'], \n",
        "                                  s['withdraw_pct'], is_max=i):\n",
        "                battle_ongoing = False\n",
        "                loser = i\n",
        "                break\n",
        "            \n",
        "            ## Attrit\n",
        "            ## CHANGED\n",
        "            if battle_ongoing:\n",
        "                attrit_mean = s['attrit_coef']*sides[np.abs(i-1)]['curr_strength'] # 1 -> 0; 0 -> 1\n",
        "                s['curr_strength'] -= max(0, rng.normal(attrit_mean, 0.1*np.sqrt(attrit_mean)))\n",
        "                \n",
        "        period += 1\n",
        "\n",
        "    return loser"
      ],
      "metadata": {
        "id": "hIDmV4Rwujem"
      },
      "execution_count": 12,
      "outputs": []
    },
    {
      "cell_type": "code",
      "source": [
        "r0s = np.arange(500, 3001, 10)\n",
        "b0 = 500\n",
        "reps = 100\n",
        "\n",
        "blue_win_probs = find_blue_win_probs(r0s, b0, one_attrition_battle, reps)\n",
        "\n",
        "fig, ax = plt.subplots()\n",
        "\n",
        "ax.plot(r0s, blue_win_probs, 'o-', markersize=1)\n",
        "ax.set_xlabel('RFIE')\n",
        "ax.set_ylabel('Blue win probability (B0 = {})'.format(b0))\n",
        "ax.set_ylim(-0.02, 1.02)\n",
        "\n",
        "fig.show()"
      ],
      "metadata": {
        "colab": {
          "base_uri": "https://localhost:8080/",
          "height": 279
        },
        "id": "tsrQCF8du3WY",
        "outputId": "01077378-4378-4fdd-8020-620b25bb7922"
      },
      "execution_count": 13,
      "outputs": [
        {
          "output_type": "display_data",
          "data": {
            "text/plain": [
              "<Figure size 432x288 with 1 Axes>"
            ],
            "image/png": "[encoded data removed]"
          },
          "metadata": {
            "needs_background": "light"
          }
        }
      ]
    },
    {
      "cell_type": "markdown",
      "source": [
        "Put description of changes here."
      ],
      "metadata": {
        "id": "JtkL7QRmW6g-"
      }
    },
    {
      "cell_type": "markdown",
      "source": [
        "#### 6. [5 points] Recreate Figure 5."
      ],
      "metadata": {
        "id": "gtmTFGe6Xb0k"
      }
    },
    {
      "cell_type": "markdown",
      "source": [
        "Same as Figure 4, but adjusting the standard deviation by no longer multiplying by 10%."
      ],
      "metadata": {
        "id": "bZBn2ewBW6P1"
      }
    },
    {
      "cell_type": "code",
      "source": [
        "## Parameters\n",
        "r0 = 2000\n",
        "b0 = 839\n",
        "\n",
        "b_attrit_coef = 1/2048\n",
        "r_attrit_coef = 1/512\n",
        "\n",
        "b_reinf_fr = 4\n",
        "r_reinf_fr = 2.5\n",
        "b_reinf_pct = 0.8\n",
        "r_reinf_pct = 0.8\n",
        "\n",
        "reinf_size = 300\n",
        "reinf_batches = 5\n",
        "reinf_delay = 70\n",
        "\n",
        "b_withdraw_fr = 10\n",
        "r_withdraw_fr = 1.5\n",
        "b_withdraw_pct = 0.7\n",
        "r_withdraw_pct = 0.7\n",
        "\n",
        "def one_attrition_battle(r0=r0, b0=b0):\n",
        "    red = {'init_strength': r0,\n",
        "       'attrit_coef': r_attrit_coef,\n",
        "       'reinf_fr': r_reinf_fr,\n",
        "       'reinf_pct': r_reinf_pct,\n",
        "       'reinf_size': reinf_size,\n",
        "       'reinf_batches': reinf_batches,\n",
        "       'reinf_delay': reinf_delay,\n",
        "       'withdraw_fr': r_withdraw_fr,\n",
        "       'withdraw_pct': r_withdraw_pct}\n",
        "\n",
        "    blue = {'init_strength': b0,\n",
        "       'attrit_coef': b_attrit_coef,\n",
        "       'reinf_fr': b_reinf_fr,\n",
        "       'reinf_pct': b_reinf_pct,\n",
        "       'reinf_size': reinf_size,\n",
        "       'reinf_batches': reinf_batches,\n",
        "       'reinf_delay': reinf_delay,\n",
        "       'withdraw_fr': b_withdraw_fr,\n",
        "       'withdraw_pct': b_withdraw_pct}\n",
        "\n",
        "    sides = np.array([red, blue])\n",
        "    period = 0\n",
        "    battle_ongoing = True\n",
        "    for s in sides:\n",
        "        s['curr_strength'] = s['init_strength']\n",
        "\n",
        "    ## Paper describes order:\n",
        "    ## Call for reinforcements > Reinforce units > Check for withdrawal > Attrit\n",
        "    while battle_ongoing:\n",
        "        fr_red_to_blue = sides[0]['curr_strength'] / sides[1]['curr_strength']\n",
        "        for i, s in enumerate(sides):\n",
        "            pct = s['curr_strength']/s['init_strength']\n",
        "            ## Determine if reinforcements are needed\n",
        "            if s['reinf_batches'] > 0 and not reinfs_pending(s) and \\\n",
        "                    threshold_exceeded(fr_red_to_blue, pct, s['reinf_fr'], \n",
        "                                       s['reinf_pct'], is_max = i):\n",
        "                s['reinf_batches'] -= 1\n",
        "                s['reinfs_arrive'] = period + s['reinf_delay']\n",
        "                assert reinfs_pending(s), 'Reinforcements are not pending'\n",
        "\n",
        "            ## Add reinforcements\n",
        "            if reinfs_pending(s) and period >= s['reinfs_arrive']:\n",
        "                s['curr_strength'] += s['reinf_size']\n",
        "                del s['reinfs_arrive']\n",
        "                assert not reinfs_pending(s), 'Reinforcements are still pending'\n",
        "\n",
        "            ## Check for withdrawal\n",
        "            if threshold_exceeded(fr_red_to_blue, pct, s['withdraw_fr'], \n",
        "                                  s['withdraw_pct'], is_max=i):\n",
        "                battle_ongoing = False\n",
        "                loser = i\n",
        "                break\n",
        "            \n",
        "            ## Attrit\n",
        "            if battle_ongoing:\n",
        "                attrit_mean = s['attrit_coef']*sides[np.abs(i-1)]['curr_strength'] # 1 -> 0; 0 -> 1\n",
        "                s['curr_strength'] -= max(0, rng.normal(attrit_mean, np.sqrt(attrit_mean)))\n",
        "                \n",
        "        period += 1\n",
        "\n",
        "    return loser"
      ],
      "metadata": {
        "id": "qTo9GrJgWte1"
      },
      "execution_count": 14,
      "outputs": []
    },
    {
      "cell_type": "code",
      "source": [
        "r0s = np.arange(500, 3001, 10)\n",
        "b0 = 500\n",
        "reps = 100\n",
        "\n",
        "blue_win_probs = find_blue_win_probs(r0s, b0, one_attrition_battle, reps)\n",
        "\n",
        "fig, ax = plt.subplots()\n",
        "\n",
        "ax.plot(r0s, blue_win_probs, 'o-', markersize=1)\n",
        "ax.set_xlabel('RFIE')\n",
        "ax.set_ylabel('Blue win probability (B0 = {})'.format(b0))\n",
        "ax.set_ylim(-0.02, 1.02)\n",
        "\n",
        "fig.show()"
      ],
      "metadata": {
        "colab": {
          "base_uri": "https://localhost:8080/",
          "height": 279
        },
        "id": "UoFH9qSw8xnb",
        "outputId": "0663c765-b43b-4306-cecb-6f045083df20"
      },
      "execution_count": 15,
      "outputs": [
        {
          "output_type": "display_data",
          "data": {
            "text/plain": [
              "<Figure size 432x288 with 1 Axes>"
            ],
            "image/png": "[encoded data removed]"
          },
          "metadata": {
            "needs_background": "light"
          }
        }
      ]
    },
    {
      "cell_type": "markdown",
      "source": [
        "#### 7. [5 points] Recreate Figure 6."
      ],
      "metadata": {
        "id": "oLwP_KhkXe3f"
      }
    },
    {
      "cell_type": "markdown",
      "source": [
        "Combination of random thresholds from Figure 3, and random attrition from Figure 5."
      ],
      "metadata": {
        "id": "Z4G7heWJW56m"
      }
    },
    {
      "cell_type": "code",
      "source": [
        "## Parameters\n",
        "r0 = 2000\n",
        "b0 = 839\n",
        "\n",
        "b_attrit_coef = 1/2048\n",
        "r_attrit_coef = 1/512\n",
        "\n",
        "# b_reinf_fr = 4\n",
        "# r_reinf_fr = 2.5\n",
        "# b_reinf_pct = 0.8\n",
        "# r_reinf_pct = 0.8\n",
        "\n",
        "reinf_size = 300\n",
        "reinf_batches = 5\n",
        "reinf_delay = 70\n",
        "\n",
        "# b_withdraw_fr = 10\n",
        "# r_withdraw_fr = 1.5\n",
        "# b_withdraw_pct = 0.7\n",
        "# r_withdraw_pct = 0.7\n",
        "\n",
        "def one_random_attrition_battle(r0=r0, b0=b0):\n",
        "    red = {'init_strength': r0,\n",
        "       'attrit_coef': r_attrit_coef,\n",
        "       'reinf_fr': rng.uniform(2, 3),\n",
        "       'reinf_pct': rng.uniform(0.64, 0.96),\n",
        "       'reinf_size': reinf_size,\n",
        "       'reinf_batches': reinf_batches,\n",
        "       'reinf_delay': reinf_delay,\n",
        "       'withdraw_fr': rng.uniform(1.2, 1.8),\n",
        "       'withdraw_pct': rng.uniform(0.56, 0.84)}\n",
        "\n",
        "    blue = {'init_strength': b0,\n",
        "       'attrit_coef': b_attrit_coef,\n",
        "       'reinf_fr': rng.uniform(3.2, 4.8),\n",
        "       'reinf_pct': rng.uniform(0.64, 0.96),\n",
        "       'reinf_size': reinf_size,\n",
        "       'reinf_batches': reinf_batches,\n",
        "       'reinf_delay': reinf_delay,\n",
        "       'withdraw_fr': rng.uniform(8, 12),\n",
        "       'withdraw_pct': rng.uniform(0.56, 0.84)}\n",
        "\n",
        "    sides = np.array([red, blue])\n",
        "    period = 0\n",
        "    battle_ongoing = True\n",
        "    for s in sides:\n",
        "        s['curr_strength'] = s['init_strength']\n",
        "    ## Paper describes order:\n",
        "    ## Call for reinforcements > Reinforce units > Check for withdrawal > Attrit\n",
        "    while battle_ongoing:\n",
        "        fr_red_to_blue = sides[0]['curr_strength'] / sides[1]['curr_strength']\n",
        "        for i, s in enumerate(sides):\n",
        "            pct = s['curr_strength']/s['init_strength']\n",
        "            ## Determine if reinforcements are needed\n",
        "            if s['reinf_batches'] > 0 and not reinfs_pending(s) and \\\n",
        "                    threshold_exceeded(fr_red_to_blue, pct, s['reinf_fr'], \n",
        "                                       s['reinf_pct'], is_max = i):\n",
        "                s['reinf_batches'] -= 1\n",
        "                s['reinfs_arrive'] = period + s['reinf_delay']\n",
        "                assert reinfs_pending(s), 'Reinforcements are not pending'\n",
        "\n",
        "            ## Add reinforcements\n",
        "            if reinfs_pending(s) and period >= s['reinfs_arrive']:\n",
        "                s['curr_strength'] += s['reinf_size']\n",
        "                del s['reinfs_arrive']\n",
        "                assert not reinfs_pending(s), 'Reinforcements are still pending'\n",
        "\n",
        "            ## Check for withdrawal\n",
        "            if threshold_exceeded(fr_red_to_blue, pct, s['withdraw_fr'], \n",
        "                                  s['withdraw_pct'], is_max=i):\n",
        "                battle_ongoing = False\n",
        "                loser = i\n",
        "                break\n",
        "            \n",
        "            ## Attrit\n",
        "            if battle_ongoing:\n",
        "                attrit_mean = s['attrit_coef']*sides[np.abs(i-1)]['curr_strength'] # 1 -> 0; 0 -> 1\n",
        "                s['curr_strength'] -= max(0, rng.normal(attrit_mean, np.sqrt(attrit_mean)))            \n",
        "\n",
        "        period += 1\n",
        "\n",
        "    return loser"
      ],
      "metadata": {
        "id": "6jdfYzoeWtL5"
      },
      "execution_count": 16,
      "outputs": []
    },
    {
      "cell_type": "code",
      "source": [
        "r0s = np.arange(500, 3001, 10)\n",
        "b0 = 500\n",
        "reps = 100\n",
        "\n",
        "blue_win_probs = find_blue_win_probs(r0s, b0, one_random_attrition_battle, reps)\n",
        "\n",
        "fig, ax = plt.subplots()\n",
        "\n",
        "ax.plot(r0s, blue_win_probs, 'o-', markersize=1)\n",
        "ax.set_xlabel('RFIE')\n",
        "ax.set_ylabel('Blue win probability (B0 = {})'.format(b0))\n",
        "ax.set_ylim(-0.02, 1.02)\n",
        "\n",
        "fig.show()"
      ],
      "metadata": {
        "colab": {
          "base_uri": "https://localhost:8080/",
          "height": 279
        },
        "id": "NvzHO1l2RftO",
        "outputId": "f3928d82-d5d3-4469-e139-bd6a3305ab17"
      },
      "execution_count": 17,
      "outputs": [
        {
          "output_type": "display_data",
          "data": {
            "text/plain": [
              "<Figure size 432x288 with 1 Axes>"
            ],
            "image/png": "[encoded data removed]"
          },
          "metadata": {
            "needs_background": "light"
          }
        }
      ]
    }
  ]
}