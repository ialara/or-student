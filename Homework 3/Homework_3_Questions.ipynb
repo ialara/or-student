{
  "nbformat": 4,
  "nbformat_minor": 0,
  "metadata": {
    "colab": {
      "name": "Homework_3_Questions.ipynb",
      "provenance": [],
      "collapsed_sections": [],
      "include_colab_link": true
    },
    "kernelspec": {
      "name": "python3",
      "display_name": "Python 3"
    },
    "language_info": {
      "name": "python"
    }
  },
  "cells": [
    {
      "cell_type": "markdown",
      "metadata": {
        "id": "view-in-github",
        "colab_type": "text"
      },
      "source": [
        "<a href=\"https://colab.research.google.com/github/ialara/or-student/blob/main/Homework%203/Homework_3_Questions.ipynb\" target=\"_parent\"><img src=\"https://colab.research.google.com/assets/colab-badge.svg\" alt=\"Open In Colab\"/></a>"
      ]
    },
    {
      "cell_type": "markdown",
      "source": [
        "SIMULATION HOMEWORK 2\n",
        "\n",
        "Due: In class on Friday, May 27, 2022\n",
        "\n",
        "Name: Your name here\n",
        "\n",
        "Overall score: ?? / 24 pts"
      ],
      "metadata": {
        "id": "WUZYZOak1nrM"
      }
    },
    {
      "cell_type": "markdown",
      "source": [
        "#### 1.\t[8 points] Consider the following integral: \n",
        "$$z=\\int_1^4 \\int_\\sqrt{(x)}^{x^2} ye^x dy dx$$\n",
        "\n",
        "In both of these problems use 100 replication with averages of 50 samples.  \n",
        "\n",
        "a) Create a simulation using the probability estimating (dart) approach. [3 pts]"
      ],
      "metadata": {
        "id": "dWa4DHKk1xY7"
      }
    },
    {
      "cell_type": "code",
      "source": [
        "Put code here"
      ],
      "metadata": {
        "id": "h8wMcxBX4vpz"
      },
      "execution_count": null,
      "outputs": []
    },
    {
      "cell_type": "markdown",
      "source": [
        "b) Create a simulation using the average area estimating approach. [3 pts]"
      ],
      "metadata": {
        "id": "qmQ6TObU44EC"
      }
    },
    {
      "cell_type": "code",
      "source": [
        "Put code here"
      ],
      "metadata": {
        "id": "qiDirl6p4_Vh"
      },
      "execution_count": null,
      "outputs": []
    },
    {
      "cell_type": "markdown",
      "source": [
        "c) Create a boxplot with the results from a) and b). [2 pts]"
      ],
      "metadata": {
        "id": "DwUXxqJp5Cwz"
      }
    },
    {
      "cell_type": "code",
      "source": [
        "Put code and results here"
      ],
      "metadata": {
        "id": "YfJHzR_o5HMw"
      },
      "execution_count": null,
      "outputs": []
    },
    {
      "cell_type": "markdown",
      "source": [
        "2) [14 points] Consider a function that is a cousin to the logistic function: \n",
        "$$\n",
        "\\frac{dx}{dt}=ax(1-x^{2})\n",
        "$$\n",
        "With initial condition $x=x_0$  at $t=0$.\n",
        "\n",
        "a)\tSolve the differential equation.  You should get $x=f(t)$ and use the initial condition to solve for the constant. [3 pts]\n",
        "\n"
      ],
      "metadata": {
        "id": "sGtCUkrevP2f"
      }
    },
    {
      "cell_type": "markdown",
      "source": [
        "Send a PDF of your work and solution to Nacho."
      ],
      "metadata": {
        "id": "daP6lUDi6D1F"
      }
    },
    {
      "cell_type": "markdown",
      "source": [
        "b)\tUse Python to plot the function $x=f(t)$  with $x_0=0.1$ and $0≤t≤5$ for $a=1,2,3,$and $4$. Plot all four curves on the same axes. [3 pts]"
      ],
      "metadata": {
        "id": "FLNndbkS5yu7"
      }
    },
    {
      "cell_type": "markdown",
      "source": [
        "This differential equation is a bit different from the logistics map although it has some of the same characteristics.  For the rest of this problem, use Euler’s method and simulation to provide a closer examination of some of these similarities and differences. In each case use $x_{0} = 0.5$.\n",
        "\n",
        "c)\tProvide a single iteration plot with a = 2, 2.1, and 2.25 for 50 iterations. [2 pts]"
      ],
      "metadata": {
        "id": "QbEwPLTXX8Wj"
      }
    },
    {
      "cell_type": "code",
      "source": [
        "Put code and results here."
      ],
      "metadata": {
        "id": "oKc9p9Oq7PMN"
      },
      "execution_count": null,
      "outputs": []
    },
    {
      "cell_type": "markdown",
      "source": [
        "d) provide a single iteration plot with a = 2.598 and 2.5981 for 1,000 iterations.  How are these different from the iteration plots of the logistic map? [3 pts]"
      ],
      "metadata": {
        "id": "HBOpjVIo7DUg"
      }
    },
    {
      "cell_type": "code",
      "source": [
        "Put code and results here."
      ],
      "metadata": {
        "id": "dGMCa-JG7CUz"
      },
      "execution_count": null,
      "outputs": []
    },
    {
      "cell_type": "markdown",
      "source": [
        "e)\tProvide a return map with 5,000 iteration for each of a = 2.398 and 2.3981. [3 pts]"
      ],
      "metadata": {
        "id": "unvtqcMfYGCA"
      }
    },
    {
      "cell_type": "code",
      "source": [
        "Put coder and resutls here."
      ],
      "metadata": {
        "id": "CaOl1Ek48Eus"
      },
      "execution_count": null,
      "outputs": []
    },
    {
      "cell_type": "markdown",
      "source": [
        "f)\tFinally, provide a phase map with $a$ on the horizontal axis and $x(n)$ on the verticle axis.  Use values for $a$ from 2 to 3 in steps of 0.001. For each value of $a$, ignore the first 100 iterations and plot the 1,900 iterations after that.  In your plot use a marker size of 0.01 (alpha = 0.01) so that the structure of the result can be seen. [3 pts]"
      ],
      "metadata": {
        "id": "j_OYK1UwYJnR"
      }
    },
    {
      "cell_type": "markdown",
      "source": [
        "3) [10 points] This problem demonstrates a variety of chaotic outcomes. Consider an ecosystem with rabbits and foxes.  The fraction of the maximum number of rabbits in generation $n+1$ is based on the fraction of the maximum number of rabbits $r_n$ and foxes $f_n$ in the previous generation $n$ and is given by:\n",
        "$$\n",
        "r_{n+1}=ar_{n}(1-r_n -f_n)\n",
        "$$\n",
        "\n",
        "Since $r_n$  and $f_n$ are fractions, $0\\leq r_n \\leq 1$ and $0≤f_n≤1$. The constant $a$ is the rabbits’ birth rate. For example, if $a=3$, then each rabbit produces 3 offspring in the next generation. The factor $(1-r_n-f_n )$ accounts for deaths due to starvation and predation. If the number of rabbits is low (meaning $r_n$ is near 0), then few will die of starvation, if it’s high (meaning $r_n$ is near 1) then many will. Likewise, if the number of foxes is low, few rabbits will be “eaten” and if it is high, many rabbits will die from being eaten.\n",
        "\n",
        "The number of foxes in the next generation is given by:\n",
        "$$f_{n+1}=br_n f_n$$\n",
        "\n",
        "One way you can interpret this is the chances that a fox encounters and eats a rabbit is $r_n$. So, if the rabbit population is at 80% of its theoretical maximum, 80% of foxes will eat enough to reproduce, and will produce b offspring.\n",
        "\n",
        "Create a simulation for $r_n$ and $f_n$ for the values of $a$ and $b$ below. Use $r_0=0.25$ and $f_n=0.25$. Iterate 100,000 times.\n",
        "\n",
        "Create a return map for the rabbits and the foxes with a = 2, b = 3. Connect the dots so it will be easier to see the convergence. [10 pts]\n",
        "\n"
      ],
      "metadata": {
        "id": "5mgT9v_UwI2t"
      }
    }
  ]
}