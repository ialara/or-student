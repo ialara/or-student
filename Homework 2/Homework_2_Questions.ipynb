{
  "nbformat": 4,
  "nbformat_minor": 0,
  "metadata": {
    "colab": {
      "name": "Homework 2 Questions.ipynb",
      "provenance": [],
      "collapsed_sections": [],
      "include_colab_link": true
    },
    "kernelspec": {
      "name": "python3",
      "display_name": "Python 3"
    },
    "language_info": {
      "name": "python"
    }
  },
  "cells": [
    {
      "cell_type": "markdown",
      "metadata": {
        "id": "view-in-github",
        "colab_type": "text"
      },
      "source": [
        "<a href=\"https://colab.research.google.com/github/ialara/or-student/blob/main/Homework%202/Homework_2_Questions.ipynb\" target=\"_parent\"><img src=\"https://colab.research.google.com/assets/colab-badge.svg\" alt=\"Open In Colab\"/></a>"
      ]
    },
    {
      "cell_type": "markdown",
      "source": [
        "# **SIMULATION HOMEWORK 2**\n",
        "### **Due: In class on Friday, May 20, 2022**\n"
      ],
      "metadata": {
        "id": "mxfcOCGBGEfp"
      }
    },
    {
      "cell_type": "markdown",
      "source": [
        "1.\t[11 pts] The formula for determining the monthly payment p for a loan of \\$L over m months with an annual interest rate of _r_ is given by \n",
        "$$p=\\frac{(\\frac{r}{12} L)}{1-\\left(1+\\frac{r}{12} \\right)^{-m} }$$ \\\n",
        "\n",
        "\ta) Suppose you buy a car for \\\\$  40,000 with a 5% interest rate.  If you pay it back over 5 years, what is your monthly payment (to the nearest cent)? [1 pt]\n"
      ],
      "metadata": {
        "id": "wOBJZU-DGd0k"
      }
    },
    {
      "cell_type": "markdown",
      "source": [
        "Text answer here"
      ],
      "metadata": {
        "id": "HvHfAlu7HvEd"
      }
    },
    {
      "cell_type": "markdown",
      "source": [
        "1.\tb) Now suppose you pay this monthly payment for two years and then get a raise.  Desiring to pay the loan back as soon as possible, you increase the payment by \\$50 a month.  Then, after one more years, you receive another raise, and you increase your monthly payment by another \\$30.  Use a simulation in Python to show how soon you will be able to pay back the loan.  Print the month-by-month payment of the principal, the interest and the remaining amount of the loan. [10 pts]"
      ],
      "metadata": {
        "id": "jW2XVH1vLUZN"
      }
    },
    {
      "cell_type": "code",
      "source": [
        "#Code answer here"
      ],
      "metadata": {
        "id": "JyYzRX7fHtY9"
      },
      "execution_count": null,
      "outputs": []
    },
    {
      "cell_type": "markdown",
      "source": [
        "2.\t[14 pts] You have a friend that wants to play an unusual game with you.  She flips a fair coin, recording the number of heads and tails flipped, until the difference of between the heads and tails is three.  At that time, the game ends and the number of times the coin was flipped is noted.  The payoff to you is \\$10 minus \\$1 for every time the coin was flipped.  A negative payoff means that you pay your friend that amount of money.  Oh, and because your friend invented this game, she requires you to pay \\$1 every time you play it.\\\n",
        "\\\n",
        "In this question, we wil progressively build a simulation to answer, we will create a simulation to answer the question, \"Should you play the game?\" \\\n",
        "\\\n",
        "The strategy for building the simulation is to build functions that simulate 1) flipping a coin, 2) playing one game, 3) playing multiple games to calculate an average, and 4) replicating the multiple games so that we can calculate an average of averages which, if we do this correctly, is significantly more normally distributed than the original game. (If you need a brush up on this from your stats class, please come to my office hour or set up a time on my calendar.) \\\n",
        "\\\n",
        "As you build your code, I suggest that you test each of the functions to make sure they are doing what you want them to do. \\\n",
        "\\\n",
        "With that, here we go! \\\n",
        "\\\n",
        "a) Build a python function that returns \"Heads\" or \"Tails\" representing a flip of a fair coin.  To do this, use a list with the values \"Heads\" and \"Tails\" and use the randint method in the random library.  [2 pts]\n"
      ],
      "metadata": {
        "id": "Z77CpPs0UFrE"
      }
    },
    {
      "cell_type": "code",
      "source": [
        "#Code answer here"
      ],
      "metadata": {
        "id": "T9JXOgmMnPMx"
      },
      "execution_count": null,
      "outputs": []
    },
    {
      "cell_type": "markdown",
      "source": [
        "> b) Now, add to this a Python function that returns the outcome of a game.  You may want to use the Python function abs() to calculate the absolute value. Make sure it returns the dollars won or lost as a result of playing the game. [3 pts]\n"
      ],
      "metadata": {
        "id": "7wN409llnTVf"
      }
    },
    {
      "cell_type": "code",
      "source": [
        "#Code answer here"
      ],
      "metadata": {
        "id": "20btmRCDot47"
      },
      "execution_count": null,
      "outputs": []
    },
    {
      "cell_type": "markdown",
      "source": [
        "> c) Next, add a Python function that repeats the game a number of times and returns the average result.  Define a variable called \"samples\" which is the number of times the game is played.  Capture each outcome in a numpy array called \"results\" and return the average of these results. (Yes, you will need to import the numpy library.) [3 pts]"
      ],
      "metadata": {
        "id": "7UrjmZdfo9NP"
      }
    },
    {
      "cell_type": "code",
      "source": [
        "#Code answer here"
      ],
      "metadata": {
        "id": "inq6uO-1qIaD"
      },
      "execution_count": null,
      "outputs": []
    },
    {
      "cell_type": "markdown",
      "source": [
        "> d) Congratulations! You are almost there.  Finally, add the code replicates the averages. Do not add this as a function.  Create a variable \"replications\" for the number of averages you will collect and a numpy array called \"averages\" for ... \\\n",
        "\\\n",
        "That's right, you guessed it, each of the averages. [3 pts]"
      ],
      "metadata": {
        "id": "feOAFIEvqKAc"
      }
    },
    {
      "cell_type": "code",
      "source": [
        "#Code answer here"
      ],
      "metadata": {
        "id": "qBFfh-CTroYA"
      },
      "execution_count": null,
      "outputs": []
    },
    {
      "cell_type": "markdown",
      "source": [
        "> e) Now to the answer. Run the simulation with 10,000 replications of the averages which contain 100 samples. Calculate and print out the average of the averages along with the 95% confidence interval for these averages. What is your conclusion about playing this game? [3 pts]"
      ],
      "metadata": {
        "id": "mysC6rPVrrWI"
      }
    },
    {
      "cell_type": "markdown",
      "source": [
        "Text answer here"
      ],
      "metadata": {
        "id": "KhyG-kw4s68F"
      }
    },
    {
      "cell_type": "markdown",
      "source": [
        "3.\t[ pts] Consider the population simulation we developed in class (Simulation #4).  "
      ],
      "metadata": {
        "id": "h-74JXhwtFhT"
      }
    }
  ]
}