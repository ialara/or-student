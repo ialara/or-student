{
  "nbformat": 4,
  "nbformat_minor": 0,
  "metadata": {
    "colab": {
      "name": "Homework 1 Questions.ipynb",
      "provenance": [],
      "collapsed_sections": []
    },
    "kernelspec": {
      "name": "python3",
      "display_name": "Python 3"
    },
    "language_info": {
      "name": "python"
    }
  },
  "cells": [
    {
      "cell_type": "markdown",
      "source": [
        "# **SIMULATION HOMEWORK 2**\n",
        "### **Due: In class on Friday, May 20, 2022**\n"
      ],
      "metadata": {
        "id": "mxfcOCGBGEfp"
      }
    },
    {
      "cell_type": "markdown",
      "source": [
        "1.\t[11 pts] The formula for determining the monthly payment p for a loan of \\$L over m months with an annual interest rate of _r_ is given by \n",
        "$$p=\\frac{(\\frac{r}{12} L)}{1-\\left(1+\\frac{r}{12} \\right)^{-m} }$$ \\\n",
        "\n",
        "\ta) Suppose you buy a car for \\\\$  40,000 with a 5% interest rate.  If you pay it back over 5 years, what is your monthly payment (to the nearest cent)? [1 pt]\n"
      ],
      "metadata": {
        "id": "wOBJZU-DGd0k"
      }
    },
    {
      "cell_type": "markdown",
      "source": [
        "Text answer here"
      ],
      "metadata": {
        "id": "HvHfAlu7HvEd"
      }
    },
    {
      "cell_type": "markdown",
      "source": [
        "1.\tb) Now suppose you pay this monthly payment for two years and then get a raise.  Desiring to pay the loan back as soon as possible, you increase the payment by \\$50 a month.  Then, after one more years, you receive another raise, and you increase your monthly payment by another \\$30.  Use a simulation in Python to show how soon you will be able to pay back the loan.  Print the month-by-month payment of the principal, the interest and the remaining amount of the loan. [10 pts]"
      ],
      "metadata": {
        "id": "jW2XVH1vLUZN"
      }
    },
    {
      "cell_type": "code",
      "source": [
        "#Code answer here"
      ],
      "metadata": {
        "id": "JyYzRX7fHtY9"
      },
      "execution_count": null,
      "outputs": []
    }
  ]
}