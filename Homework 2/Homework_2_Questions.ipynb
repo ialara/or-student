{
  "nbformat": 4,
  "nbformat_minor": 0,
  "metadata": {
    "colab": {
      "name": "Homework 2 Questions.ipynb",
      "provenance": [],
      "collapsed_sections": [],
      "include_colab_link": true
    },
    "kernelspec": {
      "name": "python3",
      "display_name": "Python 3"
    },
    "language_info": {
      "name": "python"
    }
  },
  "cells": [
    {
      "cell_type": "markdown",
      "metadata": {
        "id": "view-in-github",
        "colab_type": "text"
      },
      "source": [
        "<a href=\"https://colab.research.google.com/github/ialara/or-student/blob/main/Homework%202/Homework_2_Questions.ipynb\" target=\"_parent\"><img src=\"https://colab.research.google.com/assets/colab-badge.svg\" alt=\"Open In Colab\"/></a>"
      ]
    },
    {
      "cell_type": "markdown",
      "source": [
        "# **SIMULATION HOMEWORK 2**\n",
        "### **Due: In class on Friday, May 20, 2022**\n",
        "### **Name**: Your name here\n",
        "### Overall score: ?? / 38"
      ],
      "metadata": {
        "id": "mxfcOCGBGEfp"
      }
    },
    {
      "cell_type": "markdown",
      "source": [
        "#### 1.\t[11 pts] The formula for determining the monthly payment $p$ for a loan of $L$ over $m$ months with an annual interest rate of $r$ is given by \n",
        "$$p=\\frac{(\\frac{r}{12} L)}{1-\\left(1+\\frac{r}{12} \\right)^{-m} }$$\n",
        "\n",
        "a) Suppose you buy a car for \\\\$  40,000 with a 5% interest rate.  If you pay it back over 5 years, what is your monthly payment (to the nearest cent)? [1 pt]\n"
      ],
      "metadata": {
        "id": "wOBJZU-DGd0k"
      }
    },
    {
      "cell_type": "markdown",
      "source": [
        "Text answer here"
      ],
      "metadata": {
        "id": "HvHfAlu7HvEd"
      }
    },
    {
      "cell_type": "markdown",
      "source": [
        "b) Now suppose you pay this monthly payment for two years and then get a raise.  Desiring to pay the loan back as soon as possible, you increase the payment by \\$50 a month.  Then, after one more years, you receive another raise, and you increase your monthly payment by another \\$30.  Use a simulation in Python to show how soon you will be able to pay back the loan.  Print the month-by-month payment of the principal, the interest and the remaining amount of the loan. [10 pts]"
      ],
      "metadata": {
        "id": "jW2XVH1vLUZN"
      }
    },
    {
      "cell_type": "code",
      "source": [
        "#Code answer here"
      ],
      "metadata": {
        "id": "JyYzRX7fHtY9"
      },
      "execution_count": null,
      "outputs": []
    },
    {
      "cell_type": "markdown",
      "source": [
        "#### 2.\t[14 pts] You have a friend that wants to play an unusual game with you.  She flips a fair coin, recording the number of heads and tails flipped, until the difference of between the heads and tails is three.  At that time, the game ends and the number of times the coin was flipped is noted.  The payoff to you is \\$10 minus \\$1 for every time the coin was flipped.  A negative payoff means that you pay your friend that amount of money.  Oh, and because your friend invented this game, she requires you to pay \\$1 every time you play it.\n",
        "\n",
        "In this question, we wil progressively build a simulation to answer the question, \"Should you play the game?\"\n",
        "\n",
        "The strategy for building the simulation is to build functions that simulate 1) flipping a coin, 2) playing one game, 3) playing multiple games to calculate an average, and 4) replicating the multiple games so that we can calculate an average of averages which, if we do this correctly, is significantly more normally distributed than the original game. (If you need a brush up on this from your stats class, please come to my office hour or set up a time on my calendar.)\n",
        "\n",
        "As you build your code, I suggest that you test each of the functions to make sure they are doing what you want them to do.\n",
        "\n",
        "With that, here we go!\n",
        "\n",
        "a) Build a python function that returns \"Heads\" or \"Tails\" representing a flip of a fair coin.  To do this, use a list with the values \"Heads\" and \"Tails\" and use the [`integers`](https://numpy.org/doc/stable/reference/random/generated/numpy.random.Generator.integers.html) method of the `numpy.random.default_rng()` Generator.  [2 pts]\n"
      ],
      "metadata": {
        "id": "Z77CpPs0UFrE"
      }
    },
    {
      "cell_type": "code",
      "source": [
        "import numpy as np\n",
        "from numpy.random import default_rng\n",
        "\n",
        "rng = default_rng(2020) # rng stands for Random Number Generator; the seed is set to 2020\n",
        "\n",
        "#Code answer here"
      ],
      "metadata": {
        "id": "T9JXOgmMnPMx"
      },
      "execution_count": null,
      "outputs": []
    },
    {
      "cell_type": "markdown",
      "source": [
        "b) Now, add to this a Python function that returns the outcome of a game.  You may want to use the Python function `abs()` to calculate the absolute value. Make sure it returns the dollars won or lost as a result of playing the game. [3 pts]\n"
      ],
      "metadata": {
        "id": "7wN409llnTVf"
      }
    },
    {
      "cell_type": "code",
      "source": [
        "#Code answer here"
      ],
      "metadata": {
        "id": "20btmRCDot47"
      },
      "execution_count": null,
      "outputs": []
    },
    {
      "cell_type": "markdown",
      "source": [
        "c) Next, add a Python function that repeats the game a number of times and returns the average result.  Define a variable called `samples` which is the number of times the game is played.  Capture each outcome in a numpy array called `results` and return the average of these results. [3 pts]"
      ],
      "metadata": {
        "id": "7UrjmZdfo9NP"
      }
    },
    {
      "cell_type": "code",
      "source": [
        "#Code answer here"
      ],
      "metadata": {
        "id": "inq6uO-1qIaD"
      },
      "execution_count": null,
      "outputs": []
    },
    {
      "cell_type": "markdown",
      "source": [
        "d) Congratulations! You are almost there.  Finally, add the code replicates the averages. Do not add this as a function.  Create a variable `replications` for the number of averages you will collect and a numpy array called `averages` for ... \\\n",
        "\\\n",
        "That's right, you guessed it, each of the averages. [3 pts]"
      ],
      "metadata": {
        "id": "feOAFIEvqKAc"
      }
    },
    {
      "cell_type": "code",
      "source": [
        "#Code answer here"
      ],
      "metadata": {
        "id": "qBFfh-CTroYA"
      },
      "execution_count": null,
      "outputs": []
    },
    {
      "cell_type": "markdown",
      "source": [
        "e) Now to the answer. Run the simulation with 10,000 replications of the averages which contain 100 samples. Calculate and print out the average of the averages along with the 95% confidence interval for these averages. What is your conclusion about playing this game? [3 pts]"
      ],
      "metadata": {
        "id": "mysC6rPVrrWI"
      }
    },
    {
      "cell_type": "markdown",
      "source": [
        "Text answer here"
      ],
      "metadata": {
        "id": "KhyG-kw4s68F"
      }
    },
    {
      "cell_type": "markdown",
      "source": [
        "#### 3.\t[13 pts] Consider the population simulation we developed in class. Below is a version adapted to run the simulation multiple times to estimate the probability that this population can sustain itself.  Please review this version and contact me if you have specific questions on how it works.  Try it out to make sure it works for you.  Your result will vary, but it should be about 0.36 - 0.38.(Note: I had some trouble with the initialization.  I'm sure there is a more elegant way to do this, but it works!)"
      ],
      "metadata": {
        "id": "h-74JXhwtFhT"
      }
    },
    {
      "cell_type": "code",
      "source": [
        "import numpy as np\n",
        "import matplotlib.pyplot as plt\n",
        "\n",
        "rng = np.random.default_rng(2020) #random number generator; seed to 2020 for replicability\n",
        "\n",
        "#Constants\n",
        "init_start_age = 18\n",
        "init_end_age = 50\n",
        "\n",
        "fertility_start = 18\n",
        "fertility_end = 40\n",
        "baby_odds = 0.25\n",
        "infant_mortality_reduction = 0.999\n",
        "\n",
        "old_person = 60\n",
        "old_death_odds = 0.1\n",
        "\n",
        "max_population = 10000\n",
        "end_year = 200\n",
        " \n",
        "samples = 1000\n",
        "\n",
        "#Variables\n",
        "infant_mortality = 0.6\n",
        "\n",
        "population = np.zeros(10000)\n",
        "population[0] = 50\n",
        "peopleDictionary = []\n",
        "results = np.zeros(samples)\n",
        "\n",
        "class person:\n",
        "    def __init__(self, age):\n",
        "        self.gender = rng.integers(2) # 1 above maximum desired value.\n",
        "        self.age = age\n",
        "\n",
        "def initialize():\n",
        "    global infant_mortality\n",
        "    infant_mortality = 0.8\n",
        "    for individual in range(int(population[0])):\n",
        "        peopleDictionary.append(person(rng.integers(init_start_age, init_end_age + 1)))\n",
        "\n",
        "def birth(infant_mortality):\n",
        "    births = 0\n",
        "    for individual in peopleDictionary:\n",
        "        if individual.gender == 1 and \\\n",
        "           individual.age > fertility_start and \\\n",
        "           individual.age < fertility_end and \\\n",
        "           rng.random() <= baby_odds * (1 - infant_mortality):\n",
        "              peopleDictionary.append(person(0))\n",
        "              births += 1\n",
        "    return births\n",
        "\n",
        "def death(individual):\n",
        "    died = False\n",
        "    if individual.age > old_person \\\n",
        "        and rng.random() <= old_death_odds:\n",
        "                peopleDictionary.remove(individual)\n",
        "                died = True\n",
        "    return died\n",
        "\n",
        "def one_year(infant_mortality):\n",
        "    deaths = 0\n",
        "    births = birth(infant_mortality)\n",
        "    for individual in peopleDictionary:\n",
        "        if not(death(individual)):\n",
        "            individual.age +=1\n",
        "        else:\n",
        "            deaths +=1\n",
        "    return births, deaths\n",
        "\n",
        "def sustain():\n",
        "    global infant_mortality\n",
        "    year = 0\n",
        "    initialize()\n",
        "    outcome = 1\n",
        "    while population[year] < max_population and population[year] > 1 and year < end_year:\n",
        "        births, deaths = one_year(infant_mortality)\n",
        "        year += 1\n",
        "        infant_mortality *= infant_mortality_reduction\n",
        "        population[year] = len(peopleDictionary)\n",
        "    peopleDictionary.clear()\n",
        "    if population[year]<=1:\n",
        "        outcome = 0\n",
        "    return outcome\n",
        "\n",
        "for sample in range(samples):\n",
        "    results[sample] = sustain()\n",
        "np.mean(results)"
      ],
      "metadata": {
        "id": "X_4pEMNOHQem",
        "outputId": "03cef135-6dfa-4283-bf26-18a98c3ee81b",
        "colab": {
          "base_uri": "https://localhost:8080/"
        }
      },
      "execution_count": 2,
      "outputs": [
        {
          "output_type": "execute_result",
          "data": {
            "text/plain": [
              "0.389"
            ]
          },
          "metadata": {},
          "execution_count": 2
        }
      ]
    },
    {
      "cell_type": "markdown",
      "source": [
        "In the current simulation, the population is not constrained by potential food shortages.  Represent food by a variable called “food” which is expressed in annual nutritional units (ANUs).  One ANU feeds one person each year, and each person consumes one ANU each year. If \"food\" drops below the number in the population, the difference is the number of people in the population that starve and must be deleted from the population that year. \n",
        "\n",
        "Food is produced by farmers during the annual harvest.  Farmers are 50% of the people between the ages of 15 and 60. “Able farmers” this year are farmers except those women farmers that gave birth this year.  Assume half of the births were were by women farmers.\n",
        "\n",
        "Each “able farmer” produces enough food for themself and two other people. Unfortunately, crop failures occur randomly with probability 0.2 each year.  When this happens, only ¼ of the annual production of food occurs.  Assume that “food” is non-perishable.\n",
        "\n",
        "a) Expand the four slides (system components, flow diagram, functional decomposition and datastructures) used to define and describe the population simulation to include food and its impact on the population. Feel free to change them as needed to get in the information for this improved population simulation. Send these slides by email to Nacho. [4 pts]\n",
        "\n",
        "b) To represent the accumulation of food and the annual impact of consumption and possible starvation, add a harvest function to the population simulation.  Add code according to the following steps: \\\n",
        ">    1) Calculate the \"able farmers\".  [Note: for this calculation, you will need to pass the number of births into your harvest function.] [4 pts] \\\n",
        ">    2) Determine if a crop failure occurred [1 pt] \\\n",
        ">    3) Add the appropriate amount of new food to food [1 pt] \\\n",
        ">    4) Based on the total food, determine if a shortage occurred.  If so, set food to zero and remove from the peopleDitionary keys 0 to the integer value of shortage amount (see the del command for dictionaries).  Otherwise, decrease the total food by the number of people in the population. [3 pts]"
      ],
      "metadata": {
        "id": "73ToKdAWJTwq"
      }
    },
    {
      "cell_type": "code",
      "source": [
        "#Put your full code here"
      ],
      "metadata": {
        "id": "XbcCD18VN8KH"
      },
      "execution_count": null,
      "outputs": []
    },
    {
      "cell_type": "markdown",
      "source": [
        "c) Finally, run your code and provide your estimate for the probability of the population sustaining itself."
      ],
      "metadata": {
        "id": "BfjV4AfSOzhn"
      }
    },
    {
      "cell_type": "markdown",
      "source": [
        "Text Answer here"
      ],
      "metadata": {
        "id": "Ts9fy1zrPMOe"
      }
    }
  ]
}