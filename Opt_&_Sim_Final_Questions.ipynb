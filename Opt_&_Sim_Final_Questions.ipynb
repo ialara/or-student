{
  "nbformat": 4,
  "nbformat_minor": 0,
  "metadata": {
    "colab": {
      "name": "Opt & Sim Final Questions.ipynb",
      "provenance": [],
      "collapsed_sections": [],
      "include_colab_link": true
    },
    "kernelspec": {
      "name": "python3",
      "display_name": "Python 3"
    },
    "language_info": {
      "name": "python"
    }
  },
  "cells": [
    {
      "cell_type": "markdown",
      "metadata": {
        "id": "view-in-github",
        "colab_type": "text"
      },
      "source": [
        "<a href=\"https://colab.research.google.com/github/ialara/or-student/blob/main/Opt_%26_Sim_Final_Questions.ipynb\" target=\"_parent\"><img src=\"https://colab.research.google.com/assets/colab-badge.svg\" alt=\"Open In Colab\"/></a>"
      ]
    },
    {
      "cell_type": "markdown",
      "source": [
        "# OPTIMIZATION AND SIMULATION FINAL\n",
        "\n",
        "### Due: by 5:00pm on Monday, June 6, 2022\n",
        "\n",
        "### Name: **Your name here**\n",
        "\n",
        "### Overall score: **??** / 47 pts"
      ],
      "metadata": {
        "id": "Ap2m-MsjDuX5"
      }
    },
    {
      "cell_type": "markdown",
      "source": [
        "#### INSTRUCTIONS\n",
        "1.\tYou may use any non-human resource at your disposal.  Please do not collaborate on this exam.  Avoid the temptation to ask anyone (other than me!) “just one little question.”  Do not ask Nacho.  He’s got a dissertation to complete!  Do your own work.  Email me if you have any questions. Begin the subject line with “O&S Final” (or I might miss your email).\n",
        "\n",
        "2.\tI will be monitoring my email all day on Monday.\n",
        "\n",
        "3.\tLengthy answers are neither required nor recommended.  \n",
        "\n",
        "4.\tProvide your answers in this COLAB notebook. When you are done, send me a link to your COLAB notebook or email it to me.\n",
        "\n",
        "5.\tBefore you start, it is wise to skim the exam and ask me any question you have so there is plenty of time for me to respond. Particularly if you think you have found an error in the exam, email me right away.  I will respond as soon as possible to the whole class.\n",
        "\n",
        "6.\tMonitor your own email and review corrections or clarification that I send out before sending me a new email.\n",
        "\n",
        "7.\tMy grading style is to give credit for attempting a problem.  So, it would be in your interest not to skip any of the problems.  Give each one at least a good try. Point values are listed with the problem.\n",
        "\n",
        "8.\tAllow time for your software to hang, your computer to crash, and network to fail.  Save often!\n",
        "\n",
        "9.\tIf you need to make assumptions to answer a question, do so and state those assumptions clearly.  However, please be sure you need to make them. Remember, email me if you have questions.\n",
        "\n",
        "10.\tWhere a numeric answer is requested, use the decimal precision specified in the problem statement. \n",
        "\n",
        "\n",
        "#### GOOD LUCK!"
      ],
      "metadata": {
        "id": "c-cDyx5EYCe3"
      }
    },
    {
      "cell_type": "markdown",
      "source": [
        "### 1.\t[10 pts] A shocking result.\n",
        "\n",
        "Consider the set of differential equations that comes from the field of electronics.\n",
        "$$\\frac{dx}{dt}=z$$\n",
        "\n",
        "$$\\frac{dy}{dt}=x^2+y^2-4$$\n",
        "\n",
        "$$\\frac{dz}{dt}=-4x-x^2+y^2$$\n",
        "\n",
        "with initial conditions $x_0=-1.8, y_0=-1.5, z_0=-2.5$.\n",
        "\n",
        "Use Euler’s method to simulate these equations.  Determine the value of the differential equations over 100 periods in which you make 1000 calculations per period. In other words, the step size (dt) is 0.001 and you make a total of 100,000 calculations (= 100 periods * 1000 calculations/period). \n",
        "\n",
        "Provide an iteration plot with x, y, and z on one plot.  Also, provide a phase map for x and y and, on a separate plot, a phase map for x and z. Put x on the horizontal axis for both of these plots.\n",
        "\n",
        "Based on these plots, describe what is happening with these differential equations."
      ],
      "metadata": {
        "id": "dWa4DHKk1xY7"
      }
    },
    {
      "cell_type": "code",
      "source": [
        "Put code and results here."
      ],
      "metadata": {
        "id": "DODYecjocioG"
      },
      "execution_count": null,
      "outputs": []
    },
    {
      "cell_type": "markdown",
      "source": [
        "Put description here."
      ],
      "metadata": {
        "id": "CCr98ZUZcmPl"
      }
    },
    {
      "cell_type": "markdown",
      "source": [
        "#### 2.\t[15 pts total] A nice bonus, for some.\n",
        "A firm trying to sell its product has determined the supply and demand functions are: \n",
        "$$S(Q)=5+ln(Q+10)$$\n",
        "\n",
        "$$D(Q)=10+\\frac{100}{Q+2}$$\n",
        "####In this problem, we will determine the customer and producer surplus using Monte Carlo methods.  "
      ],
      "metadata": {
        "id": "gZEqxBg2PK_h"
      }
    },
    {
      "cell_type": "markdown",
      "source": [
        "#### a) [5 pts] Calculate both the equilibrium quantity and price. \n",
        "\n",
        "To find the equilibrium quantity, $Q_{eq}$, a Monte Carlo search can be performed.  Since \n",
        "1. both functions are non-negative for $Q ≥ 0$\n",
        "2. the supply function is strictly increasing\n",
        "3. the demand function is strictly decreasing\n",
        "\n",
        "there is an equillibrium point for $Q > 0$. \n",
        "\n",
        "At $Q = 0, D(Q) > S(Q)$.  This will be the first lower bound for the search.  Use $Q = 500$ as the first upper bound since at this point, $D(Q) < S(Q)$.\n",
        "\n",
        "At each iteration, choose a random number, $Q_i$ between the lower bound and the upper bound.  If $D(Q_i) > S(Q_i)$, set the next lower bound to $Q_i$. Otherwise, set the next upper bound to $Q_i$.  Continue until the tolerance level (the difference between the upper bound and the lower bound) is less than one.  At that point, the integer equilibrium value of $Q_{eq}$ will be the only integer value between the bounds.\n",
        "\n",
        "To speed the calculation use the triangular distribution ([`numpy.random.Generator.triangular`](https://numpy.org/doc/stable/reference/random/generated/numpy.random.Generator.triangular.html)) with the lower bound as the `left` parameter, the midpoint of the lower and upper bound as the `mode`, and the upper bound as the `right` parameter."
      ],
      "metadata": {
        "id": "rEc8Bst7Yr2h"
      }
    },
    {
      "cell_type": "code",
      "source": [
        ""
      ],
      "metadata": {
        "id": "7AyBhiaBAWjB"
      },
      "execution_count": null,
      "outputs": []
    },
    {
      "cell_type": "code",
      "source": [
        "Put code and results here"
      ],
      "metadata": {
        "id": "YfJHzR_o5HMw"
      },
      "execution_count": null,
      "outputs": []
    },
    {
      "cell_type": "markdown",
      "source": [
        "Put your value for the equilibrium quantity and price (to two decimal places) here."
      ],
      "metadata": {
        "id": "eBpLgAclCtX-"
      }
    },
    {
      "cell_type": "markdown",
      "source": [
        "####b) [4 pts] Cusumer surplus.\n",
        "\n",
        "At the equilibrium price, some customers receive a lower price than they would have paid. The customer surplus, then, is the area between the equilibrium price and the demand curve from a quantity of 0 to the equilibrium quantity.  Use dart method from Monte Carlo integration to determine the customer surplus to two decimal places. Use 1,000,000 samples."
      ],
      "metadata": {
        "id": "ZGNlQlIHXIac"
      }
    },
    {
      "cell_type": "code",
      "source": [
        "Put code and results here"
      ],
      "metadata": {
        "id": "ChY6KevRX7nI"
      },
      "execution_count": null,
      "outputs": []
    },
    {
      "cell_type": "markdown",
      "source": [
        "Put your estimate of the consumer surplus rounded to two decimal places here."
      ],
      "metadata": {
        "id": "Ivwvz2UpYAQy"
      }
    },
    {
      "cell_type": "markdown",
      "source": [
        "####c) [6 pts] Producer surplus.\n",
        "At the equilibrium price, some producers receive a higher price than they would required. The producer surplus, then, is the area between the supply curve and the equilibrium price from a quantity of 0 to the equilibrium quantity.  Use the average area method from Monte Carlo integration to determine the producer surplus to two decimal places. Since each random draw gives you a height, it also gives you a sample of the area.  Use these sample areas to determine the average area and the standard deviation for these samples.  Finally, determine the standard deviation of the average area."
      ],
      "metadata": {
        "id": "YtGBiGC1Uxaz"
      }
    },
    {
      "cell_type": "code",
      "source": [
        "Put code and results here."
      ],
      "metadata": {
        "id": "GWlh_esGahFd"
      },
      "execution_count": null,
      "outputs": []
    },
    {
      "cell_type": "markdown",
      "source": [
        "Put your estimate for producer surplus, the standard deviation for the sample, and the standard deviation for the averages rounded to two decimal places here."
      ],
      "metadata": {
        "id": "FRj5uRHuagTf"
      }
    },
    {
      "cell_type": "markdown",
      "source": [
        "####3. [22 points total] Call up the reserves!\n",
        "One of the most difficult decisions for a commander is how many forces to put engaged on the front lines and how many to hold back to reinforce later.\n",
        "\n",
        "Consider the Dewar simulation developed in class and included below. In each of the following questions, represent a battle between red and blue forces in which red has a total of 3,400 soldiers and blue has a total of 2,100 soldiers. To answer the questions, you may (will) need to make some adjustments to the simulation."
      ],
      "metadata": {
        "id": "3LskwyqHXKn0"
      }
    },
    {
      "cell_type": "markdown",
      "source": [
        "####a) [7 pts] Plan A.\n",
        "\n",
        "Red initially plans to attack with 1,900 holding 1,500 for reinforcements and blue defends with 600 holding 1,500 for reinforcements.  Assume all other assumptions of the Dewar model are maintained.  To make it easier to answer the following questions, you may need to make some small adjustments to your simulation.\n",
        "1.\tWho wins?\n",
        "2.\tAfter how many time units?\n",
        "3.\tWhich of the four withdraw criteria caused the withdraw?\n",
        "4.\tRounding to two decimal places, how many red forces (those that were engaged as well as those that were in reserve) at the time of the withdraw? to the nearest 1%, what percent of the total red forces as casualties?\n",
        "5.\tRounding to two decimal places, how many blue forces (those that were engaged as well as those that were in reserve) at the time of the withdraw? To the nearest 1%, what percent of the total blue forces are casualties?\n",
        "6.  Summarize the changes you made to the code to get these answers."
      ],
      "metadata": {
        "id": "m6vGN4gyd9sk"
      }
    },
    {
      "cell_type": "code",
      "source": [
        "import numpy as np\n",
        "import matplotlib.pyplot as plt"
      ],
      "metadata": {
        "id": "FG7fY0Migv8f"
      },
      "execution_count": null,
      "outputs": []
    },
    {
      "cell_type": "code",
      "source": [
        "def attrition(friendly, enemy, factor): \n",
        "    return max(0,friendly - factor*enemy)\n",
        "\n",
        "def reinforcements(period, forces, reinf, force_ratio, blocks, thresholds):\n",
        "    activated = [0, 0] #reinforcements called up\n",
        "    for iside, side in enumerate(sides):\n",
        "        reinforce_details = ' '\n",
        "        neg_red = 2*iside-1\n",
        "        if blocks[iside][0] > 0 and np.sum(reinf[iside][max(0,period-blocks[iside][2]):period]) == 0:\n",
        "            if force_ratio*neg_red >= thresholds[iside][0]*neg_red:\n",
        "                reinforce_details = 'Force Ratio: {0:5.3f} {1:4.1f} '.format(force_ratio, thresholds[iside][0])\n",
        "            if forces[iside][period] <= thresholds[iside][1]:\n",
        "                reinforce_details = reinforce_details + 'Engaged: {0:5.3f} {1:4.1f}'.format(forces[iside][period], thresholds[iside][1])\n",
        "        if reinforce_details != ' ':\n",
        "            #print(side+' reinforces at', period, reinforce_details)\n",
        "            blocks[iside][0] -= 1\n",
        "            activated[iside] = blocks[iside][1]\n",
        "    return blocks, activated\n",
        "\n",
        "def withdrawn(period, forces, force_ratio, thresholds):\n",
        "    withdraw = [False, '']\n",
        "    for iside, side in enumerate(sides):\n",
        "        withdraw_details = ' '\n",
        "        neg_red = 2*iside-1 \n",
        "        if force_ratio*neg_red >= thresholds[iside][0]*neg_red:\n",
        "            withdraw_details = 'Force Ratio: {0:5.3f} {1:4.1f} '.format(force_ratio, thresholds[iside][0])\n",
        "        if forces[iside][period] <= thresholds[iside][1]:\n",
        "            withdraw_details = withdraw_details + 'Engaged: {0:5.3f} {1:4.1f}'.format(forces[iside][period], thresholds[iside][1])\n",
        "        if withdraw_details != ' ':\n",
        "            if withdraw[0]: withdraw[1] += ' & '\n",
        "            withdraw[0] = True\n",
        "            withdraw[1] += side\n",
        "            #print(side+' withdraws at', period, withdraw_details)\n",
        "    return withdraw"
      ],
      "metadata": {
        "id": "EhWz_Etae3uO"
      },
      "execution_count": null,
      "outputs": []
    },
    {
      "cell_type": "code",
      "source": [
        "def Dewar_Sim(init_red, init_blue):\n",
        "    red = []\n",
        "    red = np.append(red, init_red)\n",
        "    red_reinf = []\n",
        "\n",
        "    blue = []\n",
        "    blue = np.append(blue, init_blue)\n",
        "    blue_reinf = []\n",
        "\n",
        "    blocks = [[5, 300, 70], [5, 300, 70]]\n",
        "    reinforce_thresholds = [[2.5, 0.8*red[0]],[4.0, 0.8*blue[0]]]\n",
        "    withdraw_thresholds = [[1.5, 0.7*red[0]],[10.0, 0.7*blue[0]]]\n",
        "\n",
        "    period = 0\n",
        "    FR = red[0]/blue[0]\n",
        "    withdraw = withdrawn(period, (red, blue), FR, withdraw_thresholds)\n",
        "    while not(withdraw[0]):\n",
        "        #Reinforcements\n",
        "        blocks, activated = reinforcements(period, (red, blue), (red_reinf, blue_reinf), FR, blocks, reinforce_thresholds)\n",
        "        red_reinf = np.append(red_reinf, activated[0])\n",
        "        blue_reinf = np.append(blue_reinf, activated[1])\n",
        "        #Add prior reinforcements, if any\n",
        "        if period >=70:\n",
        "            blue[period] += blue_reinf[period-70]\n",
        "            red[period] += red_reinf[period-70]\n",
        "        #Atrrition calculation\n",
        "        blue = np.append(blue, attrition(blue[period], red[period], 1/2048))\n",
        "        red = np.append(red, attrition(red[period], blue[period], 1/512))\n",
        "\n",
        "        period += 1\n",
        "        FR = red[period]/blue[period]\n",
        "        withdraw = withdrawn(period, (red, blue), FR, withdraw_thresholds)\n",
        "\n",
        "    return withdraw[1]"
      ],
      "metadata": {
        "id": "KZEN0drYe_-5"
      },
      "execution_count": null,
      "outputs": []
    },
    {
      "cell_type": "code",
      "source": [
        "winner = []\n",
        "sides = ['red', 'blue']\n",
        "#Figure 2\n",
        "for red in range(700,1800,10):\n",
        "    winner = np.append(winner, Dewar_Sim(red, 500)=='blue')"
      ],
      "metadata": {
        "id": "nlbP_9Clu9Of"
      },
      "execution_count": null,
      "outputs": []
    },
    {
      "cell_type": "markdown",
      "source": [
        "Put your 6 answers here:\\\n",
        "a 1) \\\n",
        "a 2) \\\n",
        "a 3) \\\n",
        "a 4) \\\n",
        "a 5) \\\n",
        "a 6)"
      ],
      "metadata": {
        "id": "kK7bY65cW7UB"
      }
    },
    {
      "cell_type": "markdown",
      "source": [
        "####b) [15 pts] Plan B.\n",
        "The red commander, Gen. Rich, is aware that blue is putting 600 soldiers on the front line and holding 1,500 as reinforcements.  Gen. Rich believes there must be a strategy for employing his forces that allows him to win (his primary desire) and with the win, to preserve as many of his soldiers as possible (his secondary desire).\n",
        "\n",
        "Gen. rich knows that he must attack with at least 1,800 of his men in order to have a 3:1 advantage.  He will not consider a strategy with less than this initial attacking force.  Of course, he cannot attack with more than 3,400 (his maximum number of forces). Furthermore, he is only interested in increments of 10 soldiers from (and including) 1,800 to 3,400.\n",
        "\n",
        "Whatever forces he does not use in the initial attack are kept in reserve and used according to the threshold, quanity in a block, and delay rules.  \n",
        "\n",
        "As he thinks this through, he realizes that he might want to attack with an initial force that does not leave a number of reinforcements that is evenly divisible by 300 (the quantity in each reinforcement block).  In this case, all but the last reinforcement block will have 300 and the last one will have the remainder.  For example, if he attacks with 2,600 soldiers, he will have 800 in reserve.  This will allow him to have three reinforcement blocks.  The first two will have 300 and the last one will have the remaining 200."
      ],
      "metadata": {
        "id": "VSdEmHuWN5a2"
      }
    },
    {
      "cell_type": "markdown",
      "source": [
        "b 1) Is Gen. Rich able to find a reinforcement strategy that allows him to win?  Describe the changes you made to your code to answer this question.  Also, provide a version of you code with comments showing what you changed."
      ],
      "metadata": {
        "id": "LXbtbp-ERFm8"
      }
    },
    {
      "cell_type": "code",
      "source": [
        "Provide code and results here."
      ],
      "metadata": {
        "id": "n83oi7iwqfUN"
      },
      "execution_count": null,
      "outputs": []
    },
    {
      "cell_type": "markdown",
      "source": [
        "b 1) Provide answer and description here."
      ],
      "metadata": {
        "id": "diqWJDt6R0pW"
      }
    },
    {
      "cell_type": "markdown",
      "source": [
        "####If Gen. Rich is able to find a winning strategy, answer these questions: \n",
        "2.\tHow many red forces are initially engaged? How many are initially held as reinforcements?\n",
        "3.\tAfter how many time units?\n",
        "4.\tWhich of the four withdraw criteria caused the withdraw?\n",
        "5.\tRounding to two decimal places, how many blue forces (those that were engaged as well as those that were in reserve) at the time of the withdraw?\n",
        "6. Rounding to two decimal places, how many blue forces (those that were engaged as well as those that were in reserve) at the time of the withdraw?"
      ],
      "metadata": {
        "id": "aN8wFBA0YPQe"
      }
    },
    {
      "cell_type": "code",
      "source": [
        "Provide code and results here."
      ],
      "metadata": {
        "id": "qickSbKRvLK6"
      },
      "execution_count": null,
      "outputs": []
    },
    {
      "cell_type": "markdown",
      "source": [
        "Put your 5 answers here:\\\n",
        "b 2) \\\n",
        "b 3) \\\n",
        "b 4) \\\n",
        "b 5) \\\n",
        "b 6)"
      ],
      "metadata": {
        "id": "93wbkN7vbzbL"
      }
    }
  ]
}