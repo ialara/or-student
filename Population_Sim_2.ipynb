{
  "nbformat": 4,
  "nbformat_minor": 0,
  "metadata": {
    "colab": {
      "name": "Population Sim 2.ipynb",
      "provenance": [],
      "authorship_tag": "ABX9TyNhxI8+mG6pfIi2lzYqIUbo",
      "include_colab_link": true
    },
    "kernelspec": {
      "name": "python3",
      "display_name": "Python 3"
    },
    "language_info": {
      "name": "python"
    }
  },
  "cells": [
    {
      "cell_type": "markdown",
      "metadata": {
        "id": "view-in-github",
        "colab_type": "text"
      },
      "source": [
        "<a href=\"https://colab.research.google.com/github/ialara/or-student/blob/main/Population_Sim_2.ipynb\" target=\"_parent\"><img src=\"https://colab.research.google.com/assets/colab-badge.svg\" alt=\"Open In Colab\"/></a>"
      ]
    },
    {
      "cell_type": "code",
      "execution_count": null,
      "metadata": {
        "id": "U2MMr1jcuG12"
      },
      "outputs": [],
      "source": [
        "# Sim #2 Plus plot and recording yearly population\n",
        "import numpy as np\n",
        "import matplotlib.pyplot as plt"
      ]
    },
    {
      "cell_type": "code",
      "source": [
        "#Initialize variables\n",
        "daily_population = 50\n",
        "day = 0\n",
        "year = 0\n",
        "\n",
        "population=np.zeros(10000) #Added\n",
        "\n",
        "population[0] = daily_population\n",
        "while daily_population < 1000000:\n",
        "  daily_population *= growth_factor\n",
        "  day += 1\n",
        "  if day == 365:\n",
        "    population[year] = daily_population #Added\n",
        "    day = 0\n",
        "    year += 1\n",
        "\n",
        "years=np.arange(10000) #Added\n",
        "#plt.xlim([0,50]) #Added\n",
        "#plt.ylim([0,200]) #Added\n",
        "plt.plot(years[0:year],population[0:year]) #Added\n",
        "print('Year: %3d, Day:  %3d, Population: %7.1f' % (year, day, daily_population))"
      ],
      "metadata": {
        "id": "RIFd7wE4urNd"
      },
      "execution_count": null,
      "outputs": []
    }
  ]
}